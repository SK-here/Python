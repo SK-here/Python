{
 "cells": [
  {
   "cell_type": "markdown",
   "id": "800c9c33",
   "metadata": {},
   "source": [
    "# #100DaysOf Python\n",
    "\n",
    "> **Introduction:** *In this series I'm taking challenge to learn Python from Basics to Intermediate to advance level while diving deep into Programming Fundamentals & Python Programming in 100 Days.*"
   ]
  },
  {
   "cell_type": "markdown",
   "id": "bb74b5ad",
   "metadata": {},
   "source": [
    "## Day One - What is Python"
   ]
  },
  {
   "cell_type": "markdown",
   "id": "d64f93d3",
   "metadata": {},
   "source": [
    "**Motivation:** *`\"Everyone starts at where you are right now\"`*"
   ]
  },
  {
   "cell_type": "markdown",
   "id": "277c62e4",
   "metadata": {},
   "source": [
    "**What is Programming?**\n",
    "\n",
    "**Answer:** The art of writing step by step instruction to perform some task is known as programming. as computer  only understands the 1's and 0's (binary language) so in order to write program for computers, programming languages are used. The programming languages are the step by step instructions written in higher level languages (such as C++, C, Python, Java, JavaScript) that human can easily understand and write the instructions and then it gets converted into computer understandable language i.e. 1's and 0's or Binary Language.\n",
    "\n",
    "The code written in any programming languages is genereally referred to as **source code**.\n",
    "\n",
    "Programming languages are often derived using ***Syntax and semantics*** similarly to any other human languages.\n",
    "\n",
    "> ***Syntax:*** Syntax are the rules that defines how each instruction is written. while,\n",
    "\n",
    "> ***Semantics:*** Semantics helps in identifying the actual meaning or effect of instructions.\n",
    "\n",
    "Since *Python* is one of a scripting language which is used to write scripts, here scripts defined as, \n",
    "> ***Script:*** Scripts are the short, simple and quickly writeable computer program with very short development cycle."
   ]
  },
  {
   "cell_type": "markdown",
   "id": "8e4bbf61",
   "metadata": {},
   "source": [
    "**What is Automation?**\n",
    "In simple terms automation refers to the process of performing the task that is needed to perform repeatedly with little to no human intervention in between.\n",
    "\n",
    "In computer programming it can be achieved using piece of code / program or software.\n",
    "\n",
    "***Example:*** Sending of same email to multiple clients on a periodic basis or sending a newletter to the subscribers.\n",
    "\n",
    "***Advantages:***\n",
    "- Saves time\n",
    "- Reduce Errors\n",
    "- Increased Consistancy\n",
    "- Provides a way to centralize Solutions\n",
    "- Better Approach for repetative and Tedious Tasks\n",
    "\n",
    "Although, Knowing where to apply automation is also crucial as automation itself. e.g. it's not worthy to  automate a task that requires more time & Efforts to write a complex script than the task itself and the task also not repeated very often.\n",
    "\n",
    "Items that should not be fully automated due to costs and safety:\n",
    "\n",
    "-    Grocery store checkout process, including bagging groceries\n",
    "-    Tasks that are less expensive to perform manually"
   ]
  },
  {
   "cell_type": "markdown",
   "id": "df1242dc",
   "metadata": {},
   "source": [
    "**Some Programming Definations:**\n",
    "Programming code - Programming code is a set of written computer instructions, guided by rules, using a computer programming language. It might help to think of the computer instructions as a detailed, step-by-step recipe for performing tasks. The instructions tell computers and machines how to perform an action. Programming code may also be referred to as source code or scripts.\n",
    "\n",
    "> - ***Programming languages*** - Programming languages are similar to human spoken languages in that they both use syntax and semantics. Programming languages are used to write computer programs.  Some common programming languages include Python, Java, C, C++, C#, and R.\n",
    "\n",
    "> - ***Syntax*** - Syntax is a set of rules for how statements are constructed in both human and computer languages. Programming syntax includes rules for the order of elements in programming instructions, as well as the use of special characters and their placements in statements. This concept is similar to the syntax rules for grammar and punctuation in human language.\n",
    "\n",
    "> - ***Semantics*** - Semantics refers to the intended meaning or effect of statements, or collections of words, in both human and computer languages. Semantic errors are also referred to as logical errors.\n",
    "\n",
    "> - ***Computer program*** - A computer program is a step-by-step list of instructions that a computer follows to reach an intended goal. It is important to be clear and precise about the actions a computer program is supposed to perform because computers will do exactly what they are instructed to do. Computer programs can be long, complex, and accomplish a variety of tasks. They are often developed by computer programmers and software engineers, but anyone can learn to create them. Computer programs may involve a structured development cycle. They can be written in a wide variety of programming languages, such as Python, Java, C++,  R, and more. The completed format of a program is often a single executable file.\n",
    "\n",
    "> - ***Script*** - Scripts are usually shorter and less complex than computer programs. Scripts are often used to automate specific tasks. However, they can be used for complex tasks if needed. Scripts are often written by IT professionals, but anyone can learn to write scripts. Scripts have a shorter, less structured development cycle as compared to the development of complex computer programs and software. Scripts can be written in a variety of programming languages, like Python, Javascript, Ruby, Bash, and more. Some scripting languages are interpreted languages and are only compatible with certain platforms.\n",
    "\n",
    "> - ***Automation*** - Automation is used to replace a repetitive manual step with one that happens automatically. \n",
    "\n",
    "> - ***Output*** - Output is the end result of a task performed by a function or computer program. Output can include a single value, a report, entries into a database, and more. \n",
    "\n",
    "> - ***Input*** - Input is information that is provided to a program by the end user. Input can be text, voice, images, biometrics, and more.   \n",
    "\n",
    "> - ***Functions*** - A function is a reusable block of code that performs a specific task.\n",
    "\n",
    "> - ***Variables*** - Variables are used to temporarily store changeable values in programming code. "
   ]
  },
  {
   "cell_type": "markdown",
   "id": "abb14d26",
   "metadata": {},
   "source": [
    "#### Synatax and Semantic Errors:\n",
    "\n",
    "When writing code, using correct syntax is critical. Even a small typo, like a missing parenthesis bracket or an extra comma, can cause a syntax error and the code won't execute at all. If your code results in an error or an exception, pay close attention to syntax and watch out for minor mistakes. A single wrong character could take hours to identify in long code so it is important to be mindful of syntax when writing code. \n",
    "\n",
    "***Common syntax errors:***\n",
    "\n",
    "- Misspellings\n",
    "- Incorrect indentations\n",
    "- Missing or incorrect key characters:\n",
    "    - Bracket types - ( curved ), [ square ], { curly }\n",
    "    - Quote types - \"straight-double\" or 'straight-single', “curly-double” or ‘curly-single’\n",
    "    - Block introduction characters, like colons - :\n",
    "\n",
    "- Data type mismatches\n",
    "- Missing, incorrectly used, or misplaced Python reserved words\n",
    "- Using the wrong case (uppercase/lowercase) - Python is a case-sensitive language \n",
    "\n",
    "If your syntax is correct, but the script has unexpected behavior or output, this may be due to a semantic problem. Syntax is like the vocabulary, grammar, spelling, and punctuation of code. Semantics are the meaning and logic of coded statements. It is possible to have syntactically correct code that runs successfully, but doesn't do what we want it to do.\n",
    "\n",
    "***Common semantic errors:***\n",
    "\n",
    "- Creating functional code, but getting unintentional output\n",
    "- Poor logic structures in the design of the code\n",
    "\n",
    "When working with the code blocks in exercises for this course, be mindful of syntax and semantic (logic) errors, along with the overall result of your code. Just because you fixed an error doesn't mean that the code will have the desired effect when it runs! Once you’ve fixed an error in your code, don't forget to click Run to check your work."
   ]
  },
  {
   "cell_type": "markdown",
   "id": "28e5c26f",
   "metadata": {},
   "source": [
    "## What is Python?\n",
    "\n",
    "Python is a Interpreter based programming cum scripting language developed by Guido Van Rossum in 1991 and since then the involvement of python and it's popularity has grown alot and whenever a new modifications to the language/Syntax/Semantics are introduced a new version of python is released, In 2000s Python 2 was released, in 2008 Python 3 was released and as of now python is released upto v3.11.\n",
    "\n",
    "Since the development of python has begun the popularity of python has increased and still increasing till date thus, it's a one of the language that has huge developers commuity support and used in almost any field such as Networking, Automation, Data Science, Machine Learning, Backend Development, CyberSecurity, etc. Althoug it's not applicable where bare metal performance is requried with little to no latency.\n",
    "\n",
    "***Features:***\n",
    "- Easy to write and understand\n",
    "- Huge Community Support\n",
    "- Applicable in wide variety of area\n",
    "- Supports microcontroller programming\n",
    "- Dynamically Typed\n",
    "- Platform Independent\n",
    "\n",
    "Even thought it has quite a features that can be very useful but like other programming language there are some downsides of python too...\n",
    "\n",
    "***Downsides/Drawbacks:***\n",
    "\n",
    "- High Memory Usage\n",
    "- Not Suitable for performance cruicial applications\n",
    "- Prone to oversuse or misuse\n",
    "- Not Optimized for Database (Like JDBC)"
   ]
  },
  {
   "cell_type": "markdown",
   "id": "dbc7c703",
   "metadata": {},
   "source": [
    "***Example for python V/s Other Languages***\n",
    "\n",
    "> *Consider a program to print \"Welcome\" 10 times*\n",
    ">\n",
    "> ***Python:***\n",
    "> ```Python\n",
    "> for i in range (10):\n",
    ">     print(\"Welcome\")\n",
    "> ```\n",
    "> \n",
    "> ***Bash:***\n",
    "> ```Bash\n",
    "> for i in {1..0};\n",
    ">     do\n",
    ">         echo \"Welcome\"\n",
    ">    done\n",
    "> ```\n",
    "> ***PowerShell:***\n",
    "> ```Powershell\n",
    "> for ($i=1 ; $i -le 10; $i++){\n",
    ">     Write-Host \"Welcome\"> \n",
    "> }\n",
    "> ```\n",
    "> \n",
    "> ***C++:***\n",
    "> \n",
    "> ```C++\n",
    "> # include <iostream>\n",
    "> int main(){\n",
    ">     std::cout << \"Welcome\";\n",
    ">    }\n",
    "> ```\n",
    "> \n",
    "> ***Java:***\n",
    "> ```Java\n",
    "> class Output{\n",
    ">     public static void main(String args []){\n",
    ">         for (int i = 0; i < 10 ; i++){\n",
    ">             System.out.println(\"Welcome\");\n",
    ">         }\n",
    ">     }\n",
    "> };\n",
    "> ```\n",
    "\n",
    "So, Even though the syntax are diffrenct across multiple programming language but they all are printing the same output eventually."
   ]
  },
  {
   "cell_type": "markdown",
   "id": "2d701747",
   "metadata": {},
   "source": [
    "In a nutshell, *Python is a general purpose programming language that is commonly used for scripting and automation, as well as to develop a wide variety of applications. Python is compatible with most operating systems, including Windows, Linux, and Mac OS, and is updated every few years. Python can also run on a variety of machines, such as servers, workstations, PCs, mobile devices, IoT, and more.*\n",
    "\n",
    "Python is widely used in the IT field, including IT support, system administration, web development, machine learning, data analytics, and more. Python can be used to calculate statistics, run your e-commerce site, process images, interact with web services, and do a whole host of other tasks. Python instructions resemble the English language, which is what makes it easier to learn and understand when compared to other programming languages.\n",
    "\n",
    "***Python is:***\n",
    "\n",
    "-    *A general purpose scripting language;*\n",
    "-    *A popular language used to code a variety of applications;*\n",
    "-    *A frequently used tool for automation;*\n",
    "-    *A cross-platform compatible language;*\n",
    "-    *A beginner-friendly language.*\n",
    "\n",
    "***Python is not:***\n",
    "\n",
    "-    *A platform-specific / OS-specific scripting language;*\n",
    "-    *A client-side scripting language;*\n",
    "-    *A purely object-oriented programming language.*\n",
    "\n",
    "**Key Terms**\n",
    "\n",
    "> - ***Platform-specific / OS specific scripting language*** *- Platform-specific scripting languages, like PowerShell (for Windows) and Bash (for Linux), are used by system administrators on those platforms.* \n",
    "\n",
    "> - ***Client-side scripting language*** *- Client-side scripting languages, like JavaScript, are used mostly for web programming. The scripts are transferred from a web server to the end-user’s internet browser, then executed in the browser.*\n",
    "\n",
    "> - ***Machine language*** *- Machine language is the lowest-level computer language. It communicates directly with computing machines in binary code (ones and zeros). In binary code, one equals a pulse of electricity and zero equals no electrical pulse. Machine language instructions are made from translating languages like Python into complex patterns of ones and zeros.*\n",
    "\n",
    "> - ***Cross-platform language*** *- Programming language that is compatible with one or more platforms / operating systems (e.g., Windows, Linux, Mac, iOS, Android).*\n",
    "\n",
    "> - ***Object-oriented programming language*** - *In object-oriented programming languages, most coding elements are considered to be objects with configurable properties. For example, a form field is an object that can be configured to accept only dates as input in the mm/dd/yy format, and can be configured to read from and write to a specific database.*\n",
    "    \n",
    ">  - ***Python interpreter*** *- An interpreter is the program that reads and executes Python code by translating Python code into computer instructions.*"
   ]
  },
  {
   "cell_type": "markdown",
   "id": "f8dcd3a4",
   "metadata": {},
   "source": [
    "#### Python \"Hello World\""
   ]
  },
  {
   "cell_type": "code",
   "execution_count": 20,
   "id": "57fc4c4c",
   "metadata": {},
   "outputs": [
    {
     "name": "stdout",
     "output_type": "stream",
     "text": [
      "Hello, World!\n"
     ]
    }
   ],
   "source": [
    "print (\"Hello, World!\")"
   ]
  },
  {
   "cell_type": "markdown",
   "id": "910034ec",
   "metadata": {},
   "source": [
    "In above code print() is a keyword and a function that is used to output the given input to the console.\n",
    "Here, the 'Hello World' was written inside the quation `\"` marks e.g. it tells the python interpreter to interprit anything inside the `\"` or `'` as a string. Also, python does not diffrentiate between `'` and `\"` \n",
    "\n",
    "whereas,\n",
    "*Function* A function is a piece of code that performs a unit of work. In the example above, the print() function,  outputs a message to the screen. It will be useful and will be used very frequently to check the results of your code. The syntax of the print() function is modeled in the example below.\n",
    "\n",
    "*Keywords* A keyword is a reserved word in a programming language that performs a specific purpose. In first example, the keywords `for` and `in` were the example. \n",
    "\n",
    "> ***Note:*** keywords will often appear in bold in this course. \n",
    "\n",
    "Few python keywords\n",
    "\n",
    "- *Values: `True`, `False`, `None`*\n",
    "- *Conditions: `if`, `elif`, `else`*\n",
    "- *Logical operators: `and`, `or`, `not`*\n",
    "- *Loops: `for`, `in`, `while`, `break`, `continue`*\n",
    "- *Functions: `def`, `return`*\n",
    "\n",
    "It's a best practice to not use reserved words while programming for other tasks or naming variables. In some cases it will produce errors while in some cases it might run but it will confse the compile/interpreter and will lead to bug."
   ]
  },
  {
   "cell_type": "markdown",
   "id": "434049c3",
   "metadata": {},
   "source": [
    "#### Python Data Input\n",
    "In python data can be provided using variables"
   ]
  },
  {
   "cell_type": "code",
   "execution_count": 21,
   "id": "048c9725",
   "metadata": {},
   "outputs": [],
   "source": [
    "# 'Andrew' is a string type value assigned to variable name called 'Name'\n",
    "# '=' is assignment operator\n",
    "Name = 'Andrew'"
   ]
  },
  {
   "cell_type": "markdown",
   "id": "4ac84e36",
   "metadata": {},
   "source": [
    "#### More on print()"
   ]
  },
  {
   "cell_type": "code",
   "execution_count": 22,
   "id": "912cef6f",
   "metadata": {},
   "outputs": [
    {
     "name": "stdout",
     "output_type": "stream",
     "text": [
      "9\n"
     ]
    }
   ],
   "source": [
    "# Addition\n",
    "print(4+5)"
   ]
  },
  {
   "cell_type": "code",
   "execution_count": 23,
   "id": "1429aef6",
   "metadata": {},
   "outputs": [
    {
     "name": "stdout",
     "output_type": "stream",
     "text": [
      "42\n"
     ]
    }
   ],
   "source": [
    "# Multiplication\n",
    "print(6*7)"
   ]
  },
  {
   "cell_type": "code",
   "execution_count": 24,
   "id": "b5e5e55a",
   "metadata": {},
   "outputs": [
    {
     "name": "stdout",
     "output_type": "stream",
     "text": [
      "42.0\n"
     ]
    }
   ],
   "source": [
    "# Simple maths\n",
    "print(((2050/5)-32)/9)"
   ]
  },
  {
   "cell_type": "code",
   "execution_count": 25,
   "id": "e593e3f9",
   "metadata": {},
   "outputs": [
    {
     "name": "stdout",
     "output_type": "stream",
     "text": [
      "1024\n"
     ]
    }
   ],
   "source": [
    "# power\n",
    "print(2**10)"
   ]
  },
  {
   "cell_type": "markdown",
   "id": "6e79fae4",
   "metadata": {},
   "source": [
    "Above discussed in example were arithmatic operators.\n",
    "\n",
    "**Arithmetic operators**\n",
    "\n",
    "Python can calculate numbers using common mathematical operators, along with some special operators, too:  \n",
    "\n",
    "| Example  |  Operation | Sign | Description |\n",
    "|:---|:----|:---: |:---|\n",
    "|x + y | Addition   | + |operator returns the sum of x plus y|\n",
    "|x - y |Subtraction | - |operator returns the difference of x minus y|\n",
    "|x * y   |Multiplication | * | operator returns the product of x times y|\n",
    "|x / y   |Division| / |operator returns the quotient of x divided by y|\n",
    "|x**e    |Exponent | ** |operator returns the result of raising x to the power of e| \n",
    "|x**2    |Square | **2 | expression returns x squared|\n",
    "|x**3    |Cube | **3 | expression returns x cubed|\n",
    "|x**(1/2)|Square root |(½) or (0.5) | fractional exponent operator returns the square root of x|\n",
    "|x // y  |Floor division | // | operator returns the integer part of the integer division of x by y|\n",
    "|x % y   |Modulo operator| % | returns the remainder part of the integer division of x by y|\n",
    "\n",
    "***Order of operations***\n",
    "\n",
    "*The order of operations are to be calculated from left to right in the following order:*\n",
    "\n",
    "- Parentheses ( ), { }, [ ]\n",
    "\n",
    "- Exponents xe   (x**e)\n",
    "\n",
    "- Multiplication * and Division /  \n",
    "\n",
    "- Addition + and Subtraction -    \n",
    "\n",
    " You might find the **PEMDAS** mnemonic device to be helpful in remembering the order.\n",
    " \n",
    "\n",
    "***Thanks***\n",
    "\n",
    "~ SK"
   ]
  }
 ],
 "metadata": {
  "kernelspec": {
   "display_name": "Python 3 (ipykernel)",
   "language": "python",
   "name": "python3"
  },
  "language_info": {
   "codemirror_mode": {
    "name": "ipython",
    "version": 3
   },
   "file_extension": ".py",
   "mimetype": "text/x-python",
   "name": "python",
   "nbconvert_exporter": "python",
   "pygments_lexer": "ipython3",
   "version": "3.11.3"
  }
 },
 "nbformat": 4,
 "nbformat_minor": 5
}
