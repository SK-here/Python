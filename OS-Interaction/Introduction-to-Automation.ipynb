{
 "cells": [
  {
   "cell_type": "markdown",
   "id": "5afe53ad-ed40-4281-b43f-70fb65d43913",
   "metadata": {},
   "source": [
    "## Introdution To Operating System Interaction with Python"
   ]
  },
  {
   "cell_type": "markdown",
   "id": "c61d5c7d-2dcb-4362-8680-673ef49b6218",
   "metadata": {},
   "source": [
    "Before diving into Python let's talk about Operating Systems `(OS)`\n",
    "> Operating Systems are a group of software that provides an interface to interact with computing hardware and manages everything that goes on in the computer ranging from resource management such as disk, memory & network to process management and I/O management.\n",
    ">\n",
    "> Such as,\n",
    "> - How to read/write from disk\n",
    "> - How to send/receive network packets\n",
    "> - How to allocate/deallocate/reallocate memory to each computer program\n",
    "> - How to handle I/O and Processes, etc."
   ]
  },
  {
   "cell_type": "markdown",
   "id": "9fe4e73b-af51-4143-b8d1-293e47e7757c",
   "metadata": {},
   "source": [
    "Here, Operating System or OS is divided into two main parts:\n",
    "1. **The Kernel**\n",
    "2. **The User Space**"
   ]
  },
  {
   "cell_type": "markdown",
   "id": "2efe1dbf-6458-42de-aefe-0a76ed4fdfa0",
   "metadata": {},
   "source": [
    "1. **The Kernel**\n",
    "   The Kernel Space manages hardware and system resources such as disk, memory & network. as a user we normally don't interact with kernel directly due to restricted access by OS instead an OS alloctes the `user space` to interact with the system"
   ]
  },
  {
   "cell_type": "markdown",
   "id": "2bce73d9-3944-40d3-9881-c4b54f1abd8d",
   "metadata": {},
   "source": [
    "2. The userspace is a part of a operating system with which we interact and resides completely outside of the kernel space, The `Userspace` includes all the programs which we use."
   ]
  },
  {
   "cell_type": "markdown",
   "id": "8df1adb9-6457-4830-b3bc-336e2c43e49c",
   "metadata": {},
   "source": [
    "Since many operating systems are out there, we will use LINUX as a major operating system for our exercises. To run the scripts from example consider knowing specifications for your operating system.\n",
    "\n",
    "But, first we might wanna start by setting up environment"
   ]
  },
  {
   "cell_type": "markdown",
   "id": "31ecf410-59e4-422d-8427-0d3a5977e703",
   "metadata": {},
   "source": [
    "### 1) Setting Up Environment in Windows"
   ]
  },
  {
   "cell_type": "markdown",
   "id": "d33a428a-5a9d-49aa-ace1-f4dacb06a2b6",
   "metadata": {},
   "source": [
    "- First of all open up the terminal (Powershell) in your Windows computer and run `python --version` to check  whether the python is installed or not\n",
    "- If not then head to the [Download Python Installer for Windows](https://python.org/downloads/windows)\n",
    "- Download the `Python3` Installer for 32 Bit or 64 Bit Based on your CPU Architecture and install it on your system\n",
    "> Note: To perform Installation you need admin access to your system\n",
    "- Once you double-click the installer do not forget to click on add `Python to environment path` to access it via any shell system-wide. \n",
    "- Again, open the Powershell window, type the command described in the first step, and verify whether the installation has succeeded."
   ]
  },
  {
   "cell_type": "markdown",
   "id": "07c3abd3-94fe-4906-a76a-e1588b8eb036",
   "metadata": {},
   "source": [
    "### 2) Setting Up Environment in MacOs"
   ]
  },
  {
   "cell_type": "markdown",
   "id": "7cfecade-4ac1-4db0-a343-095783014e67",
   "metadata": {},
   "source": [
    "- Open terminal and type `python --version` and check whether python3 is installed\n",
    "- If version is showing to **'python 2'** then type `python3 --version` to check whether the python3 is installed.\n",
    "- Again go to browser and download the python installer from the [Website](https://www.python.org/downloads/macos/)\n",
    "- Install the python3 that suitable for your system\n",
    "- Again head back to terminal and perform the step 2 to verify the installer"
   ]
  },
  {
   "cell_type": "markdown",
   "id": "3c929c79-b89b-424d-a898-5401c9c45f30",
   "metadata": {},
   "source": [
    "### 3) Setting Up Environment in Linux"
   ]
  },
  {
   "cell_type": "markdown",
   "id": "86ec75a3-7c07-4209-92bd-9ba5f4038f7d",
   "metadata": {},
   "source": [
    "Although in many Linux Distributions python comes preinstalled by default in case the minimalistic installation is performed or your distro doesn't ship the Python package installed by default, you can always refer to the package manager to install Python for your distribution.\n",
    "\n",
    "Below is a list of some commonly known package manager\n",
    "- sudo apt install python3\n",
    "- sudo dnf/yum install python3\n",
    "- sudo zypper install python3\n",
    "- sudo pacman -Sy python3\n",
    "\n",
    "> **Note:** In major cases python3 comes preinstalled in your system but you will need to install python package manager i.e. `pip` so to do that run,\n",
    "> - sudo apt install python3-pip\n",
    "> - sudo dnf/yum install python3-pip\n",
    "> - sudo zypper install python3-pip\n",
    "> - sudo pacman -Sy python3-pip"
   ]
  },
  {
   "cell_type": "code",
   "execution_count": null,
   "id": "e3aff5c4-565b-4cb2-a781-3aa7f2fae74d",
   "metadata": {},
   "outputs": [],
   "source": []
  }
 ],
 "metadata": {
  "kernelspec": {
   "display_name": "Python 3 (ipykernel)",
   "language": "python",
   "name": "python3"
  },
  "language_info": {
   "codemirror_mode": {
    "name": "ipython",
    "version": 3
   },
   "file_extension": ".py",
   "mimetype": "text/x-python",
   "name": "python",
   "nbconvert_exporter": "python",
   "pygments_lexer": "ipython3",
   "version": "3.9.18"
  }
 },
 "nbformat": 4,
 "nbformat_minor": 5
}
