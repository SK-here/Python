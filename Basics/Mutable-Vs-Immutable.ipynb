{
 "cells": [
  {
   "cell_type": "markdown",
   "metadata": {},
   "source": [
    "# Mutable V/s Immutable Objects\n",
    "#### @author: Saksham Trivedi aka Sk"
   ]
  },
  {
   "cell_type": "markdown",
   "metadata": {},
   "source": [
    "### To understand the concepts of:\n",
    "\n",
    "- Object’s identity, type, and value\n",
    "- What are mutable and immutable objects"
   ]
  },
  {
   "cell_type": "markdown",
   "metadata": {},
   "source": [
    "### Introduction (Objects, Values & Types):\n",
    "All the data in a Python code is represented by objects or by relations between objects. Every object has an identity, a type, and a value."
   ]
  },
  {
   "cell_type": "markdown",
   "metadata": {},
   "source": [
    "#### Identity:\n",
    "> An object’s identity never changes once it has been created; It can be considered as the object’s address in memory. The **is** operator compares the identity of two objects; the **id()** function returns an integer representing its identity."
   ]
  },
  {
   "cell_type": "markdown",
   "metadata": {},
   "source": [
    "#### Type:\n",
    "> An object’s type defines the possible values and operations (e.g. “does it have a length?”) that type supports. The **type()** function returns the type of an object. An object type is unchangeable like the identity."
   ]
  },
  {
   "cell_type": "markdown",
   "metadata": {},
   "source": [
    "#### Values: \n",
    "> The value of some objects can change. Objects whose value can change are said to be ***mutable***; objects whose value is unchangeable once they are created are called ***immutable.***\n",
    "\n",
    "The mutability of an object is determined by it's type"
   ]
  },
  {
   "cell_type": "markdown",
   "metadata": {},
   "source": [
    "#### Note:\n",
    "> - Some objects contain references to other objects, these objects are called **containers**. Some examples of containers are a ***tuple, list, and dictionary.***\n",
    "> - The **value of an immutable container** that contains a **reference to a mutable object can be changed** _if that mutable object is changed._\n",
    ">> However, the **container is still considered immutable because** when we talk about the mutability of a container ***only the identities of the contained objects are implied.***"
   ]
  },
  {
   "cell_type": "markdown",
   "metadata": {},
   "source": [
    "### Mutable & Immutable datatypes in Python\n",
    "#### - Mutable data types : list, dictionary, set and user-defined classes.\n",
    "#### - Immutable data types : int, float, decimal, bool, string, tuple, and range."
   ]
  },
  {
   "cell_type": "markdown",
   "metadata": {},
   "source": [
    "#### Let's understand with examples\n",
    "\n",
    "#### 1. Indexing (Lists & Tuples)"
   ]
  },
  {
   "cell_type": "code",
   "execution_count": 1,
   "metadata": {},
   "outputs": [
    {
     "name": "stdout",
     "output_type": "stream",
     "text": [
      "1\n",
      "\n",
      "10\n"
     ]
    }
   ],
   "source": [
    "list_values = [1, 2, 3] # list\n",
    "\n",
    "set_values = (10, 20, 30) # Tuple\n",
    "\n",
    "#both support Index access to the element\n",
    "print(list_values[0])\n",
    "print()\n",
    "print(set_values[0])"
   ]
  },
  {
   "cell_type": "markdown",
   "metadata": {},
   "source": [
    "#### 2. Changing Values (Lists Vs Tuple)"
   ]
  },
  {
   "cell_type": "code",
   "execution_count": 5,
   "metadata": {},
   "outputs": [
    {
     "name": "stdout",
     "output_type": "stream",
     "text": [
      "[100, 2, 3]\n"
     ]
    },
    {
     "ename": "TypeError",
     "evalue": "'tuple' object does not support item assignment",
     "output_type": "error",
     "traceback": [
      "\u001b[0;31m---------------------------------------------------------------------------\u001b[0m",
      "\u001b[0;31mTypeError\u001b[0m                                 Traceback (most recent call last)",
      "\u001b[0;32m<ipython-input-5-8db88d092a0b>\u001b[0m in \u001b[0;36m<module>\u001b[0;34m\u001b[0m\n\u001b[1;32m      5\u001b[0m \u001b[0mprint\u001b[0m\u001b[0;34m(\u001b[0m\u001b[0mlist_values\u001b[0m\u001b[0;34m)\u001b[0m\u001b[0;34m\u001b[0m\u001b[0;34m\u001b[0m\u001b[0m\n\u001b[1;32m      6\u001b[0m \u001b[0;34m\u001b[0m\u001b[0m\n\u001b[0;32m----> 7\u001b[0;31m \u001b[0mset_values\u001b[0m\u001b[0;34m[\u001b[0m\u001b[0;36m0\u001b[0m\u001b[0;34m]\u001b[0m \u001b[0;34m=\u001b[0m \u001b[0;36m100\u001b[0m \u001b[0;31m# False; Updation in Tuple\u001b[0m\u001b[0;34m\u001b[0m\u001b[0;34m\u001b[0m\u001b[0m\n\u001b[0m",
      "\u001b[0;31mTypeError\u001b[0m: 'tuple' object does not support item assignment"
     ]
    }
   ],
   "source": [
    "list_values = [1, 2, 3] # list\n",
    "set_values = (10, 20, 30) # Tuple\n",
    "\n",
    "list_values[0] = 100 # True; Updation in list\n",
    "print(list_values) \n",
    "\n",
    "set_values[0] = 100 # False; Updation in Tuple"
   ]
  },
  {
   "cell_type": "markdown",
   "metadata": {},
   "source": [
    "#### 3. Tuple V/s List Expansion\n",
    "Now, we can try to expand our list and tuple using the += operator. This will operation work for both data types. Let’s see what will happen."
   ]
  },
  {
   "cell_type": "code",
   "execution_count": 9,
   "metadata": {},
   "outputs": [
    {
     "name": "stdout",
     "output_type": "stream",
     "text": [
      "140019255580480\n",
      "140018886047488\n",
      "\n",
      "140019255580480\n",
      "140019246817440\n"
     ]
    }
   ],
   "source": [
    "list_values = [1, 2, 3] # list\n",
    "\n",
    "set_values = (1, 2, 3) # tuple\n",
    "\n",
    "print( id(list_values) ) # list, before\n",
    "\n",
    "print( id(set_values) ) # Tuple, before\n",
    "\n",
    "print()\n",
    "\n",
    "list_values += [4, 5, 6] # Expansion in list\n",
    "\n",
    "set_values += (4, 5, 6) # Expansion in tuple\n",
    "\n",
    "print( id(list_values) ) # list, after\n",
    "\n",
    "print( id(set_values) ) # Tuple, after"
   ]
  },
  {
   "cell_type": "markdown",
   "metadata": {},
   "source": [
    "We can see that the **list identity is not changed**, while the **tuple identity is changed.** This means that we have _expanded our list, but created a entirely new tuple_. **Lists are more memory efficient than tuples, While tuples are time efficient than lists.**"
   ]
  },
  {
   "cell_type": "markdown",
   "metadata": {},
   "source": [
    "#### 4. Other Immutable Data Type Examples\n",
    "Some of the other immutable data types are **integers** and **strings.** Once they are initialized, their values cannot be changed."
   ]
  },
  {
   "cell_type": "markdown",
   "metadata": {},
   "source": [
    "##### 4.1 Integers"
   ]
  },
  {
   "cell_type": "code",
   "execution_count": 11,
   "metadata": {},
   "outputs": [
    {
     "name": "stdout",
     "output_type": "stream",
     "text": [
      "9790272\n",
      "9790304\n"
     ]
    }
   ],
   "source": [
    "number = 42\n",
    "print(id(number))\n",
    "\n",
    "number += 1\n",
    "print(id(number))"
   ]
  },
  {
   "cell_type": "markdown",
   "metadata": {},
   "source": [
    "##### 4.2. Strings"
   ]
  },
  {
   "cell_type": "code",
   "execution_count": 13,
   "metadata": {},
   "outputs": [
    {
     "name": "stdout",
     "output_type": "stream",
     "text": [
      "140018886075376\n",
      "140018876390736\n"
     ]
    }
   ],
   "source": [
    "text = \"Data Science\"\n",
    "print(id(text))\n",
    "\n",
    "text += \" with Python\"\n",
    "print(id(text))"
   ]
  },
  {
   "cell_type": "markdown",
   "metadata": {},
   "source": [
    "Notice, for both, the number and text variables, their identity is changed. This means that new variables are created in both cases."
   ]
  },
  {
   "cell_type": "markdown",
   "metadata": {},
   "source": [
    "#### 5. Copying Mutable Objects by Reference\n",
    "Let’s see what happens if we give two names of the same object for a mutable data types."
   ]
  },
  {
   "cell_type": "code",
   "execution_count": 14,
   "metadata": {},
   "outputs": [
    {
     "name": "stdout",
     "output_type": "stream",
     "text": [
      "140019255580224\n",
      "140019255580224\n",
      "True\n",
      "[4, 5, 6, 7]\n",
      "[4, 5, 6, 7]\n"
     ]
    }
   ],
   "source": [
    "values = [4, 5, 6]\n",
    "values2 = values\n",
    "print(id(values))\n",
    "print(id(values2))\n",
    "\n",
    "values.append(7)\n",
    "print(values is values2)\n",
    "print(values)\n",
    "print(values2)"
   ]
  },
  {
   "cell_type": "markdown",
   "metadata": {},
   "source": [
    "- We can see that the **variable names have the same identity** meaning that they are **referencing to the same object** in computer memory. Reminder: the ***is*** operator compares the identity of two objects.\n",
    "\n",
    "- Changing the values of the second variable, the values of the first one are also changed. This happens only with the mutable objects.\n",
    "\n",
    "**Note**\n",
    "> In Python. When you create a new list **my_list**, you’re storing the list in your computer memory, and the **address of that list is stored in the my_list** variable. The variable **my_list** doesn’t contain the elements of the list. It **contains a reference to the list.** If we copy a list with the equal **=** sign only like this **my_list_copy = my_list**, The reference is copied in the my_list_copy variable instead of the list values. \n",
    "> - So, to copy the actual values, you can use the list(my_list) function or slicing [:]"
   ]
  },
  {
   "cell_type": "markdown",
   "metadata": {},
   "source": [
    "#### 6. Copying Immutable Objects"
   ]
  },
  {
   "cell_type": "code",
   "execution_count": 15,
   "metadata": {},
   "outputs": [
    {
     "name": "stdout",
     "output_type": "stream",
     "text": [
      "140019410221360\n",
      "140019410221360\n",
      "True\n",
      "\n",
      "140019255532400\n",
      "140019410221360\n",
      "False\n",
      "\n",
      "Python is awesome\n",
      "Python\n"
     ]
    }
   ],
   "source": [
    "text = \"Python\"\n",
    "text2 = text\n",
    "print(id(text))\n",
    "print(id(text2))\n",
    "print(text is text2)\n",
    "print()\n",
    "\n",
    "text += \" is awesome\"\n",
    "print(id(text))\n",
    "print(id(text2))\n",
    "print(text is text2)\n",
    "print()\n",
    "\n",
    "print(text)\n",
    "print(text2)"
   ]
  },
  {
   "cell_type": "markdown",
   "metadata": {},
   "source": [
    "Every time when we try to update the value of an immutable object, a new object is created instead. That’s when we have updated the first string it doesn’t change the value of the second"
   ]
  },
  {
   "cell_type": "markdown",
   "metadata": {},
   "source": [
    "#### 7. The == (comparison) operator\n",
    "To compare the values of objects instead of it's identity. The == operator is used."
   ]
  },
  {
   "cell_type": "code",
   "execution_count": 17,
   "metadata": {},
   "outputs": [
    {
     "name": "stdout",
     "output_type": "stream",
     "text": [
      "True\n",
      "False\n"
     ]
    }
   ],
   "source": [
    "numbers = [1, 2, 3]\n",
    "numbers2 = [1, 2, 3]\n",
    "print(numbers == numbers2)\n",
    "print(numbers is numbers2)"
   ]
  },
  {
   "cell_type": "markdown",
   "metadata": {},
   "source": [
    "We can clearly see the two objects have the same values, but their identities are different."
   ]
  },
  {
   "cell_type": "markdown",
   "metadata": {},
   "source": [
    "#### 8. Immutable Object Changing Its Value\n",
    "The value of an immutable container that contains a reference to a mutable object can be changed if that mutable object is changed."
   ]
  },
  {
   "cell_type": "code",
   "execution_count": 18,
   "metadata": {},
   "outputs": [
    {
     "name": "stdout",
     "output_type": "stream",
     "text": [
      "<class 'tuple'>\n",
      "(129392130, ['Programming', 'Machine Learning', 'Statistics'])\n",
      "(129392130, ['Programming', 'Machine Learning', 'Maths'])\n"
     ]
    }
   ],
   "source": [
    "skills = [\"Programming\", \"Machine Learning\", \"Statistics\"]\n",
    "person = (129392130, skills)\n",
    "print(type(person))\n",
    "print(person)\n",
    "\n",
    "skills[2] = \"Maths\"\n",
    "print(person)"
   ]
  },
  {
   "cell_type": "markdown",
   "metadata": {},
   "source": [
    "We have changed the value of the ***skills*** variable. The other variable ***person*** contains a **reference to the skills** variable and that’s why its value is updated, too.\n",
    "\n",
    "**Note:**\n",
    "> The object is still considered immutable because when we talk about the mutability of a container only the identities of the contained objects are implied.\n",
    "\n",
    "\n",
    "***However, if your immutable object contains only immutable objects, we cannot change their value.***"
   ]
  },
  {
   "cell_type": "code",
   "execution_count": 19,
   "metadata": {},
   "outputs": [
    {
     "name": "stdout",
     "output_type": "stream",
     "text": [
      "9790272\n",
      "9789696\n",
      "(42, 24, ('Python', 'pandas', 'scikit-learn'))\n",
      "9790528\n",
      "9789728\n",
      "(42, 24, ('Python', 'pandas', 'scikit-learn'))\n"
     ]
    }
   ],
   "source": [
    "unique_identifier = 42\n",
    "age = 24\n",
    "skills = (\"Python\", \"pandas\", \"scikit-learn\")\n",
    "info = (unique_identifier, age, skills)\n",
    "print(id(unique_identifier))\n",
    "print(id(age))\n",
    "print(info)\n",
    "\n",
    "unique_identifier = 50\n",
    "age += 1\n",
    "skills += (\"machine learning\", \"deep learning\")\n",
    "print(id(unique_identifier))\n",
    "print(id(age))\n",
    "print(info)"
   ]
  },
  {
   "cell_type": "markdown",
   "metadata": {},
   "source": [
    "_Remember... When you try to update the value of an immutable object, a new object is created instead._"
   ]
  },
  {
   "cell_type": "markdown",
   "metadata": {},
   "source": [
    "**Thanks**\n",
    "  \n",
    " SK"
   ]
  }
 ],
 "metadata": {
  "kernelspec": {
   "display_name": "Python 3",
   "language": "python",
   "name": "python3"
  },
  "language_info": {
   "codemirror_mode": {
    "name": "ipython",
    "version": 3
   },
   "file_extension": ".py",
   "mimetype": "text/x-python",
   "name": "python",
   "nbconvert_exporter": "python",
   "pygments_lexer": "ipython3",
   "version": "3.8.10"
  }
 },
 "nbformat": 4,
 "nbformat_minor": 4
}
