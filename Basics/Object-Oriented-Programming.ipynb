{
 "cells": [
  {
   "cell_type": "markdown",
   "id": "549847b9",
   "metadata": {},
   "source": [
    "# Object Oriented Programming in Python\n",
    "\n",
    "### @Author: SK "
   ]
  },
  {
   "cell_type": "markdown",
   "id": "96dd06c2",
   "metadata": {},
   "source": [
    "Another trick in software is to avoid rewriting the software by using a piece that’s already been written, so called component approach which the latest term for this in the most advanced form is what’s called Object Oriented Programming. \n",
    "\n",
    "Bill Gates"
   ]
  },
  {
   "cell_type": "markdown",
   "id": "e2ce43cd",
   "metadata": {},
   "source": [
    "Regardless of any Programming Language the **Object oriented programming** generally also known as `OOPS` is a concept which can be applied to any programming language that support oops concept as there are many programming language that utilizes OOP for example Java Programming; Which enforces the use of OOP programming that much, in java everthing is considered in terms of class, objects and it's method, even every java program is basically a class.\n",
    "\n",
    "Although the OOP concept is not new but it can seen everyehre, so in order to cope up with the basic understanding of OOPS There are some key points which needed to be rememberred.\n",
    "- OOPS\n",
    "- Classes\n",
    "- Objects\n",
    "- Attributes\n",
    "- Methods"
   ]
  },
  {
   "cell_type": "markdown",
   "id": "0a109c49",
   "metadata": {},
   "source": [
    "To understand the concepts of OOPS let's take a ananlogy\n"
   ]
  }
 ],
 "metadata": {
  "kernelspec": {
   "display_name": "Python 3 (ipykernel)",
   "language": "python",
   "name": "python3"
  },
  "language_info": {
   "codemirror_mode": {
    "name": "ipython",
    "version": 3
   },
   "file_extension": ".py",
   "mimetype": "text/x-python",
   "name": "python",
   "nbconvert_exporter": "python",
   "pygments_lexer": "ipython3",
   "version": "3.11.1"
  }
 },
 "nbformat": 4,
 "nbformat_minor": 5
}
