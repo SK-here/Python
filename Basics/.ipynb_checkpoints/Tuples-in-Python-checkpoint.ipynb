{
 "cells": [
  {
   "cell_type": "markdown",
   "metadata": {},
   "source": [
    "# Tuples in Python\n",
    "#### @Author: Saksham Trivedi aka SK"
   ]
  },
  {
   "cell_type": "markdown",
   "metadata": {},
   "source": [
    "**Immuateble sequnece of any type are known as Tuples. unlike lists where square brackets '[]' are used, Tuples are represented using parathesis '()'**\n",
    "\n",
    "Syntax: tuple_name = (element1, element2, ...element-n) \n",
    "\n",
    "\n",
    "- The positions of elements inside the tuple have meaning \n",
    "- Tuples are also used alot in python one of it's use is when a function returns more than one values at a time it's probably is returning a tuple.\n",
    "- Interestigly, Tuples allow unpacking, i.e. You can seperate tuple elements into seperate variables also and even though the tuple is unpacked the order of elements doesn't changes\n",
    "\n",
    "> **Note:** \n",
    "> - In tuples modifications is not allowed in any case, tuples are  used  in certain cases where no modification is needed or allowed.\n",
    ">\n",
    "> - Parentheses are optional but to avoind any conflicts or syntactic ambiguity it is best practice to follow syntax."
   ]
  },
  {
   "cell_type": "markdown",
   "metadata": {},
   "source": [
    "## Initialization:\n",
    "### Tuples can be Initialized in a following way\n",
    "#### 1. Empty Tuple:"
   ]
  },
  {
   "cell_type": "code",
   "execution_count": 63,
   "metadata": {},
   "outputs": [
    {
     "name": "stdout",
     "output_type": "stream",
     "text": [
      "<class 'tuple'>\n",
      "<class 'tuple'>\n",
      "\n",
      "()\n",
      "()\n"
     ]
    }
   ],
   "source": [
    "my_tuple = () # Empty Tuple - 1\n",
    "my_tuple2 = tuple() # Empty Tuple - 2\n",
    "print(type(my_tuple)) \n",
    "print(type(my_tuple2))\n",
    "print()\n",
    "\n",
    "print(my_tuple)\n",
    "print(my_tuple2)"
   ]
  },
  {
   "cell_type": "markdown",
   "metadata": {},
   "source": [
    "#### 2. Single Value "
   ]
  },
  {
   "cell_type": "code",
   "execution_count": 64,
   "metadata": {},
   "outputs": [
    {
     "name": "stdout",
     "output_type": "stream",
     "text": [
      "<class 'tuple'>\n",
      "<class 'tuple'>\n",
      "\n",
      "('Python',)\n",
      "('Data Science',)\n"
     ]
    }
   ],
   "source": [
    "skills = \"Python\",\n",
    "skills2 = (\"Data Science\",)\n",
    "print(type(skills))\n",
    "print(type(skills2))\n",
    "print()\n",
    "\n",
    "print(skills)\n",
    "print(skills2)"
   ]
  },
  {
   "cell_type": "markdown",
   "metadata": {},
   "source": [
    "> **Note:** In above example comma ( , ) is used in last to represent a single value in tuple, If comman ( , ) is removed then the python will consider it as a string."
   ]
  },
  {
   "cell_type": "markdown",
   "metadata": {},
   "source": [
    "### Tuples with multiple values"
   ]
  },
  {
   "cell_type": "code",
   "execution_count": 65,
   "metadata": {},
   "outputs": [
    {
     "name": "stdout",
     "output_type": "stream",
     "text": [
      "<class 'tuple'>\n",
      "<class 'tuple'>\n",
      "\n",
      "(1, 2, 3)\n",
      "(1, 2, 3)\n"
     ]
    }
   ],
   "source": [
    "numbers = (1, 2, 3)\n",
    "numbers2 = 1, 2, 3\n",
    "print(type(numbers))\n",
    "print(type(numbers2))\n",
    "print()\n",
    "\n",
    "print(numbers)\n",
    "print(numbers2)"
   ]
  },
  {
   "cell_type": "markdown",
   "metadata": {},
   "source": [
    "### Initialization of Tuple using iterables"
   ]
  },
  {
   "cell_type": "code",
   "execution_count": 66,
   "metadata": {},
   "outputs": [
    {
     "name": "stdout",
     "output_type": "stream",
     "text": [
      "Linux\n",
      "Programming\n",
      "Automation\n",
      "Cloud Computing\n",
      "\n",
      "<class 'str'>\n",
      "<class 'tuple'>\n",
      "\n",
      "('Linux', 'Programming', 'Automation', 'Cloud Computing')\n"
     ]
    }
   ],
   "source": [
    "skills = tuple ( [ \"Linux\", \"Programming\", \"Automation\", \"Cloud Computing\"])\n",
    "\n",
    "for skill in skills:\n",
    "    print (skill) # iterating over tuple\n",
    "\n",
    "print()\n",
    "print(type(skill)) #type = string; since every elememt in a tuple is string\n",
    "print (type(skills))\n",
    "\n",
    "print()\n",
    "print (skills) # Printing whole tuple"
   ]
  },
  {
   "cell_type": "markdown",
   "metadata": {},
   "source": [
    "## For Example:\n",
    "### For better understanding of Tuple below are some examples \n",
    "#### Consider a function to convert seconds into hours-minutes-seconds:"
   ]
  },
  {
   "cell_type": "code",
   "execution_count": 67,
   "metadata": {},
   "outputs": [
    {
     "data": {
      "text/plain": [
       "tuple"
      ]
     },
     "execution_count": 67,
     "metadata": {},
     "output_type": "execute_result"
    }
   ],
   "source": [
    "# function to convert seconds into hours-minutes-seconds\n",
    "def convert_seconds (seconds):\n",
    "    hours = seconds // 3600\n",
    "    minutes = (seconds - hours * 3600) // 60\n",
    "    remaining_seconds = seconds - hours * 3600 - minutes * 60\n",
    "    return hours, minutes, remaining_seconds\n",
    "\n",
    "result = convert_seconds (5000)\n",
    "\n",
    "type(result) #type: Tuple"
   ]
  },
  {
   "cell_type": "code",
   "execution_count": 68,
   "metadata": {},
   "outputs": [
    {
     "name": "stdout",
     "output_type": "stream",
     "text": [
      "(1, 23, 20)\n"
     ]
    }
   ],
   "source": [
    "print(result) # "
   ]
  },
  {
   "cell_type": "markdown",
   "metadata": {},
   "source": [
    "### Unpacking of tuple\n",
    "Unpacking of tuple can be done via following method"
   ]
  },
  {
   "cell_type": "code",
   "execution_count": 69,
   "metadata": {},
   "outputs": [
    {
     "name": "stdout",
     "output_type": "stream",
     "text": [
      "1 23 20\n"
     ]
    }
   ],
   "source": [
    "# unpacking of tuple\n",
    "hours, minutes, seconds = result\n",
    "\n",
    "print (hours, minutes, seconds)"
   ]
  },
  {
   "cell_type": "code",
   "execution_count": 70,
   "metadata": {
    "scrolled": true
   },
   "outputs": [
    {
     "name": "stdout",
     "output_type": "stream",
     "text": [
      "0 H :16 M :40 S\n"
     ]
    }
   ],
   "source": [
    "hours, minutes, seconds = convert_seconds(1000)\n",
    "\n",
    "# Formatted way\n",
    "print (str(hours) + \" H :\" + str(minutes) + \" M :\" + str(seconds) + \" S\")"
   ]
  },
  {
   "cell_type": "markdown",
   "metadata": {},
   "source": [
    "#### Tuples are used to represent data that has more than one value and needs to be kept together\n",
    "\n",
    "> **Example:**\n",
    ">\n",
    "> - File name & it's assciated size\n",
    "> - Name & associated email address of a person\n",
    "> - Date & Time Associated with general health of a computer system at any time"
   ]
  },
  {
   "cell_type": "markdown",
   "metadata": {},
   "source": [
    "### Problem statement : \n",
    "#### Let's use tuples to store information about a file: its name, its type and its size in bytes. Fill in the gaps in this code to return the size in kilobytes (a kilobyte is 1024 bytes) up to 2 decimal places. "
   ]
  },
  {
   "cell_type": "code",
   "execution_count": 71,
   "metadata": {},
   "outputs": [
    {
     "name": "stdout",
     "output_type": "stream",
     "text": [
      "17.46\n",
      "0.48\n",
      "1.21\n"
     ]
    }
   ],
   "source": [
    "def file_size(file_info):\n",
    "\tfname, ftype, fsize = file_info\n",
    "\treturn(\"{:.2f}\".format(fsize / 1024))\n",
    "\n",
    "print(file_size(('Class Assignment', 'docx', 17875))) # Should print 17.46\n",
    "print(file_size(('Notes', 'txt', 496))) # Should print 0.48\n",
    "print(file_size(('Program', 'py', 1239))) # Should print 1.21\n",
    "\n"
   ]
  },
  {
   "cell_type": "markdown",
   "metadata": {},
   "source": [
    "### Enumeration in Tuples"
   ]
  },
  {
   "cell_type": "markdown",
   "metadata": {},
   "source": [
    "In python **enumerate** is built-in function returns an iterator.\n",
    "\n",
    "When we iterate using **enumerate()** function it returns a tuple of two values containing a **count** or **Index of element** (starts from 0) & **element** itself.\n",
    "\n",
    "#### Example:"
   ]
  },
  {
   "cell_type": "code",
   "execution_count": 72,
   "metadata": {},
   "outputs": [
    {
     "name": "stdout",
     "output_type": "stream",
     "text": [
      "Sure!!\n",
      "\n",
      "Sorry We Don't server Honey here\n",
      "\n",
      "Here's what we serve:\n",
      "1 - Whiskey\n",
      "2 - Rum\n",
      "3 - Vodka\n",
      "4 - Wine\n",
      "5 - Beer\n",
      "6 - Mocktail\n"
     ]
    }
   ],
   "source": [
    "def bartender (choice):\n",
    "    alchohols = (\"Whiskey\", \"Rum\", \"Vodka\", \"Wine\", \"Beer\", \"Mocktail\")\n",
    "    for alchohol in alchohols: #iteration\n",
    "        if choice in alchohol:\n",
    "            print (\"Sure!!\")\n",
    "            break;\n",
    "        else:\n",
    "            print (\"Sorry We Don't server {} here\".format(choice))\n",
    "            print ()\n",
    "            break;\n",
    "            \n",
    "    if choice not in alchohol:  \n",
    "        print (\"Here's what we serve:\")\n",
    "        for index,alchohol in enumerate(alchohols): \n",
    "            # iterating using enumerate()\n",
    "            print(\"{} - {}\".format(index + 1, alchohol))\n",
    "\n",
    "bartender(\"Whiskey\") #Calling with true Value\n",
    "print()\n",
    "bartender(\"Honey\") # Calling with false value\n",
    "\n",
    "# Above bartender can be modified but since it's an example so don't get drunk here\n"
   ]
  },
  {
   "cell_type": "markdown",
   "metadata": {},
   "source": [
    "**_In above Example:_**\n",
    ">     for index,alchohol in enumerate_(alchohols): \n",
    ">         print(\"{} - {}\".format(index + 1, alchohol))\n",
    "\n",
    "enumerate() is used while iterating which is providing tuple of two values consisting **index** of alchohol & **alchohol** itself but, To make it slightly formatted I used format() function."
   ]
  },
  {
   "cell_type": "markdown",
   "metadata": {},
   "source": [
    "## Operations on Tuples\n",
    "### Below are some operations that can be performed on tuples\n",
    "### in, not in:"
   ]
  },
  {
   "cell_type": "code",
   "execution_count": 73,
   "metadata": {},
   "outputs": [
    {
     "name": "stdout",
     "output_type": "stream",
     "text": [
      "True\n",
      "False\n",
      "\n",
      "False\n",
      "True\n",
      "\n"
     ]
    }
   ],
   "source": [
    "print(42 in (59, 29, 45, 2, 4, 24, 42, 20, 9))\n",
    "\n",
    "print(42 in (4, 2, 44, 22, 46, 27, 19, 30, 43))\n",
    "\n",
    "print()\n",
    "\n",
    "print(42 not in (59, 29, 45, 2, 4, 24, 42, 20, 9))\n",
    "\n",
    "print(42 not in (4, 2, 44, 22, 46, 27, 19, 30, 43))\n",
    "\n",
    "print()"
   ]
  },
  {
   "cell_type": "markdown",
   "metadata": {},
   "source": [
    "### Concatination:"
   ]
  },
  {
   "cell_type": "code",
   "execution_count": 74,
   "metadata": {},
   "outputs": [
    {
     "name": "stdout",
     "output_type": "stream",
     "text": [
      "('Python', 'Web Development', 'Machine Learning', 'Communication', 'Courtesy', 'Flexibility', 'Integrity')\n"
     ]
    }
   ],
   "source": [
    "skills = (\"Python\", \"Web Development\", \"Machine Learning\")\n",
    "\n",
    "soft_skills = (\"Communication\", \"Courtesy\", \"Flexibility\", \"Integrity\")\n",
    "\n",
    "print(skills + soft_skills)"
   ]
  },
  {
   "cell_type": "markdown",
   "metadata": {},
   "source": [
    "### Multiplication:\n",
    "> Multiplication is a manipulation when used with sequence"
   ]
  },
  {
   "cell_type": "code",
   "execution_count": 75,
   "metadata": {},
   "outputs": [
    {
     "name": "stdout",
     "output_type": "stream",
     "text": [
      "(['Communication', 'Courtesy'], ['Communication', 'Courtesy'], ['Communication', 'Courtesy'])\n"
     ]
    }
   ],
   "source": [
    "soft_skills = [\"Communication\", \"Courtesy\"]\n",
    "\n",
    "print ((soft_skills, ) * 3) # Mutiplication"
   ]
  },
  {
   "cell_type": "markdown",
   "metadata": {},
   "source": [
    "> **Note:**\n",
    ">\n",
    "> The items in the soft_skills are not copied, they’re referenced multiple times. Let’s see what will happen if we add value to the first list of the tuple.\n",
    "\n",
    "#### Below is a explanation"
   ]
  },
  {
   "cell_type": "code",
   "execution_count": 76,
   "metadata": {},
   "outputs": [
    {
     "name": "stdout",
     "output_type": "stream",
     "text": [
      "(['Communication', 'Courtesy'], ['Communication', 'Courtesy'], ['Communication', 'Courtesy'])\n",
      "\n",
      "(['Communication', 'Courtesy', 'Responsibility'], ['Communication', 'Courtesy', 'Responsibility'], ['Communication', 'Courtesy', 'Responsibility'])\n"
     ]
    }
   ],
   "source": [
    "soft_skills = [\"Communication\", \"Courtesy\"] # list\n",
    "info = (soft_skills, ) * 3 # tuple containing list as a single object & multiplied by 3\n",
    "print(info)\n",
    "print()\n",
    "\n",
    "info[0].append(\"Responsibility\")\n",
    "print(info)"
   ]
  },
  {
   "cell_type": "markdown",
   "metadata": {},
   "source": [
    "**The new added value is added to the three lists because they’re referencing to the same object.**"
   ]
  },
  {
   "cell_type": "markdown",
   "metadata": {},
   "source": [
    "### Indexing:"
   ]
  },
  {
   "cell_type": "code",
   "execution_count": 77,
   "metadata": {},
   "outputs": [
    {
     "name": "stdout",
     "output_type": "stream",
     "text": [
      "Communication\n",
      "Integrity\n"
     ]
    }
   ],
   "source": [
    "soft_skills = (\"Communication\", \"Courtesy\", \"Flexibility\", \"Integrity\", \"Responsibility\")\n",
    "\n",
    "print(soft_skills[0])\n",
    "\n",
    "print(soft_skills[-2]) # -ve indexing"
   ]
  },
  {
   "cell_type": "markdown",
   "metadata": {},
   "source": [
    "**Note:**\n",
    "> When using -ve Indexing the formula **len(sequence) + index** is used to calculte the actual index"
   ]
  },
  {
   "cell_type": "markdown",
   "metadata": {},
   "source": [
    "### Slicing:\n",
    "\n",
    "We can use slicing to select a range of items in a sequence object. The syntax is:\n",
    "\n",
    "    sliceable[start_index:end_index:step]\n",
    "\n",
    "- The **start_index** is the beginning index of the slice, the element at this index will be included to the result, the default value is **0**.\n",
    "\n",
    "- The **end_index** is the end index of the slice, the element at this index will not be included to the result. The default value is the **len(sequence)**\n",
    "\n",
    "- The **step** is the amount by which the index increases,the default value is **1**. If we set a negative value for the step, we’ll move backward."
   ]
  },
  {
   "cell_type": "code",
   "execution_count": 78,
   "metadata": {},
   "outputs": [
    {
     "name": "stdout",
     "output_type": "stream",
     "text": [
      "('Courtesy', 'Flexibility', 'Integrity')\n",
      "('Communication', 'Courtesy', 'Flexibility', 'Integrity')\n",
      "('Communication', 'Courtesy', 'Flexibility', 'Integrity', 'Responsibility')\n",
      "('Communication', 'Flexibility', 'Responsibility')\n",
      "('Responsibility', 'Flexibility', 'Communication')\n"
     ]
    }
   ],
   "source": [
    "# Index =           0              1             2             3               4\n",
    "soft_skills = (\"Communication\", \"Courtesy\", \"Flexibility\", \"Integrity\", \"Responsibility\")\n",
    "\n",
    "# 1 to (4-1)\n",
    "print(soft_skills[1:4])\n",
    "\n",
    "# default 0 to (4-1)\n",
    "print(soft_skills[:4])\n",
    "\n",
    "# all default; i.e. 0 to len(soft_skills)\n",
    "print(soft_skills[:])\n",
    "\n",
    "# start from the begining goes till end; printing every 2nd object\n",
    "print(soft_skills[::2])\n",
    "\n",
    "# start from the end goes till begining; printing every 2nd object\n",
    "print(soft_skills[::-2])\n"
   ]
  },
  {
   "cell_type": "markdown",
   "metadata": {},
   "source": [
    "### min() / max()"
   ]
  },
  {
   "cell_type": "code",
   "execution_count": 79,
   "metadata": {},
   "outputs": [
    {
     "name": "stdout",
     "output_type": "stream",
     "text": [
      "5\n",
      "Communication\n",
      "Responsibility\n",
      "\n",
      "11\n",
      "7\n",
      "90\n",
      "\n",
      "11\n",
      "-53.65\n",
      "90.453\n"
     ]
    }
   ],
   "source": [
    "soft_skills = (\"Communication\", \"Courtesy\", \"Flexibility\", \"Integrity\", \"Responsibility\")\n",
    "print(len(soft_skills))\n",
    "# when using with tuples containing string it determines the len (soft_skills)\n",
    "print(min(soft_skills))  \n",
    "print(max(soft_skills))\n",
    "print()\n",
    "\n",
    "numbers = (10, 22, 53, 53, 8, 9, 11, 45, 90, 7, 26)\n",
    "print(len(numbers))\n",
    "# when using with tuples containing integers it determines the actual integer\n",
    "print(min(numbers))\n",
    "print(max(numbers))\n",
    "print()\n",
    "\n",
    "numbers = (10.32, 22.56, 5.376, -53.65, 8.34, 9.87, 11.453, 45.34, 90.453, 7.543, 26)\n",
    "print(len(numbers))\n",
    "# when using with tuples containing floating pointers it determines the actual integer\n",
    "print(min(numbers))\n",
    "print(max(numbers))"
   ]
  },
  {
   "cell_type": "markdown",
   "metadata": {},
   "source": [
    "### index() & count()\n",
    "\n",
    "> - **index():** Identifes the index of a given value\n",
    "> - **count():** Identifies how much times we have this value in our tuple."
   ]
  },
  {
   "cell_type": "code",
   "execution_count": 80,
   "metadata": {},
   "outputs": [
    {
     "name": "stdout",
     "output_type": "stream",
     "text": [
      "Index is: 1\n",
      "\n"
     ]
    },
    {
     "ename": "ValueError",
     "evalue": "tuple.index(x): x not in tuple",
     "output_type": "error",
     "traceback": [
      "\u001b[0;31m---------------------------------------------------------------------------\u001b[0m",
      "\u001b[0;31mValueError\u001b[0m                                Traceback (most recent call last)",
      "\u001b[0;32m<ipython-input-80-ab796a8c38e3>\u001b[0m in \u001b[0;36m<module>\u001b[0;34m\u001b[0m\n\u001b[1;32m      5\u001b[0m \u001b[0;34m\u001b[0m\u001b[0m\n\u001b[1;32m      6\u001b[0m \u001b[0mnumbers\u001b[0m \u001b[0;34m=\u001b[0m \u001b[0;34m(\u001b[0m\u001b[0;36m10\u001b[0m\u001b[0;34m,\u001b[0m \u001b[0;36m22\u001b[0m\u001b[0;34m,\u001b[0m \u001b[0;36m53\u001b[0m\u001b[0;34m,\u001b[0m \u001b[0;36m53\u001b[0m\u001b[0;34m,\u001b[0m \u001b[0;36m8\u001b[0m\u001b[0;34m,\u001b[0m \u001b[0;36m9\u001b[0m\u001b[0;34m,\u001b[0m \u001b[0;36m11\u001b[0m\u001b[0;34m,\u001b[0m \u001b[0;36m45\u001b[0m\u001b[0;34m,\u001b[0m \u001b[0;36m90\u001b[0m\u001b[0;34m,\u001b[0m \u001b[0;36m7\u001b[0m\u001b[0;34m,\u001b[0m \u001b[0;36m26\u001b[0m\u001b[0;34m)\u001b[0m\u001b[0;34m\u001b[0m\u001b[0;34m\u001b[0m\u001b[0m\n\u001b[0;32m----> 7\u001b[0;31m \u001b[0mprint\u001b[0m\u001b[0;34m(\u001b[0m\u001b[0mnumbers\u001b[0m\u001b[0;34m.\u001b[0m\u001b[0mindex\u001b[0m\u001b[0;34m(\u001b[0m\u001b[0;36m100\u001b[0m\u001b[0;34m)\u001b[0m\u001b[0;34m)\u001b[0m \u001b[0;31m# Error: not in index\u001b[0m\u001b[0;34m\u001b[0m\u001b[0;34m\u001b[0m\u001b[0m\n\u001b[0m",
      "\u001b[0;31mValueError\u001b[0m: tuple.index(x): x not in tuple"
     ]
    }
   ],
   "source": [
    "soft_skills = (\"Communication\", \"Courtesy\", \"Flexibility\", \"Integrity\", \"Responsibility\")\n",
    "\n",
    "print(\"Index is: {}\".format(soft_skills.index(\"Courtesy\")))\n",
    "print()\n",
    "\n",
    "numbers = (10, 22, 53, 53, 8, 9, 11, 45, 90, 7, 26)\n",
    "print(numbers.index(100)) # Error: not in index"
   ]
  },
  {
   "cell_type": "markdown",
   "metadata": {},
   "source": [
    "If we pass a value which is not in our tuple, we’ll get a **ValueError.**"
   ]
  },
  {
   "cell_type": "code",
   "execution_count": null,
   "metadata": {},
   "outputs": [],
   "source": [
    "soft_skills = (\"Communication\", \"Courtesy\", \"Flexibility\", \"Integrity\", \"Responsibility\", \"Flexibility\")\n",
    "print(soft_skills.count(\"Integrity\"))\n",
    "print(soft_skills.count(\"Flexibility\"))\n",
    "print()\n",
    "\n",
    "numbers = (10, 22, 53, 53, 8, 9, 11, 45, 90, 7, 26)\n",
    "print(numbers.count(100))"
   ]
  },
  {
   "cell_type": "markdown",
   "metadata": {},
   "source": [
    "If we pass a value which doesn’t exist in our tuple the count method will return **0**. This time there is no error."
   ]
  },
  {
   "cell_type": "markdown",
   "metadata": {},
   "source": [
    "# Tuples V/s Lists"
   ]
  },
  {
   "cell_type": "markdown",
   "metadata": {},
   "source": [
    "The main difference between lists and tuples is that the tuples are immutable, while the lists are mutable.\n",
    "\n",
    "### Note:\n",
    "> The value of an immutable container that contains a reference to a mutable object can be changed if that mutable object is changed. When we talk about the mutability of a container only the identities of the contained objects are implied. However, if our immutable container contains only immutable data types, its value cannot be changed.\n",
    "\n",
    "Unlike lists, tuples don’t have methods such as append(), insert(), remove(), pop(), and extend() because of their immutable nature."
   ]
  },
  {
   "cell_type": "code",
   "execution_count": 81,
   "metadata": {},
   "outputs": [
    {
     "name": "stdout",
     "output_type": "stream",
     "text": [
      "['Flexibility', 'Courtesy', 'Flexibility', 'Integrity', 'Responsibility']\n"
     ]
    },
    {
     "ename": "TypeError",
     "evalue": "'tuple' object does not support item assignment",
     "output_type": "error",
     "traceback": [
      "\u001b[0;31m---------------------------------------------------------------------------\u001b[0m",
      "\u001b[0;31mTypeError\u001b[0m                                 Traceback (most recent call last)",
      "\u001b[0;32m<ipython-input-81-890d4e3e12b6>\u001b[0m in \u001b[0;36m<module>\u001b[0;34m\u001b[0m\n\u001b[1;32m      4\u001b[0m \u001b[0;34m\u001b[0m\u001b[0m\n\u001b[1;32m      5\u001b[0m \u001b[0mtuple_skills\u001b[0m \u001b[0;34m=\u001b[0m \u001b[0;34m(\u001b[0m\u001b[0;34m\"Communication\"\u001b[0m\u001b[0;34m,\u001b[0m \u001b[0;34m\"Courtesy\"\u001b[0m\u001b[0;34m,\u001b[0m \u001b[0;34m\"Flexibility\"\u001b[0m\u001b[0;34m,\u001b[0m \u001b[0;34m\"Integrity\"\u001b[0m\u001b[0;34m,\u001b[0m \u001b[0;34m\"Responsibility\"\u001b[0m\u001b[0;34m)\u001b[0m\u001b[0;34m\u001b[0m\u001b[0;34m\u001b[0m\u001b[0m\n\u001b[0;32m----> 6\u001b[0;31m \u001b[0mtuple_skills\u001b[0m\u001b[0;34m[\u001b[0m\u001b[0;36m0\u001b[0m\u001b[0;34m]\u001b[0m \u001b[0;34m=\u001b[0m \u001b[0;34m\"Flexibility\"\u001b[0m \u001b[0;31m# Error\u001b[0m\u001b[0;34m\u001b[0m\u001b[0;34m\u001b[0m\u001b[0m\n\u001b[0m",
      "\u001b[0;31mTypeError\u001b[0m: 'tuple' object does not support item assignment"
     ]
    }
   ],
   "source": [
    "list_skills = [\"Communication\", \"Courtesy\", \"Flexibility\", \"Integrity\", \"Responsibility\"]\n",
    "list_skills[0] = \"Flexibility\"\n",
    "print(list_skills)\n",
    "\n",
    "tuple_skills = (\"Communication\", \"Courtesy\", \"Flexibility\", \"Integrity\", \"Responsibility\")\n",
    "tuple_skills[0] = \"Flexibility\" # Error"
   ]
  },
  {
   "cell_type": "markdown",
   "metadata": {},
   "source": [
    "> _Though tuples may seem similar to lists, they are often used in different situations and for different purposes. Tuples are immutable, and usually contain a heterogeneous sequence of elements that are accessed via unpacking or indexing (or even by attribute in the case of namedtuples). Lists are mutable, and their elements are usually homogeneous and are accessed by iterating over the list._"
   ]
  },
  {
   "cell_type": "markdown",
   "metadata": {},
   "source": [
    "### When to use Tuples\n",
    "\n",
    "#### 1. Tuples are faster than lists. If you need a constant set of values and all you need to do with it is iterating through it, use a tuple instead of a list."
   ]
  },
  {
   "cell_type": "code",
   "execution_count": 88,
   "metadata": {},
   "outputs": [
    {
     "name": "stdout",
     "output_type": "stream",
     "text": [
      "Tuple: 0.059759903999292874\n",
      "List: 0.1331090210005641\n",
      "Diffrence between time of Tuples and List = 0.07334911700127122\n"
     ]
    }
   ],
   "source": [
    "import timeit\n",
    "\n",
    "Tuple_t = timeit.timeit(\"x = (1, 2, 3, 4, 5, 6, 7, 8, 9, 10)\", number = 1000000)\n",
    "List_t = timeit.timeit(\"x = [1, 2, 3, 4, 5, 6, 7, 8, 9, 10]\", number = 1000000)\n",
    "print (\"Tuple: \" + str(Tuple_t))\n",
    "print (\"List: \" + str(List_t))\n",
    "\n",
    "print (\"Diffrence between time of Tuples and List = \" + str(List_t - Tuple_t))"
   ]
  },
  {
   "cell_type": "markdown",
   "metadata": {},
   "source": [
    "> The **timeit** library allows us to measure the elapsed time in seconds.\n",
    "\n",
    "We can clearly see that the tuple initializations are faster than the list initializations."
   ]
  },
  {
   "cell_type": "markdown",
   "metadata": {},
   "source": [
    "#### 2. Tuples contains only immutable values that can be used as keys for a dictionary, while lists cannot."
   ]
  },
  {
   "cell_type": "raw",
   "metadata": {},
   "source": [
    "Thanks,\n",
    "SK"
   ]
  }
 ],
 "metadata": {
  "kernelspec": {
   "display_name": "Python 3 (ipykernel)",
   "language": "python",
   "name": "python3"
  },
  "language_info": {
   "codemirror_mode": {
    "name": "ipython",
    "version": 3
   },
   "file_extension": ".py",
   "mimetype": "text/x-python",
   "name": "python",
   "nbconvert_exporter": "python",
   "pygments_lexer": "ipython3",
   "version": "3.11.1"
  }
 },
 "nbformat": 4,
 "nbformat_minor": 4
}
