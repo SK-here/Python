{
 "cells": [
  {
   "cell_type": "markdown",
   "metadata": {},
   "source": [
    "# Lists in Python\n",
    ">@Author: Saksham Trivedi aka SK"
   ]
  },
  {
   "cell_type": "markdown",
   "metadata": {},
   "source": [
    "*In Python List is type of **built-in data structure**. It **can contain any type of object inside it**, In lists all the items are placed inside square brackets [ ], where every object is seperated by comma (,) lists are **mutable** (another fancy word to say that lists are subjected to modifications) makes it very useful and versatile.*\n",
    "\n",
    "> In python list have some characterstics as follows:\n",
    "- Mutable : Elements of lists are subjected to modifications\n",
    "- Ordered : Index starts from 0 and follows ordered manner\n",
    "- Dynamic : Add, remove, modify items of list\n",
    "- array type : Sequntial in nature\n",
    "- Duplicate : Allows duplicate list items within a same list"
   ]
  },
  {
   "cell_type": "markdown",
   "metadata": {},
   "source": [
    "When to Use lists:\n",
    "To store a collection of heterogenous object in a single data structure. It can store any primitive data structure like,\n",
    "\n",
    "> * int\n",
    "> * strings\n",
    "> * floating pointers\n",
    "> <br> as well as, compound data structures like <br>\n",
    "> * lists\n",
    "> * sets\n",
    "> * tuples\n",
    "> * dictionaries, etc"
   ]
  },
  {
   "cell_type": "markdown",
   "metadata": {},
   "source": [
    "Initializing & creating lists:\n",
    "lists in python can be initialized by two ways\n",
    "1. **brackets []**\n",
    "2. **list(itreable)**\n",
    "i.e.\n",
    "<br>**Empty list with sq. brackets**\n",
    "<br> empty_list = []\n",
    "**Empty list with sq. brackets**\n",
    " <br> empty_list = list()\n",
    "> **Examples:**\n",
    "> - _Lists of Integers:_\n",
    "> <br> integer_list = [1, 2,3]\n",
    ">\n",
    "> - _list with mixed datatype:_\n",
    ">  mixed_up = [32, \"string\", 3.14]\n",
    ">\n",
    "> - _list from iterable object:_\n",
    "> <br> itrable_list = list (\"Object\")\n",
    ">\n",
    "> - _Nested list:_\n",
    "> <br> nested list = [ 21, 'a', 2.1, \"cat\", [3, 2], ['d'], [33.2, 45.7], [\"string1\", \"string2\"] ]"
   ]
  },
  {
   "cell_type": "markdown",
   "metadata": {},
   "source": [
    "## Operations on List"
   ]
  },
  {
   "cell_type": "code",
   "execution_count": 1,
   "metadata": {},
   "outputs": [
    {
     "data": {
      "text/plain": [
       "list"
      ]
     },
     "execution_count": 1,
     "metadata": {},
     "output_type": "execute_result"
    }
   ],
   "source": [
    "#initialization\n",
    "example = [\"This\", \"is\", \"an\", \"Example\"]\n",
    "\n",
    "#type of data type\n",
    "type(example) #list"
   ]
  },
  {
   "cell_type": "markdown",
   "metadata": {},
   "source": [
    "**Printing all the elements of lists**"
   ]
  },
  {
   "cell_type": "code",
   "execution_count": 2,
   "metadata": {},
   "outputs": [
    {
     "name": "stdout",
     "output_type": "stream",
     "text": [
      "['This', 'is', 'an', 'Example']\n"
     ]
    }
   ],
   "source": [
    "print(example) # ['This', 'is', 'an', 'Example']"
   ]
  },
  {
   "cell_type": "markdown",
   "metadata": {},
   "source": [
    "**Length of list**"
   ]
  },
  {
   "cell_type": "code",
   "execution_count": 3,
   "metadata": {},
   "outputs": [
    {
     "data": {
      "text/plain": [
       "4"
      ]
     },
     "execution_count": 3,
     "metadata": {},
     "output_type": "execute_result"
    }
   ],
   "source": [
    "len(example) #4"
   ]
  },
  {
   "cell_type": "markdown",
   "metadata": {},
   "source": [
    "**Check whether the item belongs to the list or not**\n",
    "\n",
    "This can be done via two methods\n",
    "- using **in** keyword\n",
    "- using **not** **in** keyword\n",
    " "
   ]
  },
  {
   "cell_type": "code",
   "execution_count": 4,
   "metadata": {},
   "outputs": [
    {
     "data": {
      "text/plain": [
       "True"
      ]
     },
     "execution_count": 4,
     "metadata": {},
     "output_type": "execute_result"
    }
   ],
   "source": [
    "# 'in' -> keyword is used which returns boolean value\n",
    "\"Example\" in example #True"
   ]
  },
  {
   "cell_type": "code",
   "execution_count": 5,
   "metadata": {},
   "outputs": [
    {
     "data": {
      "text/plain": [
       "False"
      ]
     },
     "execution_count": 5,
     "metadata": {},
     "output_type": "execute_result"
    }
   ],
   "source": [
    "\"example\" in example #False"
   ]
  },
  {
   "cell_type": "code",
   "execution_count": 6,
   "metadata": {},
   "outputs": [
    {
     "name": "stdout",
     "output_type": "stream",
     "text": [
      "False\n",
      "True\n"
     ]
    }
   ],
   "source": [
    "# not in : just reverse of in method\n",
    "example_2 = [1, 2, 3]\n",
    "\n",
    "print(3 not in example_2) # False\n",
    "\n",
    "print(\"Hello\" not in example) # True"
   ]
  },
  {
   "cell_type": "markdown",
   "metadata": {},
   "source": [
    "**Indexing - It is used to access the particular element**\n",
    "\n",
    "> Note: indexing starts with 0 and ranges upto one less than the num of elements in the list, Or len(example) - 1 better to say\n"
   ]
  },
  {
   "cell_type": "code",
   "execution_count": 7,
   "metadata": {
    "scrolled": true
   },
   "outputs": [
    {
     "name": "stdout",
     "output_type": "stream",
     "text": [
      "Example\n",
      "This\n",
      "is\n",
      "an\n",
      "3\n"
     ]
    },
    {
     "ename": "IndexError",
     "evalue": "list index out of range",
     "output_type": "error",
     "traceback": [
      "\u001b[0;31m---------------------------------------------------------------------------\u001b[0m",
      "\u001b[0;31mIndexError\u001b[0m                                Traceback (most recent call last)",
      "\u001b[0;32m<ipython-input-7-db1687df6434>\u001b[0m in \u001b[0;36m<module>\u001b[0;34m\u001b[0m\n\u001b[1;32m      7\u001b[0m \u001b[0;34m\u001b[0m\u001b[0m\n\u001b[1;32m      8\u001b[0m \u001b[0;31m#Index error: when you try to access the index of element after the (length of string - 1)\u001b[0m\u001b[0;34m\u001b[0m\u001b[0;34m\u001b[0m\u001b[0;34m\u001b[0m\u001b[0m\n\u001b[0;32m----> 9\u001b[0;31m \u001b[0mprint\u001b[0m \u001b[0;34m(\u001b[0m\u001b[0mexample\u001b[0m\u001b[0;34m[\u001b[0m\u001b[0;36m4\u001b[0m\u001b[0;34m]\u001b[0m\u001b[0;34m)\u001b[0m \u001b[0;31m#index error : index out of range\u001b[0m\u001b[0;34m\u001b[0m\u001b[0;34m\u001b[0m\u001b[0m\n\u001b[0m",
      "\u001b[0;31mIndexError\u001b[0m: list index out of range"
     ]
    }
   ],
   "source": [
    "print (example[3])# Example\n",
    "print(example[0]) # This\n",
    "print(example[1]) # is\n",
    "print(example[2]) # an\n",
    "# i.e.\n",
    "print (len(example) - 1) # 3\n",
    "\n",
    "#Index error: when you try to access the index of element after the (length of string - 1)\n",
    "print (example[4]) #index error : index out of range"
   ]
  },
  {
   "cell_type": "markdown",
   "metadata": {},
   "source": [
    "**Slicing in list**: Used to access particular range of elements using index"
   ]
  },
  {
   "cell_type": "code",
   "execution_count": null,
   "metadata": {},
   "outputs": [],
   "source": [
    "example[0:4] # ['This', 'is', 'an', 'Example']"
   ]
  },
  {
   "cell_type": "code",
   "execution_count": null,
   "metadata": {},
   "outputs": [],
   "source": [
    "example[1:3] # ['is', 'an']"
   ]
  },
  {
   "cell_type": "markdown",
   "metadata": {},
   "source": [
    "**Note:** In slicing the index of last element = len(example) and the element we want to access in second inedx always will be len(example) - 1 \n",
    "> *In:* \n",
    "> example[1:3]\n",
    "> \n",
    ">*index is starting from 1 and goes upto 3*"
   ]
  },
  {
   "cell_type": "code",
   "execution_count": null,
   "metadata": {},
   "outputs": [],
   "source": [
    "example[:3] # ['This', 'is', 'an']"
   ]
  },
  {
   "cell_type": "markdown",
   "metadata": {},
   "source": [
    "**Notice,** in first index if no value is passed it considers the value 0 by default"
   ]
  },
  {
   "cell_type": "code",
   "execution_count": null,
   "metadata": {},
   "outputs": [],
   "source": [
    "example[2:]# ['an', 'Example']"
   ]
  },
  {
   "cell_type": "markdown",
   "metadata": {},
   "source": [
    "Same goes for last index i.e. no value is passed it considers the value = len(example) by default"
   ]
  },
  {
   "cell_type": "markdown",
   "metadata": {},
   "source": [
    "**Problem Statement:**\n",
    "> Using the \"split\" string method, complete the get_word function to return the {n}th word from a passed sentence. For example, get_word(\"This is a lesson about lists\", 4) should return \"lesson\", which is the 4th word in this sentence. Hint: remember that list indexes start at 0, not 1. \n"
   ]
  },
  {
   "cell_type": "code",
   "execution_count": null,
   "metadata": {},
   "outputs": [],
   "source": [
    "def get_word(sentence, n):\n",
    "\t# Only proceed if n is positive \n",
    "\tif n > 0:\n",
    "\t\twords = sentence.split()\n",
    "\t\t# Only proceed if n is not more than the number of words \n",
    "\t\tif n <= len(words):\n",
    "\t\t\treturn(words[n-1])\n",
    "\treturn(\"\")\n",
    "\n",
    "print(get_word(\"This is a lesson about lists\", 4)) # Should print: lesson\n",
    "print(get_word(\"This is a lesson about lists\", -4)) # Nothing\n",
    "print(get_word(\"Now we are cooking!\", 1)) # Should print: Now\n",
    "print(get_word(\"Now we are cooking!\", 5)) # Nothing"
   ]
  },
  {
   "cell_type": "markdown",
   "metadata": {},
   "source": [
    "**Explaination**\n",
    "> In python split() function is used to convert string into lists where by default whitespace is a seperator.\n",
    ">\n",
    "> split() can be used with eighter without parameters or it supports two parameters\n",
    "> - _seperator_\n",
    "> - _maxsplit_\n",
    ">> _**syntax:**_ _string.split(separator, maxsplit)_ **or** _string.split()_\n",
    ">\n",
    "> **Parameter\tDescription**\n",
    "> - separator\t(Optional). Specifies the separator to use when splitting the string. By default any whitespace is a separator.\n",
    "> - maxsplit\t(Optional). Specifies how many splits to do. Default value is -1, which is \"all occurrences\"\n",
    ">> **Note:** When maxsplit is specified, the list will contain the specified number of elements plus one."
   ]
  },
  {
   "cell_type": "markdown",
   "metadata": {},
   "source": [
    "## split() function\n",
    "\n",
    "### Below are few Examples for better understanding of \n",
    "\n",
    "#### split() with no parameters"
   ]
  },
  {
   "cell_type": "code",
   "execution_count": null,
   "metadata": {},
   "outputs": [],
   "source": [
    "txt = \"hello my name is Peter\"\n",
    "\n",
    "x = txt.split()\n",
    "\n",
    "print(x)\n",
    "#['hello', 'my', 'name', 'is', 'Peter']"
   ]
  },
  {
   "cell_type": "markdown",
   "metadata": {},
   "source": [
    "#### split() with seperator argument"
   ]
  },
  {
   "cell_type": "code",
   "execution_count": 8,
   "metadata": {},
   "outputs": [
    {
     "name": "stdout",
     "output_type": "stream",
     "text": [
      "['hello', 'my name is Peter', 'I am 26 years old']\n"
     ]
    }
   ],
   "source": [
    "txt = \"hello, my name is Peter, I am 26 years old\"\n",
    "\n",
    "# Split the string, using comma, followed by a space, as a separator\n",
    "x = txt.split(\", \")\n",
    "\n",
    "print(x)\n",
    "# ['hello', 'my name is Peter', 'I am 26 years old']"
   ]
  },
  {
   "cell_type": "markdown",
   "metadata": {},
   "source": [
    "**Another Example,**"
   ]
  },
  {
   "cell_type": "code",
   "execution_count": 9,
   "metadata": {},
   "outputs": [
    {
     "name": "stdout",
     "output_type": "stream",
     "text": [
      "['apple', 'banana', 'cherry', 'orange']\n"
     ]
    }
   ],
   "source": [
    "txt = \"apple#banana#cherry#orange\"\n",
    "\n",
    "# Use a hash character as a separator\n",
    "x = txt.split(\"#\")\n",
    "\n",
    "print(x)\n",
    "# ['apple', 'banana', 'cherry', 'orange']"
   ]
  },
  {
   "cell_type": "markdown",
   "metadata": {},
   "source": [
    "#### split() with seperator argument & maxsplit argument"
   ]
  },
  {
   "cell_type": "code",
   "execution_count": 10,
   "metadata": {},
   "outputs": [
    {
     "name": "stdout",
     "output_type": "stream",
     "text": [
      "['apple', 'banana', 'cherry, orange']\n",
      "3\n"
     ]
    }
   ],
   "source": [
    "txt = \"apple, banana, cherry, orange\"\n",
    "\n",
    "# setting the maxsplit parameter to 1, will return a list with 2 elements!\n",
    "x = txt.split(\", \",2)\n",
    "\n",
    "print(x)\n",
    "# ['apple', 'banana', 'cherry, orange']\n",
    "\n",
    "print(len(x))\n",
    "# 3 i.e. maxsplit = len(x) - 1 "
   ]
  },
  {
   "cell_type": "markdown",
   "metadata": {},
   "source": [
    "> **Note: In Python strings and lists are similar datatypes e.g. both are examples of sequences however theese are not just two sequences in python, there are other sequences too but we will discuss about them later but all of them share many operations like;**\n",
    "- Itration (for loop)\n",
    "- Indexing\n",
    "- lenght of sequence\n",
    "- concatination\n",
    "- verifaction, whether the element is present in a sequence or not\n",
    "> \n",
    "> there are too many operations, discussing all of them at once is not possible "
   ]
  },
  {
   "cell_type": "markdown",
   "metadata": {},
   "source": [
    "### Concatination : Adding more than one lists,  ' + ' or  ' * ' operator are used"
   ]
  },
  {
   "cell_type": "code",
   "execution_count": 11,
   "metadata": {},
   "outputs": [
    {
     "name": "stdout",
     "output_type": "stream",
     "text": [
      "['This', 'is', 'an', 'Example', 1, 2, 3]\n",
      "[1, 2, 3, 'This', 'is', 'an', 'Example']\n"
     ]
    }
   ],
   "source": [
    "# Using ' +  ' operator\n",
    "print(example + example_2) # ['This', 'is', 'an', 'Example', 1, 2, 3]\n",
    "\n",
    "# Using ' *  ' operator\n",
    "print(example_2 + example) # [1, 2, 3, 'This', 'is', 'an', 'Example']"
   ]
  },
  {
   "cell_type": "markdown",
   "metadata": {},
   "source": [
    "### Itration over List\n",
    "\n",
    "**First we'll look at itreation over elements of list by following example**"
   ]
  },
  {
   "cell_type": "code",
   "execution_count": 1,
   "metadata": {},
   "outputs": [
    {
     "name": "stdout",
     "output_type": "stream",
     "text": [
      "Total characters: 22, Average length: 5.5\n"
     ]
    }
   ],
   "source": [
    "# iteration over list\n",
    "\n",
    "animals = ['Lion','Zebra','Dolphin','Monkey']\n",
    "chars = 0\n",
    "for animal in animals:\n",
    "    chars += len(animal)\n",
    "\n",
    "print (\"Total characters: {}, Average length: {}\".format(chars, chars/len(animals)))"
   ]
  },
  {
   "cell_type": "markdown",
   "metadata": {},
   "source": [
    "**In Above Example we are interating over a each element of list and  for each element of list we are calclating total amout of characters that each element has. Since, the result is printed out of loop's body we get total numbers of characters presents inside the list after interating over all the elements of list and then for average we are counting the number if elements in the list.**\n",
    "\n",
    "> Note that, '{}' are used to replace values based on '.format' function where it replaces the value based on sequnce of variable \n",
    "\n",
    "Below is an breakdown of above code:"
   ]
  },
  {
   "cell_type": "code",
   "execution_count": 3,
   "metadata": {},
   "outputs": [
    {
     "name": "stdout",
     "output_type": "stream",
     "text": [
      "Number of Elements in the list: 4\n"
     ]
    }
   ],
   "source": [
    "print (\"Number of Elements in the list: \" + str(len(animals)))"
   ]
  },
  {
   "cell_type": "code",
   "execution_count": 4,
   "metadata": {},
   "outputs": [
    {
     "name": "stdout",
     "output_type": "stream",
     "text": [
      "Length of element at index 0 is: 4\n",
      "Length of element at index 1 is: 5\n",
      "Length of element at index 2 is: 7\n",
      "Length of element at index 3 is: 6\n",
      "Total length of animal is: 22 \n"
     ]
    }
   ],
   "source": [
    "chars = 0 #initial counting of elements of list\n",
    "i = 0 # index of elemetns of list\n",
    "\n",
    "for animal in animals:\n",
    "    # counting characters of each element\n",
    "    print (\"Length of element at index {} is: {}\".format(i, len(animal)))\n",
    "    i += 1 \n",
    "    #Adding length of each element to the previos value stored\n",
    "    chars += len(animal) #End of loop\n",
    "\n",
    "#Out of loop\n",
    "# Printing Total\n",
    "print (\"Total length of animal is: {} \".format(chars))"
   ]
  },
  {
   "cell_type": "code",
   "execution_count": 5,
   "metadata": {},
   "outputs": [
    {
     "name": "stdout",
     "output_type": "stream",
     "text": [
      "Total Charcters: 22\n",
      "Total Elements: 4\n",
      "Average: 5.5\n"
     ]
    }
   ],
   "source": [
    "#Sum of length of each element \n",
    "print (\"Total Charcters: \" + str(chars))\n",
    "\n",
    "#Total elements in the list\n",
    "sum = len(animals)\n",
    "print (\"Total Elements: \" + str(sum))\n",
    "\n",
    "# Now for average \n",
    "print (\"Average: \" +str(chars/sum))"
   ]
  },
  {
   "cell_type": "markdown",
   "metadata": {},
   "source": [
    "> **Note:** To know the index of an element while going through the list, You could use the *range* function and then use indexing to access the elements at the index that *range* returned. \n",
    ">\n",
    "> ***or***\n",
    ">\n",
    "> You could use a range function and then use indexing to access the elements at the index that *range* function just returned \n",
    ">\n",
    "> ***or***\n",
    ">\n",
    "> you could just use the *enumerate()* function. which returns the tuple as result containing index & element in the list"
   ]
  },
  {
   "cell_type": "code",
   "execution_count": null,
   "metadata": {},
   "outputs": [],
   "source": []
  },
  {
   "cell_type": "markdown",
   "metadata": {},
   "source": [
    "### append() : Appends the element at the end of the list"
   ]
  },
  {
   "cell_type": "code",
   "execution_count": 14,
   "metadata": {},
   "outputs": [
    {
     "name": "stdout",
     "output_type": "stream",
     "text": [
      "['This', 'is', 'an', 'Example']\n",
      "['This', 'is', 'an', 'Example', 'list']\n"
     ]
    }
   ],
   "source": [
    "example = ['This', 'is', 'an', 'Example']\n",
    "\n",
    "print(example)\n",
    "#['This', 'is', 'an', 'Example']\n",
    "\n",
    "example.append(\"list\")\n",
    "\n",
    "print(example)\n",
    "# ['This', 'is', 'an', 'Example']\n",
    "\n",
    "example = ['This', 'is', 'an', 'Example']\n",
    "#To avoid further conflicts"
   ]
  },
  {
   "cell_type": "markdown",
   "metadata": {},
   "source": [
    "### extend() : Extends the list or element at the end of list."
   ]
  },
  {
   "cell_type": "code",
   "execution_count": 15,
   "metadata": {},
   "outputs": [
    {
     "name": "stdout",
     "output_type": "stream",
     "text": [
      "[1, 2, 3, '4']\n",
      "['This', 'is', 'an', 'Example', 1, 2, 3, '4']\n"
     ]
    }
   ],
   "source": [
    "example_2 = [1,2,3]\n",
    "\n",
    "#extending elements\n",
    "example_2.extend('4')\n",
    "type('4')\n",
    "print (example_2)\n",
    "\n",
    "#extending list\n",
    "example.extend(example_2)\n",
    "print (example)\n",
    "\n",
    "example_2 = [1,2,3]\n",
    "example = ['This', 'is', 'an', 'Example']\n",
    "#To avoid further conflicts"
   ]
  },
  {
   "cell_type": "markdown",
   "metadata": {},
   "source": [
    "### insert(): Used to append/modify element of a list at defined index"
   ]
  },
  {
   "cell_type": "code",
   "execution_count": 16,
   "metadata": {},
   "outputs": [
    {
     "name": "stdout",
     "output_type": "stream",
     "text": [
      "['This', 'is', 'an', 'Example']\n",
      "['This', 'was', 'is', 'an', 'Example']\n"
     ]
    }
   ],
   "source": [
    "#before\n",
    "print(example)\n",
    "\n",
    "example.insert(1, \"was\")\n",
    "\n",
    "#After\n",
    "print(example)\n",
    "\n",
    "#['This', 'is', 'an', 'Example']\n",
    "#['This', 'was', 'is', 'an', 'Example']"
   ]
  },
  {
   "cell_type": "markdown",
   "metadata": {},
   "source": [
    "### remove(): used to remove elements from the list\n",
    "> Note: It takes only name of element as argument"
   ]
  },
  {
   "cell_type": "code",
   "execution_count": 17,
   "metadata": {},
   "outputs": [
    {
     "name": "stdout",
     "output_type": "stream",
     "text": [
      "['This', 'was', 'is', 'an', 'Example']\n",
      "['This', 'is', 'an', 'Example']\n"
     ]
    }
   ],
   "source": [
    "#before\n",
    "example = ['This', 'was', 'is', 'an', 'Example']\n",
    "print(example)\n",
    "\n",
    "example.remove(\"was\")\n",
    "\n",
    "#After\n",
    "print(example)\n",
    "\n",
    "#['This', 'was', 'is', 'an', 'Example']\n",
    "#['This', 'is', 'an', 'Example']"
   ]
  },
  {
   "cell_type": "markdown",
   "metadata": {},
   "source": [
    "### pop(): Another method to remove elements from the list\n",
    "> Note: It takes only index (int) as argument and returns the element itself that was removed/popped at the passed index"
   ]
  },
  {
   "cell_type": "code",
   "execution_count": 18,
   "metadata": {},
   "outputs": [
    {
     "name": "stdout",
     "output_type": "stream",
     "text": [
      "['This', 'was', 'is', 'an', 'Example']\n"
     ]
    }
   ],
   "source": [
    "#before\n",
    "example = ['This', 'was', 'is', 'an', 'Example']\n",
    "print(example)\n",
    "\n",
    "example.pop(1)\n",
    "\n",
    "#After\n",
    "#print(example)\n",
    "\n",
    "#['This', 'was', 'is', 'an', 'Example']\n",
    "#['This', 'is', 'an', 'Example']\n",
    "\n",
    "example = ['This', 'is', 'an', 'Example']"
   ]
  },
  {
   "cell_type": "markdown",
   "metadata": {},
   "source": [
    "### Modifying the elemen of a list\n",
    "> _Note: Modification can be done using index of element_"
   ]
  },
  {
   "cell_type": "code",
   "execution_count": 19,
   "metadata": {},
   "outputs": [
    {
     "name": "stdout",
     "output_type": "stream",
     "text": [
      "['This', 'is', 'an', 'Example']\n",
      "is\n",
      "['This', 'was', 'an', 'Example']\n"
     ]
    }
   ],
   "source": [
    "#list\n",
    "print(example)\n",
    "# ['This', 'is', 'an', 'Example']\n",
    "\n",
    "#Element at index\n",
    "print(example[1]) # is\n",
    "\n",
    "#modification\n",
    "example[1] = \"was\" #changed to was\n",
    "\n",
    "print(example)\n",
    "# ['This', 'was', 'an', 'Example']"
   ]
  },
  {
   "cell_type": "markdown",
   "metadata": {},
   "source": [
    "## Problem Statement: \n",
    "\n",
    "### *The skip_elements function returns a list containing every other element from an input list, starting with the first element. Complete this function to do that, using the for loop to iterate through the input list.*"
   ]
  },
  {
   "cell_type": "code",
   "execution_count": 20,
   "metadata": {},
   "outputs": [
    {
     "name": "stdout",
     "output_type": "stream",
     "text": [
      "['a', 'c', 'e', 'g']\n",
      "['Orange', 'Strawberry', 'Peach']\n",
      "[]\n"
     ]
    }
   ],
   "source": [
    "def skip_elements(elements):\n",
    "\t# Initialize variables\n",
    "\tnew_list = []\n",
    "\ti = 0\n",
    "\n",
    "\t# Iterate through the list\n",
    "\tfor i in range (len(elements)):\n",
    "\t\t# Does this element belong in the resulting list?\n",
    "\t\tif i%2 == 0: \n",
    "\t\t\t# Add this element to the resulting list\n",
    "\t\t\tnew_list.append(elements[i])\n",
    "\t\t# Increment i\n",
    "\t\ti +=1\n",
    "\n",
    "\treturn new_list\n",
    "\n",
    "print(skip_elements([\"a\", \"b\", \"c\", \"d\", \"e\", \"f\", \"g\"])) # Should be ['a', 'c', 'e', 'g']\n",
    "print(skip_elements(['Orange', 'Pineapple', 'Strawberry', 'Kiwi', 'Peach'])) # Should be ['Orange', 'Strawberry', 'Peach']\n",
    "print(skip_elements([])) # Should be []"
   ]
  },
  {
   "cell_type": "markdown",
   "metadata": {},
   "source": [
    "### Another Method:"
   ]
  },
  {
   "cell_type": "code",
   "execution_count": 21,
   "metadata": {},
   "outputs": [
    {
     "name": "stdout",
     "output_type": "stream",
     "text": [
      "['a', 'c', 'e', 'g']\n",
      "['Orange', 'Strawberry', 'Peach']\n",
      "[]\n"
     ]
    }
   ],
   "source": [
    "def skip_elements(elements):\n",
    "  # Initialize variables\n",
    "  new_list = []\n",
    "  i = 0\n",
    "\n",
    "  # Iterate through the list by value and not index\n",
    "  for elem in elements:\n",
    "      # Does this element belong in the resulting list? Check on index\n",
    "      if i % 2 == 0:\n",
    "          # Add this element to the resulting list\n",
    "          new_list.append(elem)\n",
    "      # Increment index\n",
    "      i += 1\n",
    "\n",
    "  return new_list\n",
    "\n",
    "print(skip_elements([\"a\", \"b\", \"c\", \"d\", \"e\", \"f\", \"g\"])) # Should be ['a', 'c', 'e', 'g']\n",
    "print(skip_elements(['Orange', 'Pineapple', 'Strawberry', 'Kiwi', 'Peach'])) # Should be \n",
    "['Orange', 'Strawberry', 'Peach']\n",
    "print(skip_elements([])) # Should be []"
   ]
  },
  {
   "cell_type": "markdown",
   "metadata": {},
   "source": [
    "Thanks,\n",
    "\n",
    "**_SK_**"
   ]
  }
 ],
 "metadata": {
  "kernelspec": {
   "display_name": "Python 3",
   "language": "python",
   "name": "python3"
  },
  "language_info": {
   "codemirror_mode": {
    "name": "ipython",
    "version": 3
   },
   "file_extension": ".py",
   "mimetype": "text/x-python",
   "name": "python",
   "nbconvert_exporter": "python",
   "pygments_lexer": "ipython3",
   "version": "3.8.10"
  }
 },
 "nbformat": 4,
 "nbformat_minor": 4
}
