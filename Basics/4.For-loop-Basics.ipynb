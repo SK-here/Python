{
 "cells": [
  {
   "cell_type": "markdown",
   "metadata": {},
   "source": [
    "# For Loop in Python\n",
    "#### @Author: Saksham Trivedi aka SK"
   ]
  },
  {
   "cell_type": "markdown",
   "metadata": {},
   "source": [
    "Bofore Understanding the concept of for loops let's discuss about range() function in python.\n",
    "\n",
    "#### Defination:\n",
    "- The **range()** function is a built-in-function used in python, it is used to generate a sequence of numbers. \n",
    "\n",
    "**Syntax:**\n",
    "    range(start, stop, step)\n",
    "    \n",
    "##### let's discuss about eact parameter of range funtion:\n",
    "- **start** (optional): An integer number that specifies where to start     (Default value is 0)\n",
    "- **stop** (required): An integer number that specifies where to stop.\n",
    "- **step** (optional): An integer number that specifies how much to increment the number (Default value is 1)\n",
    "\n",
    "#### Note:\n",
    "> - **range(n)** > starts with 0 by default & ends at n-1 \n",
    ">\n",
    "> - **range(n,m)** > starts at n instead of 0 & ends at m-1 \n",
    ">\n",
    "> - **range(n,m,r)** > starts at n, ends at m-1, but jumps at every interval r\n",
    ">\n",
    ">      e.g. m+1r, m+2r, m+3r.... (increments using last parameter)\n"
   ]
  },
  {
   "cell_type": "markdown",
   "metadata": {},
   "source": [
    "#### For better understanding let's take a example:\n",
    "\n",
    "**1. Sum of all squares between number**"
   ]
  },
  {
   "cell_type": "code",
   "execution_count": 1,
   "metadata": {},
   "outputs": [
    {
     "name": "stdout",
     "output_type": "stream",
     "text": [
      "\n",
      "55\n"
     ]
    }
   ],
   "source": [
    "def square(n):\n",
    "    return n*n\n",
    "\n",
    "def sum_squares(x):\n",
    "    sum = 0\n",
    "    for n in range (x + 1): # range (stop)\n",
    "        sum += square (n)\n",
    "    return sum\n",
    "\n",
    "print ()\n",
    "print(sum_squares(5)) "
   ]
  },
  {
   "cell_type": "markdown",
   "metadata": {},
   "source": [
    "#### 2. Factorial of a number"
   ]
  },
  {
   "cell_type": "code",
   "execution_count": 2,
   "metadata": {},
   "outputs": [
    {
     "name": "stdout",
     "output_type": "stream",
     "text": [
      "factorial of 4 is : 24\n",
      "factorial of 5 is : 120\n"
     ]
    }
   ],
   "source": [
    "def factorial(n):\n",
    "    result = 1\n",
    "    i = 1\n",
    "    for i in range (1, n+1): # range (start, stop)\n",
    "        \n",
    "        result = result * i      \n",
    "    return result\n",
    "\n",
    "print(\"factorial of {} is : {}\".format(4, factorial(4))) \n",
    "# should return 24\n",
    "print(\"factorial of {} is : {}\".format(5, factorial(5))) \n",
    "# should return 120"
   ]
  },
  {
   "cell_type": "markdown",
   "metadata": {},
   "source": [
    "#### 3. Let us see what happens when we give the step value to the range function."
   ]
  },
  {
   "cell_type": "code",
   "execution_count": 3,
   "metadata": {},
   "outputs": [
    {
     "name": "stdout",
     "output_type": "stream",
     "text": [
      "1\n",
      "3\n",
      "5\n",
      "7\n",
      "9\n"
     ]
    }
   ],
   "source": [
    "x = range(1, 10, 2) # range (start, stop, step)\n",
    "for i in x:\n",
    "    print(i)"
   ]
  },
  {
   "cell_type": "markdown",
   "metadata": {},
   "source": [
    "As seen above the step is used to increment the numbers, in this case, the step is 2 so the number is incremented by 2."
   ]
  },
  {
   "cell_type": "markdown",
   "metadata": {},
   "source": [
    "## For Loop"
   ]
  },
  {
   "cell_type": "markdown",
   "metadata": {},
   "source": [
    "A **for** loop is used for iterating over a sequence (that is either a list, a tuple, a dictionary, a set, or a string)."
   ]
  },
  {
   "cell_type": "markdown",
   "metadata": {},
   "source": [
    "**Note:**\n",
    "> - If a certain condtions met, By using the ***break*** statement we can stop the loop before it has looped through all the items.\n",
    "> - With the ***continue*** statement we can skip the current iteration of the loop, and continue with the next.\n",
    "> - ***else*** can also be used with for loop which executes after the loop/iteration ends\n",
    ">> The ***else*** block will not be executed if loop is stopped by ***break*** statement\n",
    "> - Loops can be used in nested form\n",
    "\n",
    "***Below are some mixed example of loops and iteration using loop***"
   ]
  },
  {
   "cell_type": "markdown",
   "metadata": {},
   "source": [
    "### Examples:\n",
    "### 1. Printing every non repeated phase of a domino"
   ]
  },
  {
   "cell_type": "code",
   "execution_count": 4,
   "metadata": {},
   "outputs": [
    {
     "name": "stdout",
     "output_type": "stream",
     "text": [
      "[0|0] [0|1] [0|2] [0|3] [0|4] [0|5] [0|6] \n",
      "[1|1] [1|2] [1|3] [1|4] [1|5] [1|6] \n",
      "[2|2] [2|3] [2|4] [2|5] [2|6] \n",
      "[3|3] [3|4] [3|5] [3|6] \n",
      "[4|4] [4|5] [4|6] \n",
      "[5|5] [5|6] \n",
      "[6|6] \n"
     ]
    }
   ],
   "source": [
    "def domino():\n",
    "\n",
    "    for left in range (7): #loops for columns\n",
    "        #print( \"Left : \" + str(left) )\n",
    "        \n",
    "        for right in range (left,7): #number of rows \n",
    "            \n",
    "            #print(\"Right: \" + str(right), end=\" \")\n",
    "            \n",
    "            print(\"[\" + str(left) + \"|\" + str(right) + \"]\", end=\" \")\n",
    "        print ()\n",
    "    \n",
    "domino()"
   ]
  },
  {
   "cell_type": "markdown",
   "metadata": {},
   "source": [
    "### 2. Pattern"
   ]
  },
  {
   "cell_type": "code",
   "execution_count": 5,
   "metadata": {},
   "outputs": [
    {
     "name": "stdout",
     "output_type": "stream",
     "text": [
      "Inverted Triangle : \n",
      "*******\n",
      "******\n",
      "*****\n",
      "****\n",
      "***\n",
      "**\n",
      "*\n"
     ]
    }
   ],
   "source": [
    "print(\"Inverted Triangle : \")\n",
    "def starp1():\n",
    "\n",
    "    for left in range (7):\n",
    "        for right in range (left,7):\n",
    "            print(\"*\", end=\"\")\n",
    "        print ()\n",
    "    \n",
    "starp1()"
   ]
  },
  {
   "cell_type": "markdown",
   "metadata": {},
   "source": [
    "### 3. Every possible Team matches without conflicts"
   ]
  },
  {
   "cell_type": "code",
   "execution_count": 6,
   "metadata": {},
   "outputs": [
    {
     "name": "stdout",
     "output_type": "stream",
     "text": [
      "Dragons Vs Wolves\n",
      "Dragons Vs Pandas\n",
      "Dragons Vs Unicorns\n",
      "Wolves Vs Dragons\n",
      "Wolves Vs Pandas\n",
      "Wolves Vs Unicorns\n",
      "Pandas Vs Dragons\n",
      "Pandas Vs Wolves\n",
      "Pandas Vs Unicorns\n",
      "Unicorns Vs Dragons\n",
      "Unicorns Vs Wolves\n",
      "Unicorns Vs Pandas\n"
     ]
    }
   ],
   "source": [
    "def possible_teams():\n",
    "    teams = ['Dragons','Wolves','Pandas',\"Unicorns\"]\n",
    "    for home_team in teams :\n",
    "        for away_teams in teams :\n",
    "            if home_team != away_teams :\n",
    "                print (home_team + \" Vs \" + away_teams )\n",
    "\n",
    "\n",
    "possible_teams()"
   ]
  },
  {
   "cell_type": "markdown",
   "metadata": {},
   "source": [
    "### 4. To check whether a username length is valid or not. \n",
    "> Where valid user contains atleast 3 char"
   ]
  },
  {
   "cell_type": "code",
   "execution_count": 7,
   "metadata": {},
   "outputs": [
    {
     "name": "stdout",
     "output_type": "stream",
     "text": [
      "AN is invalid\n",
      "SK is invalid\n",
      "Emily is valid\n",
      "Paul is valid\n"
     ]
    }
   ],
   "source": [
    "def is_valid(check_users):\n",
    "    for user in [check_users]:\n",
    "            if len(user) >= 3:\n",
    "                return True\n",
    "            else:\n",
    "                return False\n",
    "\n",
    "def validate_users(users):\n",
    "    for user in users:\n",
    "        if is_valid(user): \n",
    "          print(user + \" is valid\")\n",
    "        else:\n",
    "          print (user + \" is invalid\")\n",
    "\n",
    "validate_users(['AN','SK','Emily','Paul'])"
   ]
  },
  {
   "cell_type": "markdown",
   "metadata": {},
   "source": [
    "### 5. Using break  & continue statement\n",
    "#### 1. Break\n",
    "> - If certain condtions met within a loop or iteration, ***break*** statement allows us to stop the loop or iteration right there.\n",
    "#### 2. Continue\n",
    "> - Same goes for ***continue*** statements but reverse to ***break***, If certain conditions falls to be true; It allows loop / iteration to continue or skip that iteration.\n",
    "\n",
    "**Below is a example of checking whether the username is authorized or not.**"
   ]
  },
  {
   "cell_type": "code",
   "execution_count": 8,
   "metadata": {},
   "outputs": [
    {
     "name": "stdout",
     "output_type": "stream",
     "text": [
      "Authorized User\n",
      "\n",
      "Unauthorized User\n"
     ]
    }
   ],
   "source": [
    "def valid_user(username):\n",
    "    users = (\"Henery\", \"Paul\", \"Anna\", \"Emily\", \"Albert\")\n",
    "    for user in users:\n",
    "        if user == username:\n",
    "            print (\"Authorized User\")\n",
    "            break\n",
    "        elif user != username:\n",
    "            continue\n",
    "    if user != username:\n",
    "        print (\"Unauthorized User\")\n",
    "\n",
    "#uncomment this line for user input\n",
    "#username = input(\"Enter Username:\\n\")\n",
    "#print (username + \" is a \" + valid_user(username))\n",
    "\n",
    "\n",
    "valid_user(\"Anna\")# True; Authorized User\n",
    "print()\n",
    "valid_user(\"Emilia\") # False; Unathorized user"
   ]
  },
  {
   "cell_type": "markdown",
   "metadata": {},
   "source": [
    "### 6. For with else\n",
    "> ***else*** keyword can also be used with for loops as well where it continues the execution block after the iteration ends"
   ]
  },
  {
   "cell_type": "code",
   "execution_count": 9,
   "metadata": {},
   "outputs": [
    {
     "name": "stdout",
     "output_type": "stream",
     "text": [
      "My Basket contains:\n",
      "Mango\n",
      "Strawberry\n",
      "Orange\n",
      "Peach\n",
      "Sorry!!! I will get it soon from the market\n",
      "\n",
      "My Basket contains:\n",
      "Mango\n",
      "Strawberry\n",
      "Orange\n",
      "Peach\n",
      "Wo hoo!!! It's right there, go & pick Up\n"
     ]
    }
   ],
   "source": [
    "def fruit_basket(choice):\n",
    "    fruits = [\"Mango\", \"Strawberry\", \"Orange\", \"Peach\"]\n",
    "    print (\"My Basket contains:\")\n",
    "    for fruit in fruits:\n",
    "        print(fruit)\n",
    "    else:\n",
    "        if choice in fruits:\n",
    "            print(\"Wo hoo!!! It's right there, go & pick Up\")\n",
    "        else:\n",
    "            print (\"Sorry!!! I will get it soon from the market\")\n",
    "            \n",
    "fruit_basket(\"Apple\") # False\n",
    "print()\n",
    "fruit_basket(\"Peach\") # True"
   ]
  },
  {
   "cell_type": "markdown",
   "metadata": {},
   "source": [
    "## #Common Pitfalls in for loops\n",
    "\n",
    "#### 1. In python string supports iteration\n",
    "\n",
    "In python string support iteration and iterates over each character of the string (including whitespaces)"
   ]
  },
  {
   "cell_type": "code",
   "execution_count": 10,
   "metadata": {},
   "outputs": [
    {
     "name": "stdout",
     "output_type": "stream",
     "text": [
      "t\n",
      "e\n",
      "s\n",
      "t\n",
      "3\n",
      " \n",
      "@\n"
     ]
    }
   ],
   "source": [
    "for x in \"test3 @\" or str (25): \n",
    "    print(x)"
   ]
  },
  {
   "cell_type": "markdown",
   "metadata": {},
   "source": [
    "#### 2. Iteration over Sequence\n",
    "##### Python supports iteration over loop and tuples \n",
    "In Lists, Tuples & Dictionaries iteration is done over each element/object of a list or tuple.\n",
    "\n",
    "**( Discalimer: List,Tuples & Dictionaries are later discussed seperately)**\n",
    "\n",
    "#### 2.1 Lists"
   ]
  },
  {
   "cell_type": "code",
   "execution_count": 11,
   "metadata": {},
   "outputs": [
    {
     "name": "stdout",
     "output_type": "stream",
     "text": [
      "This\n",
      "is\n",
      "an\n",
      "Example\n"
     ]
    }
   ],
   "source": [
    "list = [\"This\", \"is\", \"an\", \"Example\"]\n",
    "for element in list: # iteration over List \n",
    "    print(element)"
   ]
  },
  {
   "cell_type": "markdown",
   "metadata": {},
   "source": [
    "#### 2.2 Tuples"
   ]
  },
  {
   "cell_type": "code",
   "execution_count": 12,
   "metadata": {
    "scrolled": true
   },
   "outputs": [
    {
     "name": "stdout",
     "output_type": "stream",
     "text": [
      "Tuple\n",
      "Are\n",
      "Cool\n"
     ]
    }
   ],
   "source": [
    "tuple = (\"Tuple\", \"Are\", \"Cool\")\n",
    "for object in tuple: # iteration over Tuple\n",
    "    print (object)"
   ]
  },
  {
   "cell_type": "markdown",
   "metadata": {},
   "source": [
    "#### 2.3 Dictionaries"
   ]
  },
  {
   "cell_type": "code",
   "execution_count": 13,
   "metadata": {},
   "outputs": [
    {
     "name": "stdout",
     "output_type": "stream",
     "text": [
      "List Of given states:\n",
      "Gujarat\n",
      "Maharashtra\n",
      "Rajasthan\n",
      "Bihar\n"
     ]
    }
   ],
   "source": [
    "statesAndCapitals = {\n",
    "\t'Gujarat': 'Gandhinagar',\n",
    "\t'Maharashtra': 'Mumbai',\n",
    "\t'Rajasthan': 'Jaipur',\n",
    "\t'Bihar': 'Patna'\n",
    "}\n",
    "\n",
    "print('List Of given states:')\n",
    "\n",
    "# Iterating over keys\n",
    "for state in statesAndCapitals:\n",
    "\tprint(state)"
   ]
  },
  {
   "cell_type": "markdown",
   "metadata": {},
   "source": [
    "#### 3. integer using range() function \n",
    "while using range function python iterates over integers as range funtion has **start, stop & step (jump)** parameters with default values"
   ]
  },
  {
   "cell_type": "code",
   "execution_count": 14,
   "metadata": {},
   "outputs": [
    {
     "name": "stdout",
     "output_type": "stream",
     "text": [
      "0\n",
      "1\n",
      "2\n",
      "3\n",
      "4\n",
      "5\n",
      "6\n",
      "7\n",
      "8\n",
      "9\n"
     ]
    }
   ],
   "source": [
    "for x in range(10):\n",
    "    print(x)"
   ]
  },
  {
   "cell_type": "markdown",
   "metadata": {},
   "source": [
    "#### 3.1 Iteration over integer\n",
    "Python Does not support iteration over integer"
   ]
  },
  {
   "cell_type": "code",
   "execution_count": 15,
   "metadata": {},
   "outputs": [
    {
     "ename": "TypeError",
     "evalue": "'int' object is not iterable",
     "output_type": "error",
     "traceback": [
      "\u001b[0;31m---------------------------------------------------------------------------\u001b[0m",
      "\u001b[0;31mTypeError\u001b[0m                                 Traceback (most recent call last)",
      "\u001b[0;32m<ipython-input-15-8ab5d1a09144>\u001b[0m in \u001b[0;36m<module>\u001b[0;34m\u001b[0m\n\u001b[0;32m----> 1\u001b[0;31m \u001b[0;32mfor\u001b[0m \u001b[0mx\u001b[0m \u001b[0;32min\u001b[0m \u001b[0;36m25\u001b[0m\u001b[0;34m:\u001b[0m\u001b[0;34m\u001b[0m\u001b[0;34m\u001b[0m\u001b[0m\n\u001b[0m\u001b[1;32m      2\u001b[0m     \u001b[0mprint\u001b[0m \u001b[0;34m(\u001b[0m\u001b[0mx\u001b[0m\u001b[0;34m)\u001b[0m\u001b[0;34m\u001b[0m\u001b[0;34m\u001b[0m\u001b[0m\n\u001b[1;32m      3\u001b[0m     \u001b[0;31m# Error\u001b[0m\u001b[0;34m\u001b[0m\u001b[0;34m\u001b[0m\u001b[0;34m\u001b[0m\u001b[0m\n",
      "\u001b[0;31mTypeError\u001b[0m: 'int' object is not iterable"
     ]
    }
   ],
   "source": [
    "for x in 25:\n",
    "    print (x)\n",
    "    # Error"
   ]
  },
  {
   "cell_type": "markdown",
   "metadata": {},
   "source": [
    "***Thanks,***\n",
    "\n",
    "SK"
   ]
  }
 ],
 "metadata": {
  "kernelspec": {
   "display_name": "Python 3",
   "language": "python",
   "name": "python3"
  },
  "language_info": {
   "codemirror_mode": {
    "name": "ipython",
    "version": 3
   },
   "file_extension": ".py",
   "mimetype": "text/x-python",
   "name": "python",
   "nbconvert_exporter": "python",
   "pygments_lexer": "ipython3",
   "version": "3.8.10"
  }
 },
 "nbformat": 4,
 "nbformat_minor": 4
}
