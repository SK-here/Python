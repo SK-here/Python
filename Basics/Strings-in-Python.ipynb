{
 "cells": [
  {
   "cell_type": "markdown",
   "metadata": {},
   "source": [
    "# Strings in Python\n",
    "#### @Author : Saksham Trivedi aka SK\n",
    "> **Strings:** A Collection of characters or text is called strings, usually strings are initialized under eighter double quotes (\" \") or single quotes (' ').\n",
    ">\n",
    "> **i.e.** **_\"Example\"_** or ***'Example'*** both are acceptable but usually double quotes **(\"\")** are used \n",
    ">> - In Python Strings are immutable (cannot be changed)\n",
    ">> - Strings are itrateable"
   ]
  },
  {
   "cell_type": "markdown",
   "metadata": {},
   "source": [
    "## Example:"
   ]
  },
  {
   "cell_type": "code",
   "execution_count": 1,
   "metadata": {},
   "outputs": [
    {
     "name": "stdout",
     "output_type": "stream",
     "text": [
      "Hello\n",
      "Hello\n"
     ]
    }
   ],
   "source": [
    "print (\"Hello\") \n",
    "# or\n",
    "print ('Hello')\n",
    "\n",
    "#but cannot\n",
    "\n",
    "# print (\" Hello ')\n",
    "# or\n",
    "# print (' Hello \")"
   ]
  },
  {
   "cell_type": "markdown",
   "metadata": {},
   "source": [
    "## # Operations on Strings"
   ]
  },
  {
   "cell_type": "markdown",
   "metadata": {},
   "source": [
    "### 1. Indexing of strings \n",
    "In python stings are treated as sequence & the indexing of strings or any sequence starts with 0 and ends at **length of string - 1**"
   ]
  },
  {
   "cell_type": "code",
   "execution_count": 2,
   "metadata": {},
   "outputs": [
    {
     "name": "stdout",
     "output_type": "stream",
     "text": [
      "7\n",
      "\n",
      "E\n",
      "e\n",
      "l\n"
     ]
    }
   ],
   "source": [
    "sample = \"Example\"\n",
    "\n",
    "print(len(sample)) # length\n",
    "print()\n",
    "print (sample[0]) # Index = 0\n",
    "print (sample[6]) # Index = 6\n",
    "print (sample[5]) # index = 5"
   ]
  },
  {
   "cell_type": "markdown",
   "metadata": {},
   "source": [
    "### 2. Iteration over string\n",
    "Since, strings are treated as sequence in python, Using loop string can be iterated, including whitespaces."
   ]
  },
  {
   "cell_type": "code",
   "execution_count": 3,
   "metadata": {},
   "outputs": [
    {
     "name": "stdout",
     "output_type": "stream",
     "text": [
      "\n",
      "E\n",
      "x\n",
      "a\n",
      "m\n",
      "p\n",
      "l\n",
      "e\n"
     ]
    }
   ],
   "source": [
    "print ()\n",
    "for i in range (len(sample)): \n",
    "    print (sample[i])"
   ]
  },
  {
   "cell_type": "markdown",
   "metadata": {},
   "source": [
    "### 3. -ve Indexing\n",
    "In python strings supports -ve Indexing where particular index is access using formula **len(string) + 1 - n** where, ***n*** is the -ve integer/index "
   ]
  },
  {
   "cell_type": "code",
   "execution_count": 4,
   "metadata": {},
   "outputs": [
    {
     "name": "stdout",
     "output_type": "stream",
     "text": [
      "7\n",
      "e\n",
      "m\n",
      "E\n"
     ]
    }
   ],
   "source": [
    "sample = \"Example\"\n",
    "\n",
    "print (len(sample))\n",
    "print (sample[-1]) # last : 'e'\n",
    "print (sample[-4]) # middle 'm'\n",
    "print (sample[-7]) # First 'E'"
   ]
  },
  {
   "cell_type": "markdown",
   "metadata": {},
   "source": [
    "### 4. Slicing of strings\n",
    "Strings can be sliced in a python using first & last index of that string \n",
    "\n",
    "Slicing can be done using _string_name [n:m]_ \n",
    "Where, \n",
    "\n",
    "- n => Starting Index if slicing\n",
    "- m => Ending Index of slicing\n",
    "\n",
    "**Note:**\n",
    "> Value of n,m can vary from +ve integer to -ve integer or even 0"
   ]
  },
  {
   "cell_type": "code",
   "execution_count": 5,
   "metadata": {},
   "outputs": [
    {
     "name": "stdout",
     "output_type": "stream",
     "text": [
      "68\n",
      "s is\n",
      "\n",
      "This \n",
      "\n",
      "a very very long string where I am gonna demonstrate slicing\n",
      "\n",
      "\n",
      "\n",
      " very very long string where I am gonna demonstrate sl\n",
      "\n",
      "\n",
      "\n",
      "cing\n",
      "\n",
      "This is a very very long string where I am gonna demonstrate s\n"
     ]
    }
   ],
   "source": [
    "sample = \"This is a very very long string where I am gonna demonstrate slicing\"\n",
    "\n",
    "print(len(sample))\n",
    "#Starts from 3 - 1 to 7 - 1\n",
    "print (sample[3:7])\n",
    "print()\n",
    "#Starts from 0 to 5 - 1\n",
    "print (sample[:5])\n",
    "print()\n",
    "#Starts from 8 - 1 = 7 to\n",
    "print (sample[8:])\n",
    "print()\n",
    "#Starts from len(sample) +1 -1 i.e. 68 +1 -1 = 68 to 7-1 = 6\n",
    "print (sample[-1:7])\n",
    "print()\n",
    "#Starts from 9 - 1 = 8 to 68 + 1 -5 = 64\n",
    "print (sample[9:-5])\n",
    "print()\n",
    "#Starts from 68 +1 -1 = 68 to 68 + 1 -5 = 64\n",
    "print (sample[-1:-5])\n",
    "print()\n",
    "#Starts from 68 + 1 -4 = 65 to 68\n",
    "print (sample[-4:])\n",
    "print()\n",
    "#Starts from 0 to 68 + 1 -6 = 63\n",
    "print (sample[:-6])"
   ]
  },
  {
   "cell_type": "markdown",
   "metadata": {},
   "source": [
    "### 5. Merging/Concatination of strings in python\n",
    "Strings can be mergered or concate (better to say) using **'+'** operator "
   ]
  },
  {
   "cell_type": "code",
   "execution_count": 6,
   "metadata": {},
   "outputs": [
    {
     "name": "stdout",
     "output_type": "stream",
     "text": [
      "Hi!!  Anna Welcome to Turkey\n"
     ]
    }
   ],
   "source": [
    "name = \" Anna\"\n",
    "country = \"Turkey\" \n",
    "\n",
    "age = 21 #integer \n",
    "\n",
    "#String concatination\n",
    "print ( \"Hi!! \"+ name + \" Welcome to \" + country)"
   ]
  },
  {
   "cell_type": "markdown",
   "metadata": {},
   "source": [
    "**Note**\n",
    "> String doesnot support concatination with integers \n",
    "\n",
    "below is an Example:"
   ]
  },
  {
   "cell_type": "code",
   "execution_count": 7,
   "metadata": {},
   "outputs": [
    {
     "ename": "TypeError",
     "evalue": "can only concatenate str (not \"int\") to str",
     "output_type": "error",
     "traceback": [
      "\u001b[0;31m---------------------------------------------------------------------------\u001b[0m",
      "\u001b[0;31mTypeError\u001b[0m                                 Traceback (most recent call last)",
      "\u001b[0;32m<ipython-input-7-3caaefedc6a2>\u001b[0m in \u001b[0;36m<module>\u001b[0;34m\u001b[0m\n\u001b[0;32m----> 1\u001b[0;31m \u001b[0mprint\u001b[0m \u001b[0;34m(\u001b[0m\u001b[0;34m\"I guess you're around \"\u001b[0m \u001b[0;34m+\u001b[0m \u001b[0mage\u001b[0m \u001b[0;34m+\u001b[0m \u001b[0;34m\" right?\"\u001b[0m\u001b[0;34m)\u001b[0m \u001b[0;31m# Error\u001b[0m\u001b[0;34m\u001b[0m\u001b[0;34m\u001b[0m\u001b[0m\n\u001b[0m",
      "\u001b[0;31mTypeError\u001b[0m: can only concatenate str (not \"int\") to str"
     ]
    }
   ],
   "source": [
    "print (\"I guess you're around \" + age + \" right?\") # Error"
   ]
  },
  {
   "cell_type": "markdown",
   "metadata": {},
   "source": [
    "> **However, converting or using explicit typecasting into string concatination of string with the integers can be achived.**"
   ]
  },
  {
   "cell_type": "code",
   "execution_count": 8,
   "metadata": {},
   "outputs": [
    {
     "name": "stdout",
     "output_type": "stream",
     "text": [
      "I guess you're around 21 right?\n"
     ]
    }
   ],
   "source": [
    "print (\"I guess you're around \" + str (age) + \" right?\")"
   ]
  },
  {
   "cell_type": "markdown",
   "metadata": {},
   "source": [
    "### 6. String updation\n",
    "### In pyhton, since the strings are immutable, So no updation is allowed."
   ]
  },
  {
   "cell_type": "code",
   "execution_count": 9,
   "metadata": {},
   "outputs": [
    {
     "ename": "TypeError",
     "evalue": "'str' object does not support item assignment",
     "output_type": "error",
     "traceback": [
      "\u001b[0;31m---------------------------------------------------------------------------\u001b[0m",
      "\u001b[0;31mTypeError\u001b[0m                                 Traceback (most recent call last)",
      "\u001b[0;32m<ipython-input-9-d4f765b77f3d>\u001b[0m in \u001b[0;36m<module>\u001b[0;34m\u001b[0m\n\u001b[1;32m      1\u001b[0m \u001b[0msample\u001b[0m \u001b[0;34m=\u001b[0m \u001b[0;34m\"This is sampke\"\u001b[0m\u001b[0;34m\u001b[0m\u001b[0;34m\u001b[0m\u001b[0m\n\u001b[1;32m      2\u001b[0m \u001b[0;34m\u001b[0m\u001b[0m\n\u001b[0;32m----> 3\u001b[0;31m \u001b[0msample\u001b[0m\u001b[0;34m[\u001b[0m\u001b[0;34m-\u001b[0m\u001b[0;36m2\u001b[0m\u001b[0;34m]\u001b[0m \u001b[0;34m=\u001b[0m \u001b[0;34m\"l\"\u001b[0m\u001b[0;34m\u001b[0m\u001b[0;34m\u001b[0m\u001b[0m\n\u001b[0m\u001b[1;32m      4\u001b[0m \u001b[0;34m\u001b[0m\u001b[0m\n\u001b[1;32m      5\u001b[0m \u001b[0mprint\u001b[0m \u001b[0;34m(\u001b[0m\u001b[0msample\u001b[0m\u001b[0;34m)\u001b[0m \u001b[0;31m#Error\u001b[0m\u001b[0;34m\u001b[0m\u001b[0;34m\u001b[0m\u001b[0m\n",
      "\u001b[0;31mTypeError\u001b[0m: 'str' object does not support item assignment"
     ]
    }
   ],
   "source": [
    "sample = \"This is sampke\"\n",
    "\n",
    "sample[-2] = \"l\"\n",
    "\n",
    "print (sample) #Error"
   ]
  },
  {
   "cell_type": "markdown",
   "metadata": {},
   "source": [
    "### 7. Repeatation\n",
    "Repetation can be done via using * or + operators"
   ]
  },
  {
   "cell_type": "code",
   "execution_count": 10,
   "metadata": {},
   "outputs": [
    {
     "name": "stdout",
     "output_type": "stream",
     "text": [
      " one  one  one \n",
      "\n",
      " one  Two \n",
      "\n",
      " one  one  one  one  Two  Two  Two  Two \n",
      "\n",
      " one  one  one \n"
     ]
    }
   ],
   "source": [
    "sample1 = ' one '\n",
    "\n",
    "sample2 = ' Two '\n",
    "\n",
    "print (sample1 * 3)\n",
    "print()\n",
    "print (sample1 + sample2)\n",
    "print()\n",
    "print ((sample1 * 4) + (sample2 * 4))\n",
    "print()\n",
    "print (sample1 * 3)"
   ]
  },
  {
   "cell_type": "markdown",
   "metadata": {},
   "source": [
    "### 8. To update string\n",
    "Since strings are immutable so it cannot be modified for the same variable or same memory location but we can update storing by storing the modifications in another variable or another memory location."
   ]
  },
  {
   "cell_type": "code",
   "execution_count": 11,
   "metadata": {},
   "outputs": [
    {
     "name": "stdout",
     "output_type": "stream",
     "text": [
      "Aonalisa\n",
      "\n",
      "onalisa\n",
      "\n",
      "Aonalisa\n",
      "\n",
      "Monalisa\n"
     ]
    }
   ],
   "source": [
    "sample = \"Aonalisa\" #correction, it's Monalisa\n",
    "\n",
    "print(sample) #before\n",
    "print()\n",
    "print (sample[1:])\n",
    "print()\n",
    "\n",
    "#new String is created as previous string cannot modified directly\n",
    "new_string = \"M\" + sample[1:] # \"M\" + \"onalisa\" = Monalisa\n",
    "\n",
    "print (sample) #after; It still will be same\n",
    "print ()\n",
    "print (new_string)"
   ]
  },
  {
   "cell_type": "markdown",
   "metadata": {},
   "source": [
    "## # Strings methods\n",
    "Below are some common methods used for string"
   ]
  },
  {
   "cell_type": "markdown",
   "metadata": {},
   "source": [
    "#### 1. Uppercase"
   ]
  },
  {
   "cell_type": "code",
   "execution_count": 12,
   "metadata": {},
   "outputs": [
    {
     "data": {
      "text/plain": [
       "' HELLO '"
      ]
     },
     "execution_count": 12,
     "metadata": {},
     "output_type": "execute_result"
    }
   ],
   "source": [
    "string = \" Hello \"\n",
    "\n",
    "string.upper()"
   ]
  },
  {
   "cell_type": "markdown",
   "metadata": {},
   "source": [
    "#### 2. Lowercase"
   ]
  },
  {
   "cell_type": "code",
   "execution_count": 13,
   "metadata": {},
   "outputs": [
    {
     "data": {
      "text/plain": [
       "' hello '"
      ]
     },
     "execution_count": 13,
     "metadata": {},
     "output_type": "execute_result"
    }
   ],
   "source": [
    "string = \" Hello \"\n",
    "string.lower()"
   ]
  },
  {
   "cell_type": "markdown",
   "metadata": {},
   "source": [
    "#### 3. To check whether the string is numeric or not"
   ]
  },
  {
   "cell_type": "code",
   "execution_count": 14,
   "metadata": {},
   "outputs": [
    {
     "name": "stdout",
     "output_type": "stream",
     "text": [
      "False\n",
      "True\n"
     ]
    }
   ],
   "source": [
    "string = \" Hello \"\n",
    "integer = \"45\"\n",
    "\n",
    "print(string.isnumeric())\n",
    "\n",
    "print(integer.isnumeric())"
   ]
  },
  {
   "cell_type": "markdown",
   "metadata": {},
   "source": [
    "#### 4. Stripping any spaces or new line char"
   ]
  },
  {
   "cell_type": "code",
   "execution_count": 15,
   "metadata": {},
   "outputs": [
    {
     "data": {
      "text/plain": [
       "'Hello'"
      ]
     },
     "execution_count": 15,
     "metadata": {},
     "output_type": "execute_result"
    }
   ],
   "source": [
    "string.strip()"
   ]
  },
  {
   "cell_type": "markdown",
   "metadata": {},
   "source": [
    "#### 5. Stripping from left side"
   ]
  },
  {
   "cell_type": "code",
   "execution_count": 16,
   "metadata": {},
   "outputs": [
    {
     "data": {
      "text/plain": [
       "'Hello '"
      ]
     },
     "execution_count": 16,
     "metadata": {},
     "output_type": "execute_result"
    }
   ],
   "source": [
    "string.lstrip()"
   ]
  },
  {
   "cell_type": "markdown",
   "metadata": {},
   "source": [
    "#### 6. Stripping from right side\n"
   ]
  },
  {
   "cell_type": "code",
   "execution_count": 17,
   "metadata": {},
   "outputs": [
    {
     "data": {
      "text/plain": [
       "' Hello'"
      ]
     },
     "execution_count": 17,
     "metadata": {},
     "output_type": "execute_result"
    }
   ],
   "source": [
    "string.rstrip()"
   ]
  },
  {
   "cell_type": "markdown",
   "metadata": {},
   "source": [
    "#### 7. Commbining multiple strings "
   ]
  },
  {
   "cell_type": "code",
   "execution_count": 18,
   "metadata": {
    "scrolled": true
   },
   "outputs": [
    {
     "name": "stdout",
     "output_type": "stream",
     "text": [
      "['Hello', 'This', 'is', 'SK']\n",
      "\n",
      "<class 'list'>\n",
      "\n",
      "Hello This is SK\n",
      "\n",
      "('Hello', 'This', 'is', 'SK')\n",
      "\n",
      "<class 'tuple'>\n",
      "\n",
      "Hello_This_is_SK\n"
     ]
    }
   ],
   "source": [
    "sample_text = [\"Hello\",\"This\",\"is\",\"SK\"]\n",
    "\n",
    "print(sample_text)\n",
    "print()\n",
    "combined_text = \" \".join(sample_text) # \"delimitter\".join()\n",
    "print(type(sample_text))\n",
    "print()\n",
    "print (combined_text)\n",
    "print ()\n",
    "\n",
    "\n",
    "sample_text = (\"Hello\",\"This\",\"is\",\"SK\")\n",
    "print(sample_text)\n",
    "print()\n",
    "print(type(sample_text))\n",
    "print()\n",
    "combined_text = \"_\".join(sample_text)\n",
    "print (combined_text)"
   ]
  },
  {
   "cell_type": "markdown",
   "metadata": {},
   "source": [
    "#### 8. Splitting into multiple strings, Where each string is divided into word"
   ]
  },
  {
   "cell_type": "code",
   "execution_count": 19,
   "metadata": {},
   "outputs": [
    {
     "name": "stdout",
     "output_type": "stream",
     "text": [
      "['Hello_This_is_SK']\n",
      "['Hello_This_is_SK']\n"
     ]
    }
   ],
   "source": [
    "print (combined_text.split())\n",
    "\n",
    "# With delimiter\n",
    "print (combined_text.split(','))"
   ]
  },
  {
   "cell_type": "markdown",
   "metadata": {},
   "source": [
    "#### 9. Counting number of repeatation of character in a given string"
   ]
  },
  {
   "cell_type": "code",
   "execution_count": 20,
   "metadata": {},
   "outputs": [
    {
     "data": {
      "text/plain": [
       "2"
      ]
     },
     "execution_count": 20,
     "metadata": {},
     "output_type": "execute_result"
    }
   ],
   "source": [
    "string.count(\"l\")"
   ]
  },
  {
   "cell_type": "markdown",
   "metadata": {},
   "source": [
    "#### 10. Checking whether the string is ending with given string"
   ]
  },
  {
   "cell_type": "code",
   "execution_count": 21,
   "metadata": {},
   "outputs": [
    {
     "data": {
      "text/plain": [
       "False"
      ]
     },
     "execution_count": 21,
     "metadata": {},
     "output_type": "execute_result"
    }
   ],
   "source": [
    "string.endswith(\"o\")"
   ]
  },
  {
   "cell_type": "markdown",
   "metadata": {},
   "source": [
    "#### 11. To check whether the alphanumeric char present or not"
   ]
  },
  {
   "cell_type": "code",
   "execution_count": 22,
   "metadata": {},
   "outputs": [
    {
     "data": {
      "text/plain": [
       "False"
      ]
     },
     "execution_count": 22,
     "metadata": {},
     "output_type": "execute_result"
    }
   ],
   "source": [
    "string.isalpha()"
   ]
  },
  {
   "cell_type": "markdown",
   "metadata": {},
   "source": [
    "#### 12. To replace the whole string to given string"
   ]
  },
  {
   "cell_type": "code",
   "execution_count": 23,
   "metadata": {},
   "outputs": [
    {
     "data": {
      "text/plain": [
       "'New String'"
      ]
     },
     "execution_count": 23,
     "metadata": {},
     "output_type": "execute_result"
    }
   ],
   "source": [
    "string = ' Hello '\n",
    "string.replace(\" Hello \",\"New String\")"
   ]
  },
  {
   "cell_type": "markdown",
   "metadata": {},
   "source": [
    "### The format() method\n",
    "- **{}** is used to **indicate the position of formatting** and parameter inside the **_.format()_** method are used to replace them in a given order."
   ]
  },
  {
   "cell_type": "code",
   "execution_count": 24,
   "metadata": {},
   "outputs": [
    {
     "name": "stdout",
     "output_type": "stream",
     "text": [
      "Hello I am SK and my lucky number is 2 & I am having a fun\n",
      "Hello I am 2 and my lucky number is SK have fun\n"
     ]
    }
   ],
   "source": [
    "name = 'SK'\n",
    "\n",
    "number = len(name)\n",
    "\n",
    "moment = \"fun\"\n",
    " \n",
    "print (\"Hello I am {} and my lucky number is {} & I am having a {}\".format(name, number, moment))\n",
    "\n",
    "\n",
    "print (\"Hello I am {} and my lucky number is {} have {}\".format(number, name, moment))"
   ]
  },
  {
   "cell_type": "markdown",
   "metadata": {},
   "source": [
    "**It can also be used in following way if the order is not defined**"
   ]
  },
  {
   "cell_type": "code",
   "execution_count": 25,
   "metadata": {},
   "outputs": [
    {
     "name": "stdout",
     "output_type": "stream",
     "text": [
      "Hello I am SK and my lucky number is 2 have fun\n"
     ]
    }
   ],
   "source": [
    "print (\"Hello I am {name} and my lucky number is {number} have {moment}\".format(moment = moment, number = number, name = name))"
   ]
  },
  {
   "cell_type": "code",
   "execution_count": 26,
   "metadata": {},
   "outputs": [
    {
     "name": "stdout",
     "output_type": "stream",
     "text": [
      "7.5 8.175\n",
      "Base price: $7.50, With Tax $8.18\n"
     ]
    }
   ],
   "source": [
    "price = 7.5\n",
    "with_tax = price * 1.09 #in percent\n",
    "\n",
    "#normal formats\n",
    "print(price, with_tax)\n",
    "\n",
    "# With formatting upto 2 digits after decimal\n",
    "print (\"Base price: ${:.2f}, With Tax ${:.2f}\".format(price,with_tax))"
   ]
  },
  {
   "cell_type": "markdown",
   "metadata": {},
   "source": [
    "### # Problem Statement:\n",
    "\n",
    ">Modify the student_grade method so that it returns the \"X received Y%\" \n",
    "on the exam. Ex. student_grade(\"Reed\", 80) should return\n",
    "\"Reed received 80% on the Exam\""
   ]
  },
  {
   "cell_type": "code",
   "execution_count": 27,
   "metadata": {},
   "outputs": [
    {
     "name": "stdout",
     "output_type": "stream",
     "text": [
      "Reed received 80% on exam\n",
      "Peggy received 87% on exam\n",
      "Sk received 77% on exam\n"
     ]
    }
   ],
   "source": [
    "\n",
    "def student_grade(name, grade):\n",
    "    return \"{name} received {grade}% on exam\".format(name=name, grade=grade)\n",
    "\n",
    "print(student_grade(\"Reed\",80))\n",
    "print(student_grade(\"Peggy\",87))\n",
    "print(student_grade(\"Sk\",77))"
   ]
  },
  {
   "cell_type": "markdown",
   "metadata": {},
   "source": [
    "### # Problem Statement\n",
    "> Farehneinght to Celcius"
   ]
  },
  {
   "cell_type": "code",
   "execution_count": 28,
   "metadata": {},
   "outputs": [
    {
     "name": "stdout",
     "output_type": "stream",
     "text": [
      "0 -17.77777777777778\n",
      "10 -12.222222222222221\n",
      "20 -6.666666666666667\n",
      "30 -1.1111111111111112\n",
      "40 4.444444444444445\n",
      "50 10.0\n",
      "60 15.555555555555555\n",
      "70 21.11111111111111\n",
      "80 26.666666666666668\n",
      "90 32.22222222222222\n",
      "100 37.77777777777778\n",
      "\n",
      "  0 F | -17.78 C\n",
      " 10 F | -12.22 C\n",
      " 20 F |  -6.67 C\n",
      " 30 F |  -1.11 C\n",
      " 40 F |   4.44 C\n",
      " 50 F |  10.00 C\n",
      " 60 F |  15.56 C\n",
      " 70 F |  21.11 C\n",
      " 80 F |  26.67 C\n",
      " 90 F |  32.22 C\n",
      "100 F |  37.78 C\n"
     ]
    }
   ],
   "source": [
    "def to_celcius(x):\n",
    "    return (x-32)*5/9\n",
    "\n",
    "# Simple format\n",
    "for x in range(0,101,10):\n",
    "    print(x, to_celcius(x))\n",
    "\n",
    "print (\"\")\n",
    "\n",
    "# using format method\n",
    "\n",
    "for x in range(0,101,10):\n",
    "    print(\"{:>3} F | {:>6.2f} C\".format(x, to_celcius(x)))"
   ]
  },
  {
   "cell_type": "markdown",
   "metadata": {},
   "source": [
    "### # Problem Statement:\n",
    "\n",
    "> Fill in the gaps in the initials function so that it returns the initials of the words contained in the phrase received, in upper case. For example: \"Universal Serial Bus\" should return \"USB\"; \"local area network\" should return \"LAN”.\n"
   ]
  },
  {
   "cell_type": "code",
   "execution_count": 29,
   "metadata": {},
   "outputs": [
    {
     "name": "stdout",
     "output_type": "stream",
     "text": [
      "USB\n",
      "LAN\n",
      "OS\n"
     ]
    }
   ],
   "source": [
    "def initials(phrase):\n",
    "    words = phrase.split()\n",
    "    result = \"\"\n",
    "    for word in words:\n",
    "        result += word[0].upper()\n",
    "    return result\n",
    "\n",
    "print(initials(\"Universal Serial Bus\")) # Should be: USB\n",
    "print(initials(\"local area network\")) # Should be: LAN\n",
    "print(initials(\"Operating system\")) # Should be: OS\n"
   ]
  },
  {
   "cell_type": "markdown",
   "metadata": {},
   "source": [
    "### # \"base string with {} placeholders\".format(variables)"
   ]
  },
  {
   "cell_type": "code",
   "execution_count": 30,
   "metadata": {},
   "outputs": [
    {
     "name": "stdout",
     "output_type": "stream",
     "text": [
      "this is an example of using the format() method on a string\n"
     ]
    }
   ],
   "source": [
    "example = \"format() method\"\n",
    "\n",
    "formatted_string = \"this is an example of using the {} on a string\".format(example)\n",
    "\n",
    "print(formatted_string)"
   ]
  },
  {
   "cell_type": "markdown",
   "metadata": {},
   "source": [
    "### # If the placeholders indicate a number, they’re replaced by the variable corresponding to that order (starting at zero).\n",
    "> **\"{0} {1}\".format(first, second)**"
   ]
  },
  {
   "cell_type": "code",
   "execution_count": 31,
   "metadata": {},
   "outputs": [
    {
     "name": "stdout",
     "output_type": "stream",
     "text": [
      "apple carrot banana\n"
     ]
    },
    {
     "data": {
      "text/plain": [
       "'Outputs:\\napple carrot banana\\n'"
      ]
     },
     "execution_count": 31,
     "metadata": {},
     "output_type": "execute_result"
    }
   ],
   "source": [
    "first = \"apple\"\n",
    "second = \"banana\"\n",
    "third = \"carrot\"\n",
    "\n",
    "formatted_string = \"{0} {2} {1}\".format(first, second, third)\n",
    "\n",
    "print(formatted_string)\n",
    "\n",
    "\"\"\"Outputs:\n",
    "apple carrot banana\n",
    "\"\"\""
   ]
  },
  {
   "cell_type": "markdown",
   "metadata": {},
   "source": [
    "### # Things To Remember"
   ]
  },
  {
   "cell_type": "markdown",
   "metadata": {},
   "source": [
    "------------------------------------------------------------------------------------------\n",
    "### 1. If the placeholders indicate a field name, they’re replaced by the variable corresponding to that field name. This means that parameters to format need to be passed indicating the field name.\n",
    "\n",
    "> #### \"{var1} {var2}\".format(var1=value1, var2=value2)\n",
    "\n",
    "> #### \"{:exp1} {:exp2}\".format(value1, value2)\n",
    "\n",
    "### 2. If the placeholders include a colon, what comes after the colon is a formatting expression.\n",
    "\n",
    "> #### {:d} integer value\n",
    "\n",
    "> #### '{:d}'.format(10.5) → '10'\n",
    "\n",
    "-------------------------------------------------------------------------------------------"
   ]
  },
  {
   "cell_type": "markdown",
   "metadata": {},
   "source": [
    "### # For Better Undersatnding see the table below"
   ]
  },
  {
   "cell_type": "code",
   "execution_count": 1,
   "metadata": {},
   "outputs": [],
   "source": [
    "#Expr   |            Meaning                            |           Example\n",
    "#\n",
    "#{:d}   | integer value                                 | '{:d}'.format(10.5) → '10'\n",
    "#\n",
    "#{:.2f} | floating point with that many decimals        | '{:.2f}'.format(0.5) → '0.50'\n",
    "#\n",
    "#{:.2s} | string with that many characters              | '{:.2s}'.format('Python') → 'Py'\n",
    "#\n",
    "#{:<6s} | string aligned to the left that many spaces   | '{:<6s}'.format('Py') → 'Py\n",
    "#\n",
    "#{:>6s} | string aligned to the right that many spaces  | '{:>6s}'.format('Py') → '    Py'\n",
    "#\n",
    "#{:^6s} | string centered in that many spaces           | '{:^6s}'.format('Py') → '  Py  '"
   ]
  },
  {
   "cell_type": "markdown",
   "metadata": {},
   "source": [
    "### # Problem Statement:\n",
    "\n",
    "> If a string is a palindrome. A palindrome is a string that can be equally read from left to right or right to left, omitting blank spaces, and ignoring capitalization."
   ]
  },
  {
   "cell_type": "code",
   "execution_count": 32,
   "metadata": {},
   "outputs": [
    {
     "name": "stdout",
     "output_type": "stream",
     "text": [
      "True\n",
      "False\n",
      "True\n"
     ]
    }
   ],
   "source": [
    "def is_palindrome(input_string):\n",
    "# We'll create two strings, to compare them\n",
    "    new_string = \"\"\n",
    "    reverse_string = \"\"\n",
    "# Traverse through each letter of the input string\n",
    "    for string in input_string.lower():\n",
    "# Add any non-blank letters to the \n",
    "# end of one string, and to the front\n",
    "# of the other string. \n",
    "        if string.replace(\" \",\"\"):\n",
    "            new_string = string + new_string\n",
    "            reverse_string = string + reverse_string\n",
    "# Compare the strings\n",
    "    if new_string[::-1]==reverse_string:\n",
    "        return True\n",
    "    return False\n",
    "\n",
    "print(is_palindrome(\"Never Odd or Even\")) # Should be True\n",
    "print(is_palindrome(\"abc\")) # Should be False\n",
    "print(is_palindrome(\"kayak\")) # Should be True\n"
   ]
  },
  {
   "cell_type": "markdown",
   "metadata": {},
   "source": [
    "### # Problem Statement:\n",
    ">Miles to Km converter"
   ]
  },
  {
   "cell_type": "code",
   "execution_count": 33,
   "metadata": {},
   "outputs": [
    {
     "name": "stdout",
     "output_type": "stream",
     "text": [
      "12 miles equals 19.2 km\n",
      "5.5 miles equals 8.8 km\n",
      "11 miles equals 17.6 km\n"
     ]
    }
   ],
   "source": [
    "def convert_distance(miles):\n",
    "    km = miles * 1.6 \n",
    "    result = \"{} miles equals {:.1f} km\".format(miles,km)\n",
    "    return result\n",
    "\n",
    "print(convert_distance(12)) # Should be: 12 miles equals 19.2 km\n",
    "print(convert_distance(5.5)) # Should be: 5.5 miles equals 8.8 km\n",
    "print(convert_distance(11)) # Should be: 11 miles equals 17.6 km"
   ]
  },
  {
   "cell_type": "markdown",
   "metadata": {},
   "source": [
    "### # Problem Statement:\n",
    "> To print for Ex nametag(\"Jane\", \"Smith\") should return \"Jane S.\""
   ]
  },
  {
   "cell_type": "code",
   "execution_count": 34,
   "metadata": {},
   "outputs": [
    {
     "name": "stdout",
     "output_type": "stream",
     "text": [
      "Jane S.\n",
      "Francesco R.\n",
      "Jean-Luc G.\n"
     ]
    }
   ],
   "source": [
    "def nametag(first_name, last_name):\n",
    "    return(\"{} {}.\".format(first_name, last_name[0]))\n",
    "\n",
    "print(nametag(\"Jane\", \"Smith\")) \n",
    "# Should display \"Jane S.\" \n",
    "print(nametag(\"Francesco\", \"Rinaldi\")) \n",
    "# Should display \"Francesco R.\" \n",
    "print(nametag(\"Jean-Luc\", \"Grand-Pierre\")) \n",
    "# Should display \"Jean-Luc G.\" "
   ]
  },
  {
   "cell_type": "markdown",
   "metadata": {},
   "source": [
    "### # Problem Statement:\n",
    "> To replaces the old string in a sentence with the new string, but only if the sentence ends with the old string. If there is more than one occurrence of the old string in the sentence, only the one at the end is replaced, not all of them.\n"
   ]
  },
  {
   "cell_type": "code",
   "execution_count": 35,
   "metadata": {},
   "outputs": [
    {
     "name": "stdout",
     "output_type": "stream",
     "text": [
      "It's raining cats and dogs\n",
      "She sells seashells by the seashore\n",
      "The weather is nice in May\n",
      "The weather is nice in April\n"
     ]
    }
   ],
   "source": [
    "def replace_ending(sentence, old, new):\n",
    "    # Check if the old string is at the end of the sentence \n",
    "    if old[:] == sentence[-len(old):]:\n",
    "# Using i as the slicing index, combine the part\n",
    "# of the sentence up to the matched string at the \n",
    "# end with the new string\n",
    "        i = len(old)\n",
    "        new_sentence = sentence[:-i] + new\n",
    "        return new_sentence\n",
    "\n",
    "# Return the original sentence if there is no match \n",
    "    return sentence\n",
    "\n",
    "print(replace_ending(\"It's raining cats and cats\", \"cats\", \"dogs\")) \n",
    "# Should display \"It's raining cats and dogs\"\n",
    "print(replace_ending(\"She sells seashells by the seashore\", \"seashells\", \"donuts\")) \n",
    "# Should display \"She sells seashells by the seashore\"\n",
    "print(replace_ending(\"The weather is nice in May\", \"may\", \"april\")) \n",
    "# Should display \"The weather is nice in May\"\n",
    "print(replace_ending(\"The weather is nice in May\", \"May\", \"April\")) \n",
    "# Should display \"The weather is nice in April\""
   ]
  },
  {
   "cell_type": "markdown",
   "metadata": {},
   "source": [
    "**Thanks,**\n",
    "\n",
    "  SK"
   ]
  }
 ],
 "metadata": {
  "kernelspec": {
   "display_name": "Python 3",
   "language": "python",
   "name": "python3"
  },
  "language_info": {
   "codemirror_mode": {
    "name": "ipython",
    "version": 3
   },
   "file_extension": ".py",
   "mimetype": "text/x-python",
   "name": "python",
   "nbconvert_exporter": "python",
   "pygments_lexer": "ipython3",
   "version": "3.8.10"
  }
 },
 "nbformat": 4,
 "nbformat_minor": 4
}
