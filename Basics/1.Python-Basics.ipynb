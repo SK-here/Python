{
 "cells": [
  {
   "cell_type": "markdown",
   "metadata": {},
   "source": [
    "# Python Programming\n",
    "\n",
    "### @Author: Saksham Trivedi aka SK"
   ]
  },
  {
   "cell_type": "markdown",
   "metadata": {},
   "source": [
    "Before we dive deep into the nitty gritty of python programming let's understand what is programming first\n",
    "\n",
    "**Programming:** In computer programming, **Writting The set of instructions by defining a each step in such a way that It can accomplish a desired task or a set of task** is known as programming. \n",
    "Usually, theese instructions are written in a high level computer programming languages like C, C++, Java, Python, C# ( C Sharp), etc. \n",
    "\n",
    "### Key Definations:\n",
    "- **Computer Program:** The set of instructions wrtitten to accomplish a desired task.\n",
    "\n",
    "\n",
    "- **Source Code:** The text file that contains the instructions written for the program or set of program using any programming language.\n",
    "\n",
    "\n",
    "- **Software:** The set of various computer programs packaged to accomplish a desired taks.\n",
    "\n",
    "\n",
    "- **Programming Languages:** The Programming languages or often referred as High level languages are used to write programming instructions for a program to accomplish some tasks which further embedded as a package also known as **Softwares.** Where _Programming Languages_ acts as a Intermediatory between human and computers in such a way that human can easily pass instructions to the computers.\n",
    "\n",
    "\n",
    "**There are Two types of languages:**\n",
    "> - *Compiler Based:* Translation of the whole program all at once.\n",
    "> - *Interpreter Based:* Translation of instructions of program one by one per line in a sequential order.\n",
    ">\n",
    ">The Diffrence between compiler & Interpreter is a bit explanatory to itself (so it's better to go with your findings to make your answer by yourself).\n",
    ">\n",
    ">>**Note:**\n",
    ">>\n",
    ">> However few languages works diffrent, like Java; As java uses both Java Compiler and Java Interpreter so in such case flow of program may change very drastically\n",
    "\n",
    "- **Compilers:** A program generally written in same language for which it is intended to compile. And used to translate the high level programming language into the machine code or binary code (i.e. 1's & 0's). Where, It checks the whole program at, and if errors are there It throws all the errors at once after going through the whole program\n",
    "\n",
    "\n",
    "- **Interpreter:** A program generally written in same language for which it is intended to translate. Interpreters interprets the set of instructions written in high level programming language line by line and executes them in a real time. Unlike compilers, Interpreters checks the programming instructions line by line, and if errors are found It throws the errors and stops the checking & execution for next instructions"
   ]
  },
  {
   "cell_type": "markdown",
   "metadata": {},
   "source": [
    "## What is Python?\n",
    "Python is a OpenSource interpreter based scripting language developed by **Guido von Rossum** in 1991. \n",
    "\n",
    "Since, the language is OpenSource & the develoment community for python has grown; The significant changes to the semantics and syntax of the languages were happenned & many advancements are also introduced to the language Itself. \n",
    "\n",
    "the first major release of Python was Python 2 in 2000, and in 2008 the another major release of python 3. but Throughout the journey we will use Python 3.7 (Released in 2018).\n",
    "\n",
    "Today python is used in almost all the sectors of Information Technology ranges from Data Science, Automation, BackEnd Development, ML, AI, Game Development and much more. The the capabilities of python is more than we can think of and As the development is still going as It adds more capabilities and features into the language."
   ]
  },
  {
   "cell_type": "markdown",
   "metadata": {},
   "source": [
    "### Features of Python:\n",
    "- OpenSource\n",
    "- Close to human language (English Specifically)\n",
    "- Easy to write, Understand & maintain\n",
    "- Cross Platform\n",
    "- Large Dev Community"
   ]
  },
  {
   "cell_type": "markdown",
   "metadata": {},
   "source": [
    "#### The first python code:"
   ]
  },
  {
   "cell_type": "code",
   "execution_count": 1,
   "metadata": {},
   "outputs": [
    {
     "name": "stdout",
     "output_type": "stream",
     "text": [
      "Welcome To Python\n",
      "Welcome To Python\n"
     ]
    }
   ],
   "source": [
    "print (\"Welcome To Python\")\n",
    "print ('Welcome To Python')"
   ]
  },
  {
   "cell_type": "markdown",
   "metadata": {},
   "source": [
    "In above example we used a ***print*** function to print output"
   ]
  },
  {
   "cell_type": "markdown",
   "metadata": {},
   "source": [
    "## Functions:\n",
    "A piece or a block of code that performs a specific task within a program. In python **def** keyword is used to initialized the code block as a function followed by function name with parenthesis followed by indentation. \n",
    "\n",
    "i.e. \n",
    "> **_def_** *funtion_name():*\n",
    ">\n",
    ">     statement_1\n",
    ">     statement_2\n",
    "\n",
    "In function a parameter can be passes under parenthesis however, it is not mandatory to pass a parameter to the function. It still will be usable same as it with parameters.\n",
    "\n",
    "i.e. \n",
    "> **_def_** *funtion_name(parameter):*\n",
    ">\n",
    ">     statement_1\n",
    ">     statement_2\n"
   ]
  },
  {
   "cell_type": "markdown",
   "metadata": {},
   "source": [
    "#### Example of function:"
   ]
  },
  {
   "cell_type": "code",
   "execution_count": 2,
   "metadata": {},
   "outputs": [
    {
     "name": "stdout",
     "output_type": "stream",
     "text": [
      "26\n"
     ]
    }
   ],
   "source": [
    "# Function without parameter\n",
    "def add():\n",
    "    num1 = 14\n",
    "    num2 = 12 \n",
    "    result = num1 + num2\n",
    "    return result\n",
    "\n",
    "print (add())"
   ]
  },
  {
   "cell_type": "code",
   "execution_count": 3,
   "metadata": {},
   "outputs": [
    {
     "name": "stdout",
     "output_type": "stream",
     "text": [
      "2\n"
     ]
    }
   ],
   "source": [
    "# Function with parameter\n",
    "def minus(num1, num2):\n",
    "    result = num1 - num2\n",
    "    return result\n",
    "\n",
    "print (minus(14, 12))"
   ]
  },
  {
   "cell_type": "markdown",
   "metadata": {},
   "source": [
    "**Note:**\n",
    "> ***return*** keyword is used to return any value but is totally optional means you can use **print()** function also to return values, In python the return value of a function can be any object."
   ]
  },
  {
   "cell_type": "markdown",
   "metadata": {},
   "source": [
    "## Keywords:\n",
    "Keywords are pre-defined set of words in any programming laguages which perfoms certain task also you cannot use them as a user defined words in programming; It will throw error. In python, in some cases if you might use such keywords and no errors are thrown there's no gurantee of the desired output or flow of program. also in such case it requires alot of debugging since no errors are shown.\n",
    "\n",
    "**Some of the keywords are mentioned below:**"
   ]
  },
  {
   "cell_type": "code",
   "execution_count": 6,
   "metadata": {},
   "outputs": [],
   "source": [
    "#   False    #   class      #   finally   #   is          #   return      #\n",
    "#   None     #   continue   #   for       #   lambda      #   try         #\n",
    "#   True     #   def        #   from      #   nonlocal    #   while       #\n",
    "#   and      #   del        #   global    #   not         #   with        #\n",
    "#   as       #   elif       #   if        #   or          #   yield       #\n",
    "#   assert   #  else        #   import    #   pass        # \n",
    "#   break    #   except     #   in        #   raise       # "
   ]
  },
  {
   "cell_type": "markdown",
   "metadata": {},
   "source": [
    "---------------------------------------------------------------------------------------------\n",
    "\n",
    "## Operators in Python:"
   ]
  },
  {
   "cell_type": "markdown",
   "metadata": {},
   "source": [
    "Operators are used for various purposes we will explore how operators decides the flow of a program\n",
    "\n",
    "***Following are some common types of Operators:***\n",
    "> - Arithmetic Operators\n",
    "> - Logical Operators\n",
    "> - Comparision Operators\n",
    "> - Assignment Operators\n",
    "> - Identity Operators\n",
    "> - Membership Operators\n",
    "> - Bitwise Operators"
   ]
  },
  {
   "cell_type": "markdown",
   "metadata": {},
   "source": [
    "### Arithmetic Operators:\n",
    "Python can operate with numbers using the usual mathematical operators, and some special operators, too. These are all of them \n",
    "\n",
    "- **a + b** = Adds a and b\n",
    "- **a - b** = Subtracts b from a\n",
    "- **a * b** = Multiplies a and b\n",
    "- **a / b** = Divides a by b\n",
    "- **a ** b** = Elevates a to the power of b. For non integer values of b, this becomes a root (i.e. a**(1/2) is the square root of a)\n",
    "- **a // b** = The integer part of the integer division of a by b\n",
    "- **a % b** = The remainder part of the integer division of a by b"
   ]
  },
  {
   "cell_type": "markdown",
   "metadata": {},
   "source": [
    "### Logical Operators:\n",
    "Logical operators are used to simulate the logic gates (truth table) and to perform certain tasks such as combining conditional statements\n",
    "\n",
    "The logical operators can change the flow of program and check the condtions and acts further accordingly:"
   ]
  },
  {
   "cell_type": "code",
   "execution_count": 1,
   "metadata": {},
   "outputs": [
    {
     "name": "stdout",
     "output_type": "stream",
     "text": [
      "True\n",
      "True\n",
      "False\n"
     ]
    }
   ],
   "source": [
    "x = 3\n",
    "# and   -    Returns True if both statements are true \n",
    "print(x < 5 and  x < 10) #True\n",
    "\n",
    "# Truth Table\n",
    "\n",
    "# A  B   Result\n",
    "\n",
    "# 1  1     1\n",
    "\n",
    "# 1  0     0\n",
    "\n",
    "# 0  1     0\n",
    "\n",
    "# 0  0     1\n",
    "\n",
    "\n",
    "# or    -    Returns True if any of the statements is true \n",
    "print(x < 5 or x < 4) #True\n",
    "\n",
    "# Truth Table\n",
    "\n",
    "# A  B   Result\n",
    "\n",
    "# 1  1     1\n",
    "\n",
    "# 1  0     0\n",
    "\n",
    "# 0  1     0\n",
    "\n",
    "# 0  0     0\n",
    "\n",
    "\n",
    "\n",
    "\n",
    "\n",
    "\n",
    "# not    -   Reverse the result, returns False if the result is true \n",
    "print(not(x < 5 and x < 10)) # False\n",
    "\n",
    "# Truth Table\n",
    "\n",
    "# A   Result\n",
    "\n",
    "# 1     0\n",
    "\n",
    "# 0     1"
   ]
  },
  {
   "cell_type": "markdown",
   "metadata": {},
   "source": [
    "### Comparision Operators:\n",
    "Comparison operators are used to compare two values:"
   ]
  },
  {
   "cell_type": "code",
   "execution_count": 8,
   "metadata": {},
   "outputs": [
    {
     "name": "stdout",
     "output_type": "stream",
     "text": [
      "False\n",
      "True\n",
      "False\n",
      "True\n",
      "False\n",
      "True\n"
     ]
    }
   ],
   "source": [
    "y = 4\n",
    "#   ==    Equal\n",
    "print(x == y)\n",
    "\n",
    "#   !=    Not equal\n",
    "print(x != y)\n",
    "\n",
    "#   >     Greater than\n",
    "print(x > y)\n",
    "\n",
    "#   <     Less than\n",
    "print(x < y)\n",
    "\n",
    "#   >=    Greater than or equal to\n",
    "print(x >= y)\n",
    "\n",
    "#   <=    Less than or equal to\n",
    "print(x <= y)"
   ]
  },
  {
   "cell_type": "markdown",
   "metadata": {},
   "source": [
    "### Assignment Operator:\n",
    "Assignment operators are used to assign values to variables:"
   ]
  },
  {
   "cell_type": "code",
   "execution_count": 9,
   "metadata": {},
   "outputs": [],
   "source": [
    "#   Operator     Example     Same as\n",
    "#      =         x = 5       x = 5\n",
    "#     +=         x += 3      x = x + 3\n",
    "#     -=         x -= 3      x = x - 3\n",
    "#     *=         x *= 3      x = x * 3\n",
    "#     /=         x /= 3      x = x / 3\n",
    "#     %=         x %= 3      x = x % 3\n",
    "#     //=        x //= 3     x = x // 3\n",
    "#     **=        x **= 3     x = x ** 3\n",
    "#     &=         x &= 3      x = x & 3\n",
    "#    |=          x |= 3      x = x | 3\n",
    "#     ^=         x ^= 3      x = x ^ 3\n",
    "#    >>=         x >>= 3     x = x >> 3\n",
    "#    <<=         x <<= 3     x = x << 3"
   ]
  },
  {
   "cell_type": "markdown",
   "metadata": {},
   "source": [
    "### Identity Operators:\n",
    "Identity operators are used to compare the objects, not if they are equal, but if they are actually the same object, with the same memory location:"
   ]
  },
  {
   "cell_type": "code",
   "execution_count": 10,
   "metadata": {},
   "outputs": [
    {
     "name": "stdout",
     "output_type": "stream",
     "text": [
      "False\n",
      "True\n"
     ]
    }
   ],
   "source": [
    "# is        Returns true if both variables are the same object         \\\n",
    "print (x is y)\n",
    "# is not    Returns true if both variables are not the same object     \n",
    "print(x is not y)"
   ]
  },
  {
   "cell_type": "markdown",
   "metadata": {},
   "source": [
    "### Membership Operators:\n",
    "Membership operators are used to test if a sequence is presented in an object:"
   ]
  },
  {
   "cell_type": "code",
   "execution_count": 11,
   "metadata": {},
   "outputs": [
    {
     "name": "stdout",
     "output_type": "stream",
     "text": [
      "True\n",
      "False\n"
     ]
    }
   ],
   "source": [
    "y = [1, 2, 3 , 4, 5] \n",
    "# in    -   Returns True if a sequence with the specified value is present in the object   \n",
    "print (x in y) # True\n",
    "# not in -  Returns True if a sequence with the specified value is not present in the object\n",
    "print(x not in y) # False"
   ]
  },
  {
   "cell_type": "markdown",
   "metadata": {},
   "source": [
    "### BitWise Operator:\n",
    "Bitwise operators are used to compare (binary) numbers:\n",
    "\n",
    "> - **AND:** Sets each bit to 1 if both bits are 1\n",
    "\n",
    "> - **OR:** Sets each bit to 1 if both bits are 1\n",
    "\n",
    "> - **XOR:** Sets each bit to 1 if only one of two bits is 1\n",
    "\n",
    "> - **NOT:** Inverts all the bits\n",
    "\n",
    "> - **<< :** Shift left by pushing zeros in from the right and let the leftmost bits fall off\n",
    "\n",
    "> - **>> :** Shift right by pushing copies of the leftmost bit in from the left, and let the rightmost bits fall off"
   ]
  },
  {
   "cell_type": "markdown",
   "metadata": {},
   "source": [
    "#### AND ( & ) operator:"
   ]
  },
  {
   "cell_type": "code",
   "execution_count": 12,
   "metadata": {},
   "outputs": [
    {
     "name": "stdout",
     "output_type": "stream",
     "text": [
      "4\n"
     ]
    }
   ],
   "source": [
    "# Truth Table:\n",
    "# Input_1    Input_2     Output\n",
    "#   0          0           0\n",
    "#   0          1           0\n",
    "#   1          0           0\n",
    "#   1          1           1\n",
    "\n",
    "a, b = 4, 5\n",
    "print (a & b)"
   ]
  },
  {
   "cell_type": "markdown",
   "metadata": {},
   "source": [
    "##### Explaination:\n",
    "a = 0100 (binary representation of the value 4 in 4 bits)\n",
    "\n",
    "b = 0101 (binary representation of the value 5 in 4 bits)\n",
    "\n",
    "-----------------\n",
    "\n",
    "0100 (binary representation of the value 4 in 4 bits)\n",
    "\n",
    "-----------------"
   ]
  },
  {
   "cell_type": "markdown",
   "metadata": {},
   "source": [
    "#### OR ( | )"
   ]
  },
  {
   "cell_type": "code",
   "execution_count": 13,
   "metadata": {},
   "outputs": [
    {
     "name": "stdout",
     "output_type": "stream",
     "text": [
      "5\n"
     ]
    }
   ],
   "source": [
    "# Truth Table:\n",
    "# Input_1    Input_2     Output\n",
    "#   0          0           1\n",
    "#   0          1           1\n",
    "#   1          0           1\n",
    "#   1          1           0\n",
    "\n",
    "a, b = 4, 5\n",
    "print (a | b)"
   ]
  },
  {
   "cell_type": "markdown",
   "metadata": {},
   "source": [
    "##### Explanation:\n",
    "a = 0100 (binary representation of the value 4 in 4 bits)\n",
    "\n",
    "b = 0101 (binary representation of the value 5 in 4 bits)\n",
    "\n",
    "-----------------\n",
    "\n",
    "0101 (binary representation of the value 5 in 4 bits)\n",
    "\n",
    "-----------------"
   ]
  },
  {
   "cell_type": "markdown",
   "metadata": {},
   "source": [
    "#### XOR ( ^ )"
   ]
  },
  {
   "cell_type": "code",
   "execution_count": 14,
   "metadata": {},
   "outputs": [
    {
     "name": "stdout",
     "output_type": "stream",
     "text": [
      "1\n"
     ]
    }
   ],
   "source": [
    "# Truth Table:\n",
    "# Input_1    Input_2     Output\n",
    "#   0          0           0\n",
    "#   0          1           1\n",
    "#   1          0           1\n",
    "#   1          1           0\n",
    "\n",
    "a, b = 4, 5\n",
    "print (a ^ b)"
   ]
  },
  {
   "cell_type": "markdown",
   "metadata": {},
   "source": [
    "##### Explanation:\n",
    "\n",
    "a = 0100 (binary representation of the value 4 in 4 bits)\n",
    "\n",
    "b = 0101 (binary representation of the value 5 in 4 bits)\n",
    "\n",
    "-----------------\n",
    "\n",
    "0001 (binary representation of the value 1 in 4 bits)\n",
    "\n",
    "-----------------"
   ]
  },
  {
   "cell_type": "markdown",
   "metadata": {},
   "source": [
    "#### NOT ( ~ )"
   ]
  },
  {
   "cell_type": "code",
   "execution_count": 15,
   "metadata": {},
   "outputs": [
    {
     "name": "stdout",
     "output_type": "stream",
     "text": [
      "-5\n"
     ]
    }
   ],
   "source": [
    "# Truth Table:\n",
    "# Input_1    Output\n",
    "#   0          1\n",
    "#   1          0\n",
    "\n",
    "a = 4\n",
    "print (~a)"
   ]
  },
  {
   "cell_type": "markdown",
   "metadata": {},
   "source": [
    "##### Explanation:\n",
    "\n",
    "- First, the bitwise NOT operator takes 1s complement for the given value, \n",
    "\n",
    "i.e. it converts all 0s to 1s and vice versa. \n",
    "\n",
    "- So, our value gets converted from 0000 0100\n",
    "\n",
    "(binary representation of the value 4 in 8 bits)to 1111 1011(1s complement)\n",
    "\n",
    "- MSB of 1s complement is 1, which indicates that the resultant value is a negative number. \n",
    "\n",
    "- The compiler will not store or print negative numbers as such and hence we take 2s complement and then store or print the number.\n",
    "\n",
    "- 2s complement for this value 1111 1011 is ~5. 2's complement is calculated this way,\n",
    "\n",
    "**i.e.**\n",
    "> 1111 1011\n",
    ">\n",
    "> 0000 0100 (1s complement)\n",
    ">\n",
    "> 1 (adding with the value 1 to find 2s complement)\n",
    "\n",
    "---------------\n",
    "\n",
    "> 0000 0101 (binary representation of the value 5 in 8 bits)\n",
    "\n",
    "---------------\n",
    "So, the compiler prints the output as -5."
   ]
  },
  {
   "cell_type": "markdown",
   "metadata": {},
   "source": [
    "#### Right Shift ( >> )\n",
    "This operator shifts all the bits in the binary representation of the given value to right by specified position. Consider the below example for better understanding. Here the value 7 has to be right-shifted by one position."
   ]
  },
  {
   "cell_type": "code",
   "execution_count": 16,
   "metadata": {},
   "outputs": [
    {
     "name": "stdout",
     "output_type": "stream",
     "text": [
      "3\n"
     ]
    }
   ],
   "source": [
    "a = 7\n",
    "print (a >> 1)"
   ]
  },
  {
   "cell_type": "markdown",
   "metadata": {},
   "source": [
    "##### Explanation:\n",
    "\n",
    "The binary representation of the value 7 in 4 bits is 0111. If all the bits are right-shifted to one position, then zero will be added at the leftmost end.\n",
    "\n",
    "> 0 1 1 1\n",
    ">\n",
    "> ---->---->---->---->\n",
    ">\n",
    "> 0 0 1 1 \n",
    "\n",
    "***0011*** will be obtained after shifting all the bits of 7 by one position, which is the binary representation of the value 3 in 4 bits."
   ]
  },
  {
   "cell_type": "markdown",
   "metadata": {},
   "source": [
    "#### Left Shift ( << )\n",
    "Bitwise left shift shifts all bits in the binary representation of the given value to left by the specified position. Let us consider the same example as the above, but this time with left shift."
   ]
  },
  {
   "cell_type": "code",
   "execution_count": 17,
   "metadata": {},
   "outputs": [
    {
     "name": "stdout",
     "output_type": "stream",
     "text": [
      "14\n"
     ]
    }
   ],
   "source": [
    "a = 7\n",
    "print (a << 1)"
   ]
  },
  {
   "cell_type": "markdown",
   "metadata": {},
   "source": [
    "##### Explanation:\n",
    "\n",
    "0111 is the binary representation of the value 7 in 4 bits.If all the bits are shifted left to one position, then zero will be added at the rightmost end.\n",
    "\n",
    "\n",
    "> 0 1 1 1\n",
    ">\n",
    "> <-------<-------<-------<-------\n",
    ">\n",
    "> 1 1 1 0\n",
    "\n",
    "***1110 (4 bits)*** will be obtained after shifting all the bits of 7 by one position, which is the binary representation of the value 14 in 4 bits."
   ]
  },
  {
   "cell_type": "markdown",
   "metadata": {},
   "source": [
    "#### Precedence of Bitwise Operators in Python:\n",
    "Here is the precedence of bitwise operations in python in descending order. And, the associativity of all the operators is Left to Right. Meaning, when there is more than 1 operator with the same precedence, then the left most operator gets executed first."
   ]
  },
  {
   "cell_type": "code",
   "execution_count": 50,
   "metadata": {},
   "outputs": [],
   "source": [
    "#     Operator           Name\n",
    "#        ~            Bitwise NOT\n",
    "#      >>, <<         Bitwise right and left shift\n",
    "#        &            Bitwise AND\n",
    "#        ^            Bitwise XOR\n",
    "#        |            Bitwise OR"
   ]
  },
  {
   "cell_type": "markdown",
   "metadata": {},
   "source": [
    "---------------------------------------------------------------------------------------\n",
    "\n",
    "## Variables & Data Types in Python:\n",
    "### Variables: \n",
    "A Python variable is a symbolic name that is a reference or pointer to an object. Once an object is assigned to a variable, you can refer to the object by that name. But the data itself is still contained within the object.\n",
    "\n",
    "> Python has no command for declaring a variable. A variable is created the moment you first assign a value to it.\n",
    "\n",
    "**Rules for defining variable name:**\n",
    "> Officially, variable names in Python can be any length and can consist of uppercase and lowercase letters (A-Z, a-z), digits (0-9), and the underscore character (_). An additional restriction is that, although a variable name can contain digits, the first character of a variable name cannot be a digit."
   ]
  },
  {
   "cell_type": "code",
   "execution_count": 19,
   "metadata": {},
   "outputs": [
    {
     "name": "stdout",
     "output_type": "stream",
     "text": [
      "Bob 54 True\n"
     ]
    }
   ],
   "source": [
    "# Valid Variable names\n",
    "name = \"Bob\"\n",
    "Age = 54\n",
    "has_W2 = True\n",
    "print(name, Age, has_W2)"
   ]
  },
  {
   "cell_type": "markdown",
   "metadata": {},
   "source": [
    "**Note:**\n",
    "> In python case is significant. Lowercase and uppercase letters are not the same. Use of the underscore character is significant as well. Each of the following defines a different variable:"
   ]
  },
  {
   "cell_type": "code",
   "execution_count": 20,
   "metadata": {},
   "outputs": [
    {
     "name": "stdout",
     "output_type": "stream",
     "text": [
      "1 2 3 4 5 6 7 8\n"
     ]
    }
   ],
   "source": [
    "age = 1\n",
    "Age = 2\n",
    "aGe = 3\n",
    "AGE = 4\n",
    "a_g_e = 5\n",
    "_age = 6\n",
    "age_ = 7\n",
    "_AGE_ = 8\n",
    "\n",
    "print(age, Age, aGe, AGE, a_g_e, _age, age_, _AGE_)"
   ]
  },
  {
   "cell_type": "markdown",
   "metadata": {},
   "source": [
    "To see the type of variable you can use ***type()*** function:"
   ]
  },
  {
   "cell_type": "code",
   "execution_count": 21,
   "metadata": {},
   "outputs": [
    {
     "name": "stdout",
     "output_type": "stream",
     "text": [
      "<class 'str'> <class 'int'> <class 'bool'>\n"
     ]
    }
   ],
   "source": [
    "print(type(name), type(Age), type(has_W2))"
   ]
  },
  {
   "cell_type": "markdown",
   "metadata": {},
   "source": [
    "### Datatypes:\n",
    "In Python there following types of built-In data types:\n",
    "\n",
    "- Text Type: string (str()) \n",
    "- Numeric Type: Integer (int()), float(), complex() \n",
    "- Sequence Type: list(), tuple(), range()\n",
    "- Mapping Type: Dictionary (dict())\n",
    "- Set Types: set(), frozenset()\n",
    "- Boolean Type: bool() (True/False)\n",
    "- Binary types : bytes(), bytearray(), memoryview()\n",
    "- None Type: NoneType()"
   ]
  },
  {
   "cell_type": "markdown",
   "metadata": {},
   "source": [
    "#### Below are example to better understand datatypes in python"
   ]
  },
  {
   "cell_type": "code",
   "execution_count": 22,
   "metadata": {},
   "outputs": [
    {
     "name": "stdout",
     "output_type": "stream",
     "text": [
      "<class 'str'>\n",
      "Hello World\n"
     ]
    }
   ],
   "source": [
    "x = \"Hello World\"\n",
    "print(type(x))\n",
    "print(x)"
   ]
  },
  {
   "cell_type": "code",
   "execution_count": 23,
   "metadata": {},
   "outputs": [
    {
     "name": "stdout",
     "output_type": "stream",
     "text": [
      "<class 'int'>\n",
      "1\n"
     ]
    }
   ],
   "source": [
    "x = 1\n",
    "print(type(x))\n",
    "print(x)"
   ]
  },
  {
   "cell_type": "code",
   "execution_count": 24,
   "metadata": {},
   "outputs": [
    {
     "name": "stdout",
     "output_type": "stream",
     "text": [
      "<class 'float'>\n",
      "1.1\n"
     ]
    }
   ],
   "source": [
    "x = 1.1\n",
    "print(type(x))\n",
    "print(x)"
   ]
  },
  {
   "cell_type": "code",
   "execution_count": 25,
   "metadata": {},
   "outputs": [
    {
     "name": "stdout",
     "output_type": "stream",
     "text": [
      "<class 'complex'>\n",
      "1j\n"
     ]
    }
   ],
   "source": [
    "x = 1j\n",
    "print(type(x))\n",
    "print(x)"
   ]
  },
  {
   "cell_type": "code",
   "execution_count": 26,
   "metadata": {},
   "outputs": [
    {
     "name": "stdout",
     "output_type": "stream",
     "text": [
      "<class 'list'>\n",
      "['apple', 'banana', 'cherry']\n"
     ]
    }
   ],
   "source": [
    "x = [\"apple\", \"banana\", \"cherry\"]\n",
    "print(type(x))\n",
    "print(x)"
   ]
  },
  {
   "cell_type": "code",
   "execution_count": 27,
   "metadata": {
    "scrolled": false
   },
   "outputs": [
    {
     "name": "stdout",
     "output_type": "stream",
     "text": [
      "<class 'tuple'>\n",
      "('apple', 'banana', 'cherry')\n"
     ]
    }
   ],
   "source": [
    "x = (\"apple\", \"banana\", \"cherry\")\n",
    "print(type(x))\n",
    "print(x)"
   ]
  },
  {
   "cell_type": "code",
   "execution_count": 28,
   "metadata": {},
   "outputs": [
    {
     "name": "stdout",
     "output_type": "stream",
     "text": [
      "<class 'range'>\n",
      "range(0, 6)\n"
     ]
    }
   ],
   "source": [
    "x = range(6)\n",
    "print(type(x))\n",
    "print(x)"
   ]
  },
  {
   "cell_type": "code",
   "execution_count": 29,
   "metadata": {},
   "outputs": [
    {
     "name": "stdout",
     "output_type": "stream",
     "text": [
      "<class 'dict'>\n",
      "{'name': 'John', 'age': 36}\n"
     ]
    }
   ],
   "source": [
    "x = {\"name\" : \"John\", \"age\" : 36}\n",
    "print(type(x))\n",
    "print(x)"
   ]
  },
  {
   "cell_type": "code",
   "execution_count": 30,
   "metadata": {},
   "outputs": [
    {
     "name": "stdout",
     "output_type": "stream",
     "text": [
      "<class 'frozenset'>\n",
      "frozenset({'cherry', 'banana', 'apple'})\n"
     ]
    }
   ],
   "source": [
    "x = frozenset({\"apple\", \"banana\", \"cherry\"})\n",
    "print(type(x))\n",
    "print(x)"
   ]
  },
  {
   "cell_type": "code",
   "execution_count": 31,
   "metadata": {},
   "outputs": [
    {
     "name": "stdout",
     "output_type": "stream",
     "text": [
      "<class 'bool'>\n",
      "True\n"
     ]
    }
   ],
   "source": [
    "x = True\n",
    "print(type(x))\n",
    "print(x)"
   ]
  },
  {
   "cell_type": "code",
   "execution_count": 32,
   "metadata": {},
   "outputs": [
    {
     "name": "stdout",
     "output_type": "stream",
     "text": [
      "<class 'bytes'>\n",
      "b'Hello'\n"
     ]
    }
   ],
   "source": [
    "x = b\"Hello\"\n",
    "print(type(x))\n",
    "print(x)"
   ]
  },
  {
   "cell_type": "code",
   "execution_count": 33,
   "metadata": {},
   "outputs": [
    {
     "name": "stdout",
     "output_type": "stream",
     "text": [
      "<class 'bytearray'>\n",
      "bytearray(b'\\x00\\x00\\x00\\x00\\x00')\n"
     ]
    }
   ],
   "source": [
    "x = bytearray(5)\n",
    "print(type(x))\n",
    "print(x)"
   ]
  },
  {
   "cell_type": "code",
   "execution_count": 34,
   "metadata": {},
   "outputs": [
    {
     "name": "stdout",
     "output_type": "stream",
     "text": [
      "<class 'memoryview'>\n",
      "<memory at 0x7fc9602a61c0>\n"
     ]
    }
   ],
   "source": [
    "x = memoryview(bytes(5))\n",
    "print(type(x))\n",
    "print(x)"
   ]
  },
  {
   "cell_type": "code",
   "execution_count": 35,
   "metadata": {},
   "outputs": [
    {
     "name": "stdout",
     "output_type": "stream",
     "text": [
      "<class 'NoneType'>\n",
      "None\n"
     ]
    }
   ],
   "source": [
    "x = None\n",
    "print(type(x))\n",
    "print(x)"
   ]
  },
  {
   "cell_type": "markdown",
   "metadata": {},
   "source": [
    "**Note:**\n",
    "> In above Example we do not defined the type of variable converting the veriable into appropriate datatype automatically is known as **Implicit Typecasting**."
   ]
  },
  {
   "cell_type": "markdown",
   "metadata": {},
   "source": [
    "-------------------------------------------------------------------------------------------"
   ]
  },
  {
   "cell_type": "markdown",
   "metadata": {},
   "source": [
    "***In some Situations there's a need to define or to convert the data type into the desired one and this can be done via Explicit typecasting***\n",
    "\n",
    "Below are examples of Explicit typecasting:"
   ]
  },
  {
   "cell_type": "code",
   "execution_count": 36,
   "metadata": {},
   "outputs": [],
   "source": [
    "x = str(\"Hello World\")"
   ]
  },
  {
   "cell_type": "code",
   "execution_count": 37,
   "metadata": {},
   "outputs": [],
   "source": [
    "x = int(20)"
   ]
  },
  {
   "cell_type": "code",
   "execution_count": 38,
   "metadata": {},
   "outputs": [],
   "source": [
    "x = int(20)"
   ]
  },
  {
   "cell_type": "code",
   "execution_count": 39,
   "metadata": {},
   "outputs": [],
   "source": [
    "x = int(20)"
   ]
  },
  {
   "cell_type": "code",
   "execution_count": 40,
   "metadata": {},
   "outputs": [],
   "source": [
    "x = list((\"apple\", \"banana\", \"cherry\"))"
   ]
  },
  {
   "cell_type": "code",
   "execution_count": 41,
   "metadata": {},
   "outputs": [],
   "source": [
    "x = tuple((\"apple\", \"banana\", \"cherry\"))"
   ]
  },
  {
   "cell_type": "code",
   "execution_count": 42,
   "metadata": {},
   "outputs": [],
   "source": [
    "x = range(6)"
   ]
  },
  {
   "cell_type": "code",
   "execution_count": 43,
   "metadata": {},
   "outputs": [],
   "source": [
    "x = dict(name=\"John\", age=36)"
   ]
  },
  {
   "cell_type": "code",
   "execution_count": 44,
   "metadata": {},
   "outputs": [],
   "source": [
    "x = set((\"apple\", \"banana\", \"cherry\"))"
   ]
  },
  {
   "cell_type": "code",
   "execution_count": 45,
   "metadata": {},
   "outputs": [],
   "source": [
    "x = frozenset((\"apple\", \"banana\", \"cherry\"))"
   ]
  },
  {
   "cell_type": "code",
   "execution_count": 46,
   "metadata": {},
   "outputs": [],
   "source": [
    "x = bool(5)"
   ]
  },
  {
   "cell_type": "code",
   "execution_count": 47,
   "metadata": {},
   "outputs": [],
   "source": [
    "x = bytes(5)"
   ]
  },
  {
   "cell_type": "code",
   "execution_count": 48,
   "metadata": {},
   "outputs": [],
   "source": [
    "x = bytearray(5)"
   ]
  },
  {
   "cell_type": "code",
   "execution_count": 49,
   "metadata": {},
   "outputs": [],
   "source": [
    "x = memoryview(bytes(5))"
   ]
  },
  {
   "cell_type": "markdown",
   "metadata": {},
   "source": [
    "### User Input in python\n",
    "In python there are other ways of getting data input one of them is eighter assigning values directly or using Input function."
   ]
  },
  {
   "cell_type": "code",
   "execution_count": 4,
   "metadata": {},
   "outputs": [
    {
     "name": "stdout",
     "output_type": "stream",
     "text": [
      "value\n"
     ]
    }
   ],
   "source": [
    "# assigning value\n",
    "variable = \"value\"\n",
    "print (\"value\")"
   ]
  },
  {
   "cell_type": "code",
   "execution_count": 5,
   "metadata": {},
   "outputs": [
    {
     "name": "stdout",
     "output_type": "stream",
     "text": [
      "Input Text/String Here:32\n",
      "<class 'str'>\n",
      "32\n"
     ]
    }
   ],
   "source": [
    "# User input\n",
    "variable = input (\"Input Text/String Here:\")\n",
    "print (type(variable))\n",
    "print (variable)"
   ]
  },
  {
   "cell_type": "markdown",
   "metadata": {},
   "source": [
    "##### Notice:\n",
    "> The function **input()** takes user input as a string by default & to convert it into desired type ypu need to use explicit typecasting."
   ]
  },
  {
   "cell_type": "markdown",
   "metadata": {},
   "source": [
    "There are too many functions and keywords and it's impossible to cover them all at once. However many of them will be covered later in the journey.\n",
    "\n",
    "**Some of the basic functions are:**\n",
    "> enumerate(), float(), id(), input(), int(), len(), list(), max(), min(), print(), range(), tuple(), type()...etc.\n",
    "\n",
    "In python there's no end of function as you can also define your own functions if needed above mentioned are some commonly used functions."
   ]
  },
  {
   "cell_type": "markdown",
   "metadata": {},
   "source": [
    "## Summary\n",
    "- Programming & Key Concepts\n",
    "- Compilers & Interpreters\n",
    "- Python & It's Features\n",
    "- Functions & Keywords\n",
    "- Operators & It's Types\n",
    "- Variable & Data Types\n",
    "- User Input"
   ]
  },
  {
   "cell_type": "markdown",
   "metadata": {},
   "source": [
    "**Thanks,**\n",
    "\n",
    "SK"
   ]
  }
 ],
 "metadata": {
  "kernelspec": {
   "display_name": "Python 3 (ipykernel)",
   "language": "python",
   "name": "python3"
  },
  "language_info": {
   "codemirror_mode": {
    "name": "ipython",
    "version": 3
   },
   "file_extension": ".py",
   "mimetype": "text/x-python",
   "name": "python",
   "nbconvert_exporter": "python",
   "pygments_lexer": "ipython3",
   "version": "3.11.3"
  }
 },
 "nbformat": 4,
 "nbformat_minor": 4
}
