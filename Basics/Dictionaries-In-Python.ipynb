{
 "cells": [
  {
   "cell_type": "markdown",
   "metadata": {},
   "source": [
    "# Dictionaries in Python\n",
    "#### @Author: Saksham Trivedi aka SK\n",
    "Dictionaries are another data structure in Python. And dictionaries can be used to organize data into collections.\n",
    "\n",
    "Unlike lists, data in a dictionary isn't accessed based on its position. Data in a dictionary is organized into pairs of keys and values. The key is used to access the corresponding value. \n",
    "\n",
    "Where a list index is always a number, In a dictionary key can be a different data type, like a string, integer, float, or even tuples."
   ]
  },
  {
   "cell_type": "markdown",
   "metadata": {},
   "source": [
    "## Syntax:\n",
    "\n",
    "When creating a dictionary, you use curly brackets: {}. When storing values in a dictionary, the key is specified first, followed by the corresponding value, separated by a colon.\n",
    "\n",
    "#### For Example:\n",
    "- ###### Empty dictionary:\n",
    "> ***dictionary_name = {}***\n",
    "\n",
    "- ###### Dictionary with key pair value:\n",
    "> ***dictionary_name = { key_1 : value_1, key_2 : value_2, key_3 = value_3 }***\n",
    "\n",
    "Dictionaries are mutable. This means that dictionaries can be modified, by adding, removing or replacing elements in a dictionary."
   ]
  },
  {
   "cell_type": "markdown",
   "metadata": {},
   "source": [
    "### Below are few Examples for better understanding"
   ]
  },
  {
   "cell_type": "markdown",
   "metadata": {},
   "source": [
    "## 1 ) Initialization of dictionaries"
   ]
  },
  {
   "cell_type": "markdown",
   "metadata": {},
   "source": [
    "#### 1.1 ) Creating an empty dictionary with curly brackets `{}`"
   ]
  },
  {
   "cell_type": "code",
   "execution_count": 1,
   "metadata": {},
   "outputs": [],
   "source": [
    "employees = {}"
   ]
  },
  {
   "cell_type": "markdown",
   "metadata": {},
   "source": [
    "#### 1.2 ) Creating an dictionary with `key:pair` values"
   ]
  },
  {
   "cell_type": "code",
   "execution_count": 2,
   "metadata": {},
   "outputs": [
    {
     "name": "stdout",
     "output_type": "stream",
     "text": [
      "{'id01': 'George', 'id02': 'Nell', 'id03': 'Jasper'}\n"
     ]
    }
   ],
   "source": [
    "employees = {\"id01\": \"George\", \"id02\": \"Nell\", \"id03\": \"Jasper\"}\n",
    "\n",
    "print (employees)"
   ]
  },
  {
   "cell_type": "markdown",
   "metadata": {},
   "source": [
    "#### 1.3 ) Creating a dictionary using a `Lists of tuples` key-value pairs"
   ]
  },
  {
   "cell_type": "code",
   "execution_count": 3,
   "metadata": {},
   "outputs": [
    {
     "name": "stdout",
     "output_type": "stream",
     "text": [
      "{'LHR': 'London Heathrow', 'LGW': 'London Gatwick', 'IST': 'Istanbul Airport', 'SAW': 'Sabiha Gökçen International Airport', 'STN': 'London Stansted Airport'}\n"
     ]
    }
   ],
   "source": [
    "airports = dict([\n",
    "    (\"LHR\", \"London Heathrow\"),\n",
    "    (\"LGW\", \"London Gatwick\")\n",
    "])\n",
    "\n",
    "airports[\"IST\"] = \"Istanbul Airport\"\n",
    "airports[\"SAW\"] = \"Sabiha Gökçen International Airport\"\n",
    "airports[\"STN\"] = \"London Stansted Airport\"\n",
    "\n",
    "print(airports)"
   ]
  },
  {
   "cell_type": "markdown",
   "metadata": {},
   "source": [
    "#### 1.4 ) Creating a dictionary using a `Tuples of lists` of key-value pairs\n",
    "The following snippet constructs a dictionary of football players and their associated clubs"
   ]
  },
  {
   "cell_type": "code",
   "execution_count": 4,
   "metadata": {},
   "outputs": [
    {
     "name": "stdout",
     "output_type": "stream",
     "text": [
      "{'Cristiano Ronaldo': 'Juventus', 'Bruno Fernandes': 'Manchester United', 'Lionel Messi': 'Barcelona', 'Sadio Mane': 'Liverpool', 'Harry Kane': 'Tottenham Hotspur'}\n"
     ]
    }
   ],
   "source": [
    "football_players_club = dict((\n",
    "    [\"Cristiano Ronaldo\", \"Juventus\"],\n",
    "    [\"Bruno Fernandes\", \"Manchester United\"],\n",
    "    [\"Lionel Messi\", \"Barcelona\"],\n",
    "    [\"Sadio Mane\", \"Liverpool\"],\n",
    "    [\"Harry Kane\", \"Tottenham Hotspur\"],\n",
    "))\n",
    "\n",
    "print(football_players_club)"
   ]
  },
  {
   "cell_type": "markdown",
   "metadata": {},
   "source": [
    "#### 1.5 ) Creating an empty dictionary with `dict()` method\n",
    "> You can also define a dictionary by using its constructor, **dict().** It can accept a collection of key-value pairs. So, a list containing tuples of key-value pairs is a valid way to construct a dictionary through its constructor and so is a tuple containing lists of key-value pairs."
   ]
  },
  {
   "cell_type": "code",
   "execution_count": 5,
   "metadata": {},
   "outputs": [],
   "source": [
    "airports = dict()"
   ]
  },
  {
   "cell_type": "markdown",
   "metadata": {},
   "source": [
    "#### 1.6 ) Creating a dictionary using `zip()` method.\n",
    "If you have two iterable objects (for example list objects), you can use **`zip()`** function to create a dictionary.\n",
    "\n",
    "**Note:**\n",
    "- `zip()` function makes an iterator that aggregates each elements from both the iterables. We can create a dictionary when it is used in dict() method\n",
    "- Any pattern can be used with zip() method for creation of dictionaries \n",
    "\n",
    "**i.e**\n",
    "> - list + list\n",
    "> - list + tuple\n",
    "> - tuple + list\n",
    "> - tuple + tuple"
   ]
  },
  {
   "cell_type": "code",
   "execution_count": 6,
   "metadata": {},
   "outputs": [
    {
     "name": "stdout",
     "output_type": "stream",
     "text": [
      "{'IST': 'Istanbul Airport', 'SAW': 'Sabiha Gokcen International Airport', 'STN': 'London Stansted Airport'}\n"
     ]
    }
   ],
   "source": [
    "# List + List\n",
    "keys = [\"IST\", \"SAW\", \"STN\"] # list of keys\n",
    "\n",
    "# list of corresponding values\n",
    "values = [\"Istanbul Airport\", \"Sabiha Gokcen International Airport\", \"London Stansted Airport\"]\n",
    "\n",
    "\n",
    "dictionary = dict(zip(keys, values))\n",
    "print(dictionary)"
   ]
  },
  {
   "cell_type": "markdown",
   "metadata": {},
   "source": [
    "#### 1.7 ) Creating a dictionary using `fromkeys()` method.\n",
    "`fromkeys()` method is another way of creating dictionaries. It takes an iterable object and creates a dictionary with specified value\n",
    "\n",
    "**\"fromkeys() method returns a dictionary with the specified keys and the specified value.\"**"
   ]
  },
  {
   "cell_type": "code",
   "execution_count": 7,
   "metadata": {},
   "outputs": [
    {
     "name": "stdout",
     "output_type": "stream",
     "text": [
      "{'IST': 'to_be_defined', 'SAW': 'to_be_defined', 'STN': 'to_be_defined'}\n"
     ]
    }
   ],
   "source": [
    "# iterable specifying the keys of the new dictionary\n",
    "keys = [\"IST\", \"SAW\", \"STN\"]\n",
    "\n",
    "# the value for all keys as an optional parameter\n",
    "# default value is None\n",
    "value =\"to_be_defined\"\n",
    "\n",
    "dictionary = dict.fromkeys(keys, value)\n",
    "\n",
    "print(dictionary)"
   ]
  },
  {
   "cell_type": "markdown",
   "metadata": {},
   "source": [
    "#### 1.8 ) Python dictionaries comprehension\n",
    "Python dictionary comprehensions provide an elegant way of creating dictionaries. Making your code easier to read and more Pythonic. They shorten the code required in dictionary initialisation and they can be used to substitute ‘for’ loops.\n",
    "\n",
    "The general syntax for dictionary comprehensions is:\n",
    "\n",
    "> ***dictionary = {key:value for (key, value) in iterable}***"
   ]
  },
  {
   "cell_type": "markdown",
   "metadata": {},
   "source": [
    "##### Below are few exaples for better understanding:"
   ]
  },
  {
   "cell_type": "markdown",
   "metadata": {},
   "source": [
    "#### 1.8.1 ) GBP to YTL conversion"
   ]
  },
  {
   "cell_type": "code",
   "execution_count": 8,
   "metadata": {},
   "outputs": [
    {
     "name": "stdout",
     "output_type": "stream",
     "text": [
      "{'milk': 11.22, 'coffee': 27.5, 'bread': 16.5}\n"
     ]
    }
   ],
   "source": [
    "GBP_to_YTL = 11.0\n",
    "# item price in GBP\n",
    "dictionary_GBP = {'milk': 1.02, 'coffee': 2.5, 'bread': 1.5}\n",
    "\n",
    "# creating a new dictionary with dictionary comprehension\n",
    "dictionary_YTL = {key: value*GBP_to_YTL for (key, value) in dictionary_GBP.items()}\n",
    "print(dictionary_YTL)"
   ]
  },
  {
   "cell_type": "markdown",
   "metadata": {},
   "source": [
    "#### 1.8.2 ) Adding Conditionals to a Dictionary Comprehension\n",
    "You can extend the use of dictionary comprehensions with conditional statements. You can see below the use of multiple `if` conditionals, `else-if` conditionals in dictionary comprehensions;"
   ]
  },
  {
   "cell_type": "code",
   "execution_count": 9,
   "metadata": {},
   "outputs": [],
   "source": [
    "# YTL Currency\n",
    "dict_YTL_currency = {'Pound': 0.091, 'Euro': 0.11, 'Usd': 0.12, 'Afghani': 9.15, 'Bangladeshi Taka': 10.0 }\n"
   ]
  },
  {
   "cell_type": "markdown",
   "metadata": {},
   "source": [
    "#### 1.8.2.1 ) Adding `If` Conditions:"
   ]
  },
  {
   "cell_type": "code",
   "execution_count": 10,
   "metadata": {},
   "outputs": [
    {
     "name": "stdout",
     "output_type": "stream",
     "text": [
      "{'Afghani': 9.15, 'Bangladeshi Taka': 10.0}\n",
      "{'Pound': 0.091, 'Euro': 0.11, 'Usd': 0.12}\n"
     ]
    }
   ],
   "source": [
    "dict_YTL_strong = {k:v for (k,v) in dict_YTL_currency.items() if v>1}\n",
    "dict_YTL_weak = {k:v for (k,v) in dict_YTL_currency.items() if v<1}\n",
    "print(dict_YTL_strong)\n",
    "print(dict_YTL_weak)"
   ]
  },
  {
   "cell_type": "markdown",
   "metadata": {},
   "source": [
    "#### 1.8.2.2 ) Adding Multiple `if` condition:"
   ]
  },
  {
   "cell_type": "code",
   "execution_count": 11,
   "metadata": {},
   "outputs": [
    {
     "name": "stdout",
     "output_type": "stream",
     "text": [
      "{'Pound': 0.091}\n"
     ]
    }
   ],
   "source": [
    "dict_YTL_very_weak = {k:v for (k,v) in dict_YTL_currency.items() if v>0.0 if v<0.1}\n",
    "print(dict_YTL_very_weak)"
   ]
  },
  {
   "cell_type": "markdown",
   "metadata": {},
   "source": [
    "#### 1.8.2.3 ) Adding `if-else` condition"
   ]
  },
  {
   "cell_type": "code",
   "execution_count": 12,
   "metadata": {},
   "outputs": [
    {
     "name": "stdout",
     "output_type": "stream",
     "text": [
      "{'Pound': 'strong', 'Euro': 'strong', 'Usd': 'strong', 'Afghani': 'weak', 'Bangladeshi Taka': 'weak'}\n"
     ]
    }
   ],
   "source": [
    "dict_ifelse = {k:('weak' if v>1 else 'strong') for (k,v) in dict_YTL_currency.items()}\n",
    "print(dict_ifelse)"
   ]
  },
  {
   "cell_type": "markdown",
   "metadata": {},
   "source": [
    "## Operations allowed in Dictionaries"
   ]
  },
  {
   "cell_type": "markdown",
   "metadata": {},
   "source": [
    "### Adding Key pair value:\n",
    "Adding new pair key : value is done by using ***`dictionary [Key] = value`***\n",
    "which adds the new pair of key & it's associated value at the end of the dictionary"
   ]
  },
  {
   "cell_type": "code",
   "execution_count": 13,
   "metadata": {
    "scrolled": false
   },
   "outputs": [
    {
     "name": "stdout",
     "output_type": "stream",
     "text": [
      "Before:\n",
      "{'History': 5, 'Economics': 8, 'Arts': 8}\n",
      "\n",
      "After:\n",
      "{'History': 5, 'Economics': 8, 'Arts': 8, 'General Knowledge': 5}\n"
     ]
    }
   ],
   "source": [
    "library = {\"History\" : 5, \"Economics\" : 8, \"Arts\" : 8 }\n",
    "\n",
    "print(\"Before:\") \n",
    "print (library) # Before\n",
    "\n",
    "library[\"General Knowledge\"] = 5\n",
    "\n",
    "print()\n",
    "\n",
    "print(\"After:\") \n",
    "print (library) # After "
   ]
  },
  {
   "cell_type": "code",
   "execution_count": 14,
   "metadata": {},
   "outputs": [
    {
     "name": "stdout",
     "output_type": "stream",
     "text": [
      "{'id01': 'George', 'id02': 'Nell', 'id03': 'Jasper', 'id04': 'Friedman', 'id05': 'Lindsay', 'id06': 'Burnett'}\n"
     ]
    }
   ],
   "source": [
    "#Adding key:pair values\n",
    "employees[\"id04\"] = \"Friedman\"\n",
    "employees[\"id05\"] = \"Lindsay\"\n",
    "employees[\"id06\"] = \"Burnett\"\n",
    "\n",
    "print(employees)"
   ]
  },
  {
   "cell_type": "markdown",
   "metadata": {},
   "source": [
    "### Deletion / Removal\n",
    "Deletion or removal of the key pair can be done using **`del`** keyword"
   ]
  },
  {
   "cell_type": "code",
   "execution_count": 15,
   "metadata": {
    "scrolled": true
   },
   "outputs": [
    {
     "name": "stdout",
     "output_type": "stream",
     "text": [
      "Before:\n",
      "{'History': 5, 'Economics': 8, 'Arts': 8, 'General Knowledge': 5}\n",
      "\n",
      "After:\n",
      "{'History': 5, 'Economics': 8, 'Arts': 8}\n"
     ]
    }
   ],
   "source": [
    "print(\"Before:\")\n",
    "print(library) # Before\n",
    "\n",
    "del library[\"General Knowledge\"] # Deletion\n",
    "\n",
    "print()\n",
    "\n",
    "print(\"After:\")\n",
    "print (library) # After"
   ]
  },
  {
   "cell_type": "markdown",
   "metadata": {},
   "source": [
    "### Modification\n",
    "Modification can also be performed on dictionary"
   ]
  },
  {
   "cell_type": "code",
   "execution_count": 16,
   "metadata": {
    "scrolled": true
   },
   "outputs": [
    {
     "name": "stdout",
     "output_type": "stream",
     "text": [
      "Before:\n",
      "{'History': 5, 'Economics': 8, 'Arts': 8}\n",
      "\n",
      "After:\n",
      "{'History': 8, 'Economics': 8, 'Arts': 8}\n"
     ]
    }
   ],
   "source": [
    "print(\"Before:\")\n",
    "print (library) #before\n",
    "\n",
    "library[\"History\"] = 8  #updation\n",
    "\n",
    "print()\n",
    "\n",
    "print(\"After:\")\n",
    "print (library) #after"
   ]
  },
  {
   "cell_type": "markdown",
   "metadata": {},
   "source": [
    "***Note:***\n",
    "> In dictionaries dictionaries are mutable & allows modification but it is true only to some extent. When you will see carefully the **key** for any key-value **is always immutable** this means that any of the operarion can be performed only on eighter whole pair or only on values of a key no modifications to key itself is allowed."
   ]
  },
  {
   "cell_type": "markdown",
   "metadata": {},
   "source": [
    "#### Verifying if key is present in a dectionary or not"
   ]
  },
  {
   "cell_type": "code",
   "execution_count": 17,
   "metadata": {
    "scrolled": true
   },
   "outputs": [
    {
     "name": "stdout",
     "output_type": "stream",
     "text": [
      "False\n",
      "True\n"
     ]
    }
   ],
   "source": [
    "print(\"Civics\" in library) # False\n",
    "print(\"History\" in library) # True"
   ]
  },
  {
   "cell_type": "markdown",
   "metadata": {},
   "source": [
    "### Iteration over dictionaries\n",
    "Iteration over the dictionaries can be done via eighter using for "
   ]
  },
  {
   "cell_type": "code",
   "execution_count": 18,
   "metadata": {},
   "outputs": [
    {
     "name": "stdout",
     "output_type": "stream",
     "text": [
      "jpg\n",
      "txt\n",
      "csv\n",
      "py\n",
      "png\n"
     ]
    }
   ],
   "source": [
    "file_counts = {\"jpg\" : 10, \"txt\" : 14, \"csv\" : 4, \"py\" : 23, \"png\" : 12}\n",
    "\n",
    "for extension in file_counts:\n",
    "    print(extension)"
   ]
  },
  {
   "cell_type": "markdown",
   "metadata": {},
   "source": [
    "Notice, that in above example when we iterate over dictionaries only keys are printed as an output. But what if we wanna get Key and values both or maybe each one of them seperately and all the cases are possible in Python dictionaries\n",
    "\n",
    "However there are alternate method to access the each value of key associated, to access the values of a key you can use key's indexies of a dictionary like we did before or you can use methods below"
   ]
  },
  {
   "cell_type": "markdown",
   "metadata": {},
   "source": [
    "#### `.items()` method \n",
    "The `.items()` method returns the tuples for each element in the dictionaries. \n",
    "Where in the tuple, the first element is a key and the second element is a dictionary"
   ]
  },
  {
   "cell_type": "code",
   "execution_count": 19,
   "metadata": {},
   "outputs": [
    {
     "name": "stdout",
     "output_type": "stream",
     "text": [
      "jpg = 10\n",
      "txt = 14\n",
      "csv = 4\n",
      "py = 23\n",
      "png = 12\n"
     ]
    }
   ],
   "source": [
    "for extension, count in file_counts.items():\n",
    "    print (extension + \" = \" + str(count))"
   ]
  },
  {
   "cell_type": "markdown",
   "metadata": {},
   "source": [
    "#### `.keys()` Method\n",
    "The `.keys()` method returns the keys in a dictionary."
   ]
  },
  {
   "cell_type": "code",
   "execution_count": 20,
   "metadata": {},
   "outputs": [
    {
     "name": "stdout",
     "output_type": "stream",
     "text": [
      "dict_keys(['jpg', 'txt', 'csv', 'py', 'png'])\n",
      "<class 'dict_keys'>\n"
     ]
    }
   ],
   "source": [
    "print(file_counts.keys())\n",
    "\n",
    "print(type(file_counts.keys()))"
   ]
  },
  {
   "cell_type": "markdown",
   "metadata": {},
   "source": [
    "#### `.values()` Method\n",
    "The `.values()` method returns the values in a dictionary."
   ]
  },
  {
   "cell_type": "code",
   "execution_count": 21,
   "metadata": {},
   "outputs": [
    {
     "name": "stdout",
     "output_type": "stream",
     "text": [
      "dict_values([10, 14, 4, 23, 12])\n",
      "<class 'dict_values'>\n"
     ]
    }
   ],
   "source": [
    "print(file_counts.values())\n",
    "\n",
    "print(type(file_counts.values()))"
   ]
  },
  {
   "cell_type": "markdown",
   "metadata": {},
   "source": [
    "**Note:**\n",
    "> In Python there's a special type of data that is used to return key and values in a dictionaries you can see them in above example\n",
    "\n",
    "When you iterater over the dictionaries using `.keys()` or `.values()` method it provides all the keys or the values for each pair present in a dictionary by default"
   ]
  },
  {
   "cell_type": "markdown",
   "metadata": {},
   "source": [
    "***Example:***"
   ]
  },
  {
   "cell_type": "code",
   "execution_count": 22,
   "metadata": {},
   "outputs": [
    {
     "name": "stdout",
     "output_type": "stream",
     "text": [
      "octopuses have tentacles\n",
      "dolphins have fins\n",
      "rhinos have horns\n"
     ]
    }
   ],
   "source": [
    "cool_beasts = {\"octopuses\":\"tentacles\", \"dolphins\":\"fins\", \"rhinos\":\"horns\"}\n",
    "\n",
    "for keys, values in cool_beasts.items():\n",
    "    print(\"{} have {}\".format(keys, values))"
   ]
  },
  {
   "cell_type": "markdown",
   "metadata": {},
   "source": [
    "**Counting the numbers of times the each letter appeared in the piece of text**"
   ]
  },
  {
   "cell_type": "code",
   "execution_count": 23,
   "metadata": {},
   "outputs": [],
   "source": [
    "def count_letters(text):\n",
    "    result = {} # Empty dictionary\n",
    "    for letter in text: # Iterating over each letter in a string (text)\n",
    "        if letter not in result:#checking if letter is not already in a dictionary\n",
    "            result[letter] = 0 # if not then, initialize the empty entry in a dictionary\n",
    "        result[letter] += 1 # incrementing the count for that letter in a dictionary\n",
    "    return result\n"
   ]
  },
  {
   "cell_type": "markdown",
   "metadata": {},
   "source": [
    "***Explaination:*** In above function. first, keys are added for the each letter (of a text) in a dictionary and then the associated values for how many times the each letter is present.\n",
    "\n",
    "**see below this in action:**"
   ]
  },
  {
   "cell_type": "code",
   "execution_count": 24,
   "metadata": {},
   "outputs": [
    {
     "name": "stdout",
     "output_type": "stream",
     "text": [
      "{'E': 1, 'x': 1, 'a': 1, 'm': 1, 'p': 1, 'l': 1, 'e': 1}\n",
      "\n",
      "{'F': 2, 'a': 2, 's': 2, 't': 1, ' ': 2, 'n': 1, 'd': 1, 'u': 2, 'r': 1, 'i': 1, 'o': 1}\n"
     ]
    }
   ],
   "source": [
    "print(count_letters(\"Example\"))\n",
    "print()\n",
    "print(count_letters(\"Fast and Furious\"))"
   ]
  },
  {
   "cell_type": "markdown",
   "metadata": {},
   "source": [
    "Note that in above Example letters are case sensitive by default this means **`E`** is not treated similar as **`a`**"
   ]
  },
  {
   "cell_type": "markdown",
   "metadata": {},
   "source": [
    "--------------------------------------\n",
    "### # Time complexity in Dictionaries\n",
    "\n",
    "- For `Getting, setting and deleting` an item in a dictionary has ***`O(1)`*** time complexity which means that no matter how big is your dictionary, the time it takes to access an item is constant.\n",
    "\n",
    "\n",
    "- While, ***`Iterating`*** over dictionary has `O(n)` time complexity, means that the time it takes to perform this task linearly proportional to the number of items contained in the dictionary."
   ]
  },
  {
   "cell_type": "markdown",
   "metadata": {},
   "source": [
    "------------------------------\n",
    "\n",
    "### # Tips for accessing values in a dictionary\n",
    "If you try to access an element with a key which does not exist in your dictionary, you get a ***KeyError***. Knowing the proper way of accessing the elements inside the dictionary is important for not to have ***KeyErrors*** during runtime.\n",
    "\n",
    "To avoid the ***KeyError***, access the elements of a dictionary with ``get()`` method. Alternatively, you can check the existence of the key with ***`in`*** keyword."
   ]
  },
  {
   "cell_type": "code",
   "execution_count": 25,
   "metadata": {},
   "outputs": [
    {
     "name": "stdout",
     "output_type": "stream",
     "text": [
      "0.091\n",
      "None\n",
      "key does not exist\n"
     ]
    }
   ],
   "source": [
    "# YTL Currency\n",
    "dict_YTL_currency = {'Pound': 0.091, 'Euro': 0.11, 'Usd': 0.12, 'Afghani': 9.15, 'Bangladeshi Taka': 10.0 }\n",
    "\n",
    "# simple lookup with []\n",
    "print(dict_YTL_currency['Pound'])\n",
    "\n",
    "# simple lookup with [] when the key does not exist\n",
    "#print(dict_YTL_currency['Dinar']) # trows KeyError\n",
    "\n",
    "# avoiding KeyError with get() method\n",
    "print(dict_YTL_currency.get('Dinar'))\n",
    "\n",
    "# avoiding KeyError with 'in' operator\n",
    "print(dict_YTL_currency['Dinar']) if 'Dinar' in dict_YTL_currency else print(\"key does not exist\")\n",
    "\n"
   ]
  },
  {
   "cell_type": "markdown",
   "metadata": {},
   "source": [
    "--------------------------------\n",
    "### What to use When (Dictionaries Vs Lists)\n",
    "Since both the data structures are mutable and works almost similar in some cases but It is compulsory to know what to use when. \n",
    "\n",
    "\n",
    "- **Ex.** A series of ip addresses are needed to ping then list is probably the best approach where you can put all the ip addresses in a list and iterate over them to ping\n",
    "\n",
    "> ip_addresses = [\"192.168.1.5\", \"127.0.0.1\", \"8.8.8.8\" ]\n",
    "\n",
    "- **Ex.** A series of host names/devices corresponding to mac addresses are needed to check on a network then dictionary is probably the best approach where you can put all the host names associated with the mac addresses and iterate over them to verify or to fetch their hostnames & associated mac addresses\n",
    "\n",
    "> host_addresses = { \"router\" : \"00:00:5e:00:53:af\" , \"System_1 : \"10:0b:5e:50:53:aa\" , \"System_2\" : \"00:45:23:40:c3:eb\" }"
   ]
  },
  {
   "cell_type": "markdown",
   "metadata": {},
   "source": [
    "#### Example:\n",
    "In Python, a dictionary can only hold a single value for a given key. To workaround this, our single value can be a list containing multiple values. for example consider a dictionary called \"wardrobe\" with items of clothing and their colors. write a function to print a line for each item of clothing with each color, for example: \"red shirt\", \"blue shirt\", and so on..."
   ]
  },
  {
   "cell_type": "code",
   "execution_count": 37,
   "metadata": {},
   "outputs": [
    {
     "name": "stdout",
     "output_type": "stream",
     "text": [
      "red shirt\n",
      "blue shirt\n",
      "white shirt\n",
      "blue jeans\n",
      "black jeans\n"
     ]
    }
   ],
   "source": [
    "wardrobe = {\"shirt\":[\"red\",\"blue\",\"white\"], \"jeans\":[\"blue\",\"black\"]}\n",
    "\n",
    "for clothes,colors in wardrobe.items():\n",
    "    for color in colors:\n",
    "        print(\"{} {}\".format(color,clothes))"
   ]
  },
  {
   "cell_type": "markdown",
   "metadata": {},
   "source": [
    "There's a another data strucutre in Python It's for later i.e. **Sets**"
   ]
  },
  {
   "cell_type": "code",
   "execution_count": 39,
   "metadata": {},
   "outputs": [
    {
     "data": {
      "text/plain": [
       "2"
      ]
     },
     "execution_count": 39,
     "metadata": {},
     "output_type": "execute_result"
    }
   ],
   "source": [
    "len(wardrobe)"
   ]
  },
  {
   "cell_type": "markdown",
   "metadata": {},
   "source": [
    "What are the Dictionary methods?\n",
    "There are many methods contained in the Python dictionaries helping you to perform different tasks on the dictionary objects. I listed them below with their short definitions;\n",
    "\n",
    "- `popitem()`: Remove the last item from the dictionary\n",
    "- `pop(key, defaultvalue)`: Removes and returns an element from a dictionary for the given key\n",
    "- `keys()`: Return the keys\n",
    "- `values()`: Return the values\n",
    "- `items()`: Return the dictionary’s key-value pairs\n",
    "- `get(key[,value])`: Returns the value for the specified key if the key is in a dictionary\n",
    "- `fromkeys(keys, value)`: Returns a dictionary with the specified keys and the specified value\n",
    "- `setdefault(key, value)`: Returns the value of the item with the specified key. If the key does not exist, inserts the key with the specified value\n",
    "- `update(iterable)`: Inserts the specified items to the dictionary if the key is not in the dictionary, otherwise it updates the value\n",
    "- `copy()`: Returns a shallow copy of the dictionary\n",
    "- `clear()`: Removes all items from the dictionary"
   ]
  },
  {
   "cell_type": "code",
   "execution_count": 43,
   "metadata": {},
   "outputs": [
    {
     "name": "stdout",
     "output_type": "stream",
     "text": [
      "dict original : {'Pound': 0.087, 'Euro': 0.09, 'Usd': 0.12}\n",
      "\n",
      "dict after removal : {'Euro': 0.09, 'Usd': 0.12}\n",
      "\n",
      "removed value      : 0.09\n",
      "\n",
      "dict after removal : {'Usd': 0.12}\n",
      "\n",
      "removed value      : No Key\n",
      "\n",
      "dict after removal : {'Usd': 0.12}\n",
      "\n",
      "dict before removal : {'Pound': 0.087, 'Euro': 0.09, 'Usd': 0.12, 'Bangladeshi_Taka': 10.0, 'Afghani': 9.12, 'romanian_leu': 2.08, 'quatari_rial': 2.34, 'Somali_Shilling': 68.01, 'Serbian_Dinar': 11.62}\n",
      "\n",
      "dict after removal  : {'Pound': 0.087, 'Euro': 0.09, 'Usd': 0.12}\n"
     ]
    }
   ],
   "source": [
    "# YTL Currency\n",
    "dict_YTL_currency = {'Pound': 0.087, 'Euro': 0.09, 'Usd': 0.12}\n",
    "print (\"dict original : \" + str(dict_YTL_currency))\n",
    "print()\n",
    "\n",
    "# using del to remove a dict \n",
    "del dict_YTL_currency['Pound'] \n",
    "print (\"dict after removal : \" + str(dict_YTL_currency)) \n",
    "print()\n",
    "\n",
    "# using del to remove a dict \n",
    "# raises exception if the key does not exist \n",
    "# del dict_YTL_currency['Bermudan_Dollar'] \n",
    "\n",
    "# using pop() to remove an element\n",
    "removed_value = dict_YTL_currency.pop('Euro') \n",
    "print (\"removed value      : \" + str(removed_value)) \n",
    "print()\n",
    "print (\"dict after removal : \" + str(dict_YTL_currency))   \n",
    "print()\n",
    "\n",
    "# using pop() doesn't raise exception \n",
    "# assigns 'No Key' to removed_value \n",
    "removed_value = dict_YTL_currency.pop('Bermudan_Dollar', 'No Key' )\n",
    "print (\"removed value      : \" + str(removed_value)) \n",
    "print()\n",
    "print (\"dict after removal : \" + str(dict_YTL_currency))   \n",
    "print()\n",
    "\n",
    "# removal of dict elements using comprehension   \n",
    "# initializing dictionary \n",
    "dict_YTL_currency = {'Pound': 0.087, 'Euro': 0.09, 'Usd': 0.12, 'Bangladeshi_Taka': 10.0, 'Afghani': 9.12, 'romanian_leu': 2.08, 'quatari_rial': 2.34, 'Somali_Shilling': 68.01, 'Serbian_Dinar': 11.62}\n",
    "print (\"dict before removal : \" + str(dict_YTL_currency)) \n",
    "print()\n",
    "\n",
    "new_dict = {key:val for key, val in dict_YTL_currency.items() if val < 1.0} \n",
    "print (\"dict after removal  : \" + str(new_dict)) "
   ]
  },
  {
   "cell_type": "markdown",
   "metadata": {},
   "source": [
    "### Copying dictionaries in Python \n",
    "\n",
    "You can use the `copy()` method to get a shallow copy of an existing dictionary. A **shallow copy** means a **new dictionary** will be **populated with references to the objects in the existing dictionary.**\n",
    "\n",
    "To create a **deep copy**, `copy.deepcopy(dict)` method should be used. It creates a **fully independent clone of the original dictionary** with all of its elements.\n",
    "\n",
    "See below to understand how you can implement shallow copy and deep copy methods on dictionary objects;"
   ]
  },
  {
   "cell_type": "code",
   "execution_count": 45,
   "metadata": {},
   "outputs": [
    {
     "name": "stdout",
     "output_type": "stream",
     "text": [
      "original dict :{'Pound': [0.091, 0.087], 'Euro': 0.093, 'Usd': 0.121}\n",
      "\n",
      "shallow copy  :{'Pound': [0.091, 0.087], 'Euro': 0.081, 'Usd': 0.121}\n",
      "\n",
      "original dict :{'Pound': [0.091, 0.087, 0.078], 'Euro': 0.093, 'Usd': 0.121}\n",
      "\n",
      "shallow copy  :{'Pound': [0.091, 0.087, 0.078], 'Euro': 0.081, 'Usd': 0.121}\n",
      "\n",
      "original dict :{'Pound': [0.091, 0.087], 'Euro': 0.093, 'Usd': 0.121}\n",
      "\n",
      "deep copy     :{'Pound': [0.091, 0.087, 0.078], 'Euro': 0.093, 'Usd': 0.121}\n"
     ]
    }
   ],
   "source": [
    "import copy\n",
    "\n",
    "# YTL Currency\n",
    "dict_YTL_currency = {'Pound': [0.091, 0.087], 'Euro': 0.093, 'Usd': 0.121}\n",
    "\n",
    "# create a shallow copy of the original dictionary\n",
    "newDict = dict_YTL_currency.copy()\n",
    "\n",
    "# modify the primitive datatype value in the new dictionary\n",
    "newDict[\"Euro\"] = 0.081\n",
    "print (\"original dict :\" + str(dict_YTL_currency))\n",
    "print()\n",
    "print (\"shallow copy  :\" + str(newDict))\n",
    "print()\n",
    "\n",
    "# modify the list or user defined object value in the new dictionary\n",
    "newDict[\"Pound\"].append(0.078)\n",
    "print (\"original dict :\" + str(dict_YTL_currency))\n",
    "print()\n",
    "print (\"shallow copy  :\" + str(newDict))\n",
    "print()\n",
    "\n",
    "# YTL Currency\n",
    "dict_YTL_currency = {'Pound': [0.091, 0.087], 'Euro': 0.093, 'Usd': 0.121}\n",
    "\n",
    "# create a deep copy of the dictionary\n",
    "deepCopyDict = copy.deepcopy(dict_YTL_currency)\n",
    "# modify the list or user defined object value in the new dictionary\n",
    "deepCopyDict[\"Pound\"].append(0.078)\n",
    "print (\"original dict :\" + str(dict_YTL_currency))\n",
    "print()\n",
    "print (\"deep copy     :\" + str(deepCopyDict))"
   ]
  },
  {
   "cell_type": "markdown",
   "metadata": {},
   "source": [
    "### Merging in Dictionaries\n",
    "You can merge dictionaries with a custom function containing **`dict.copy()** and **dict.update()`** methods.\n",
    "\n",
    "In Python 3.5 and onwards, you can merge dictionaries with unpacking them using `**` operator.\n",
    "\n",
    "The simplest and easiest way of merging dictionaries is using the merging operator `|` which is available in Python 3.9+\n",
    "\n",
    "Below code snippet shows implementations of all above methods with examples;"
   ]
  },
  {
   "cell_type": "code",
   "execution_count": 50,
   "metadata": {},
   "outputs": [
    {
     "name": "stdout",
     "output_type": "stream",
     "text": [
      "Python version\n",
      "\n",
      "3.8.10 (default, Jun 22 2022, 20:18:18) \n",
      "[GCC 9.4.0]\n",
      "\n",
      "{'Pound': 0.083, 'Euro': 0.093, 'Usd': 0.121, 'Afghani': 9.12, 'Romanian_Leu': 2.08}\n",
      "\n",
      "{'Pound': 0.083, 'Euro': 0.093, 'Usd': 0.121, 'Afghani': 9.12, 'Romanian_Leu': 2.08}\n"
     ]
    }
   ],
   "source": [
    "import sys\n",
    "print(\"Python version\")\n",
    "print()\n",
    "print (sys.version)\n",
    "print()\n",
    "currency_1 = {'Pound': 0.091, 'Euro': 0.093, 'Usd': 0.121}\n",
    "currency_2 = {'Pound': 0.083, 'Afghani': 9.12, 'Romanian_Leu': 2.08}\n",
    "\n",
    "# for Python 3.5 or greater\n",
    "# new dictionary is a shallowly merged dictionary of currency_1 and currency_2\n",
    "# with values from currency_2 replacing those from currency_1\n",
    "currency = {**currency_1, **currency_2 }\n",
    "print(currency)\n",
    "\n",
    "# in Python 2, (or 3.4 or lower) \n",
    "def merge_two_dicts(currency_1, currency_2):\n",
    "    currency = currency_1.copy()   # start with currency_1\n",
    "    currency.update(currency_2)    # modifies currency with currency_2\n",
    "    return currency\n",
    "\n",
    "currency = merge_two_dicts(currency_1, currency_2)\n",
    "print()\n",
    "print(currency)\n",
    "\n",
    "# Python 3.9.0 or greater\n",
    "# currency = currency_1 | currency_2\n",
    "# print(currency)\n",
    "# Since I am running python 3.8 above method will not be supported on my system"
   ]
  },
  {
   "cell_type": "markdown",
   "metadata": {},
   "source": [
    "### Sorting items in Dictionaries\n",
    "Python dictionaries are unordered up to version 3.7 so even if you sort the (key, value) pairs, you wouldn’t be able to store them in a dictionary by preserving the ordering.\n",
    "To preserve the ordering, we can store the sorted dictionary in an **`OrderedDict`**"
   ]
  },
  {
   "cell_type": "code",
   "execution_count": 55,
   "metadata": {
    "scrolled": true
   },
   "outputs": [
    {
     "name": "stdout",
     "output_type": "stream",
     "text": [
      "dict original                :{'Pound': 0.087, 'Euro': 0.09, 'Usd': 0.12, 'Bangladeshi_Taka': 10.0, 'Afghani': 9.12, 'Romanian_leu': 2.08, 'Quatari_rial': 2.34, 'Somali_Shilling': 0.01, 'Serbian_Dinar': 0.08}\n",
      "\n",
      "dict sorted by value         :{'Somali_Shilling': 0.01, 'Serbian_Dinar': 0.08, 'Pound': 0.087, 'Euro': 0.09, 'Usd': 0.12, 'Romanian_leu': 2.08, 'Quatari_rial': 2.34, 'Afghani': 9.12, 'Bangladeshi_Taka': 10.0}\n",
      "\n",
      "dict reversed sorted by value:{'Bangladeshi_Taka': 10.0, 'Afghani': 9.12, 'Quatari_rial': 2.34, 'Romanian_leu': 2.08, 'Usd': 0.12, 'Euro': 0.09, 'Pound': 0.087, 'Serbian_Dinar': 0.08, 'Somali_Shilling': 0.01}\n",
      "\n",
      "dict original              :{'Pound': 0.087, 'Euro': 0.09, 'Usd': 0.12, 'Bangladeshi_Taka': 10.0, 'Afghani': 9.12, 'Romanian_leu': 2.08, 'Quatari_rial': 2.34, 'Somali_Shilling': 0.01, 'Serbian_Dinar': 0.08}\n",
      "\n",
      "dict sorted by key         :{'Afghani': 9.12, 'Bangladeshi_Taka': 10.0, 'Euro': 0.09, 'Pound': 0.087, 'Quatari_rial': 2.34, 'Romanian_leu': 2.08, 'Serbian_Dinar': 0.08, 'Somali_Shilling': 0.01, 'Usd': 0.12}\n",
      "\n",
      "dict reversed sorted by key:{'Usd': 0.12, 'Somali_Shilling': 0.01, 'Serbian_Dinar': 0.08, 'Romanian_leu': 2.08, 'Quatari_rial': 2.34, 'Pound': 0.087, 'Euro': 0.09, 'Bangladeshi_Taka': 10.0, 'Afghani': 9.12}\n",
      "dict original              :{'Pound': 0.087, 'Euro': 0.09, 'Usd': 0.12, 'Bangladeshi_Taka': 10.0, 'Afghani': 9.12, 'Romanian_leu': 2.08, 'Quatari_rial': 2.34, 'Somali_Shilling': 0.01, 'Serbian_Dinar': 0.08}\n",
      "\n",
      "dict sorted by key         :OrderedDict([('Afghani', 9.12), ('Bangladeshi_Taka', 10.0), ('Euro', 0.09), ('Pound', 0.087), ('Quatari_rial', 2.34), ('Romanian_leu', 2.08), ('Serbian_Dinar', 0.08), ('Somali_Shilling', 0.01), ('Usd', 0.12)])\n",
      "\n",
      "dict reversed sorted by key:OrderedDict([('Usd', 0.12), ('Somali_Shilling', 0.01), ('Serbian_Dinar', 0.08), ('Romanian_leu', 2.08), ('Quatari_rial', 2.34), ('Pound', 0.087), ('Euro', 0.09), ('Bangladeshi_Taka', 10.0), ('Afghani', 9.12)])\n"
     ]
    }
   ],
   "source": [
    "import collections\n",
    "\n",
    "# sort a dictionary by value\n",
    "currency = {'Pound': 0.087, 'Euro': 0.09, 'Usd': 0.12, 'Bangladeshi_Taka': 10.0, 'Afghani': 9.12, 'Romanian_leu': 2.08, 'Quatari_rial': 2.34, 'Somali_Shilling': 0.01, 'Serbian_Dinar': 0.08}\n",
    "sorted_currency = {k: v for k, v in sorted(currency.items(), key=lambda item: item[1])}\n",
    "reversed_sorted_currency = {k: v for k, v in sorted(currency.items(), key=lambda item: item[1], reverse = True)}\n",
    "print(\"dict original                :\" + str(currency))\n",
    "print()\n",
    "print(\"dict sorted by value         :\" + str(sorted_currency))\n",
    "print()\n",
    "print(\"dict reversed sorted by value:\" + str(reversed_sorted_currency))\n",
    "print()\n",
    "# sort a dictionary by key\n",
    "currency = {'Pound': 0.087, 'Euro': 0.09, 'Usd': 0.12, 'Bangladeshi_Taka': 10.0, 'Afghani': 9.12, 'Romanian_leu': 2.08, 'Quatari_rial': 2.34, 'Somali_Shilling': 0.01, 'Serbian_Dinar': 0.08}\n",
    "sorted_currency = {k: v for k, v in sorted(currency.items(), key=lambda item: item[0])}\n",
    "reversed_sorted_currency = {k: v for k, v in sorted(currency.items(), key=lambda item: item[0], reverse = True)}\n",
    "print(\"dict original              :\" + str(currency))\n",
    "print()\n",
    "print(\"dict sorted by key         :\" + str(sorted_currency))\n",
    "print()\n",
    "print(\"dict reversed sorted by key:\" + str(reversed_sorted_currency))\n",
    "\n",
    "# sort a dictionary by key\n",
    "# store the elements in OrderedDict()\n",
    "currency = {'Pound': 0.087, 'Euro': 0.09, 'Usd': 0.12, 'Bangladeshi_Taka': 10.0, 'Afghani': 9.12, 'Romanian_leu': 2.08, 'Quatari_rial': 2.34, 'Somali_Shilling': 0.01, 'Serbian_Dinar': 0.08}\n",
    "sorted_currency = collections.OrderedDict(sorted(currency.items(), key=lambda item: item[0]))\n",
    "reversed_sorted_currency = collections.OrderedDict(sorted(currency.items(), key=lambda item: item[0], reverse=True))\n",
    "print(\"dict original              :\" + str(currency))\n",
    "print()\n",
    "print(\"dict sorted by key         :\" + str(sorted_currency))\n",
    "print()\n",
    "\n",
    "print(\"dict reversed sorted by key:\" + str(reversed_sorted_currency))"
   ]
  },
  {
   "cell_type": "markdown",
   "metadata": {},
   "source": [
    "## Conclusion\n",
    "\n",
    "As data structures are fundamental parts of our programs, it is really important to have a solid understanding of Python dictionaries to create efficient programs.\n",
    "\n",
    "**Following are some Key concepts to remember:**\n",
    "\n",
    "\n",
    "- Python dictionaries can be used when the data has a `unique reference` that can be associated with the **value**.\n",
    "\n",
    "\n",
    "- As dictionaries are `mutable`, it is not a good idea to use dictionaries to store data that shouldn’t be modified in the first place.\n",
    "\n",
    "\n",
    "- Python dictionaries are ***unordered up to version 3.7*** so even if you sort the (key, value) pairs, you wouldn’t be able to store them in a dictionary by preserving the ordering.\n",
    "\n",
    "\n",
    "- Python dictionary comprehensions provide an elegant way of creating dictionaries. They make your code easier to read and more Pythonic."
   ]
  },
  {
   "cell_type": "markdown",
   "metadata": {},
   "source": [
    "***Thanks,***\n",
    "\n",
    "SK"
   ]
  }
 ],
 "metadata": {
  "kernelspec": {
   "display_name": "Python 3",
   "language": "python",
   "name": "python3"
  },
  "language_info": {
   "codemirror_mode": {
    "name": "ipython",
    "version": 3
   },
   "file_extension": ".py",
   "mimetype": "text/x-python",
   "name": "python",
   "nbconvert_exporter": "python",
   "pygments_lexer": "ipython3",
   "version": "3.8.10"
  }
 },
 "nbformat": 4,
 "nbformat_minor": 4
}
