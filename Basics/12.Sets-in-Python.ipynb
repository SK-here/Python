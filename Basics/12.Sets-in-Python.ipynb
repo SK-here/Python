{
 "cells": [
  {
   "cell_type": "markdown",
   "id": "d86e7eac-ec22-42cd-9ddd-7a1025ddeece",
   "metadata": {},
   "source": [
    "# Sets in Python\n",
    "\n",
    "- @Author: Saksham Trivedi\n",
    "- @alias: SK\n",
    "- @Description: Sets, Thier use and Set Operations in Python"
   ]
  },
  {
   "cell_type": "markdown",
   "id": "1a0228fc-c0de-4480-abd1-81c1d494f27e",
   "metadata": {},
   "source": [
    "A Set is a collection of unordered items where each element in the set must be unique & immutable.\n",
    "The set can only store data structures like Integers, Floating Pointers, Booleans, Tuples and Strings in Python. But cannot store data structures like lists and dictionaries due to their mutable nature."
   ]
  },
  {
   "cell_type": "markdown",
   "id": "9a5dc129-97c8-4373-8554-cbce35a8b2ed",
   "metadata": {},
   "source": [
    "Similar to Dictionaries in Python, Set also uses curly braces `{}` for declaration i.e."
   ]
  },
  {
   "cell_type": "code",
   "execution_count": 1,
   "id": "1608813f-6976-49cf-9961-e87c65b51eae",
   "metadata": {},
   "outputs": [],
   "source": [
    "collection = { 1, 2, 3, 4, 5}"
   ]
  },
  {
   "cell_type": "code",
   "execution_count": 2,
   "id": "fce66fbd-8408-4556-a35b-d348e4996601",
   "metadata": {},
   "outputs": [
    {
     "name": "stdout",
     "output_type": "stream",
     "text": [
      "<class 'set'>\n"
     ]
    }
   ],
   "source": [
    "print ( type(collection) )"
   ]
  },
  {
   "cell_type": "markdown",
   "id": "16845673-7058-4ae4-b734-d5a6473651e0",
   "metadata": {},
   "source": [
    "#### Set are ignores duplicates"
   ]
  },
  {
   "cell_type": "code",
   "execution_count": 3,
   "id": "5cf8ca04-49e0-4df4-8b07-2f2caad73627",
   "metadata": {},
   "outputs": [
    {
     "name": "stdout",
     "output_type": "stream",
     "text": [
      "{1, 2, 3, 'world', 'Hello'}\n"
     ]
    }
   ],
   "source": [
    "# Sample\n",
    "collection = { 1, 2, 3, 3, \"Hello\", \"world\", 'world' }\n",
    "print (collection)"
   ]
  },
  {
   "cell_type": "markdown",
   "id": "7ed92f4e-2457-4af3-b32c-ccda7b0fc59e",
   "metadata": {},
   "source": [
    "Notice that in above code `print` didn't threw error for duplicates instead it just ignores the duplicates."
   ]
  },
  {
   "cell_type": "markdown",
   "id": "68756023-3a85-45e3-9129-bd1b6f455892",
   "metadata": {},
   "source": [
    "even any function/method on sets ignores the duplicates "
   ]
  },
  {
   "cell_type": "code",
   "execution_count": 4,
   "id": "0dd02572-3b66-47f6-971e-ffb4754e7b03",
   "metadata": {},
   "outputs": [
    {
     "name": "stdout",
     "output_type": "stream",
     "text": [
      "5\n"
     ]
    }
   ],
   "source": [
    "# Sample \n",
    "print (len(collection)) # actual length is 7"
   ]
  },
  {
   "cell_type": "markdown",
   "id": "3db1f08e-fe74-4bf4-b9fe-081abb46fe16",
   "metadata": {},
   "source": [
    "To Create *`Null Set`* or empty set;"
   ]
  },
  {
   "cell_type": "code",
   "execution_count": 5,
   "id": "d5f4fe55-1edb-40ac-b5d7-f245c00ee379",
   "metadata": {},
   "outputs": [],
   "source": [
    "my_set = set() # not my_set = {}; It will create a dictioncary"
   ]
  },
  {
   "cell_type": "code",
   "execution_count": 6,
   "id": "b0f0971e-5fff-4ff2-8b77-81b1c5fb40c5",
   "metadata": {},
   "outputs": [
    {
     "name": "stdout",
     "output_type": "stream",
     "text": [
      "<class 'set'>\n"
     ]
    }
   ],
   "source": [
    "print ( type(my_set))"
   ]
  },
  {
   "cell_type": "markdown",
   "id": "4602952d-8d7f-4661-9830-8b8d3d4f6bb4",
   "metadata": {},
   "source": [
    "### `Sets are Mutable but the elements inside the set are immuatable`"
   ]
  },
  {
   "cell_type": "markdown",
   "id": "3f29cf44-01da-426f-86d7-c64a6c878761",
   "metadata": {},
   "source": [
    "## Set Methods"
   ]
  },
  {
   "cell_type": "markdown",
   "id": "3a7a221d-2573-4eae-95f0-351c6bd05ffd",
   "metadata": {},
   "source": [
    "---\n",
    "### `.add()` Method\n",
    "\n",
    "*limit: can take only one argment*"
   ]
  },
  {
   "cell_type": "code",
   "execution_count": 7,
   "id": "fe9e9909-9d43-48ab-aa1e-f25dffc8487b",
   "metadata": {},
   "outputs": [
    {
     "name": "stdout",
     "output_type": "stream",
     "text": [
      "{1, ('this', 'is', 'a', 'tuple'), 'BookName', 'author'}\n"
     ]
    }
   ],
   "source": [
    "# adding an element\n",
    "my_set.add(\"author\")\n",
    "my_set.add(1)\n",
    "my_set.add('BookName')\n",
    "my_set.add(('this', 'is', 'a', 'tuple'))\n",
    "\n",
    "print (my_set)"
   ]
  },
  {
   "cell_type": "markdown",
   "id": "0d831c29-9ae0-46c9-8162-b4e4935154bd",
   "metadata": {},
   "source": [
    "---\n",
    "### `.remove()` Method\n",
    "\n",
    "Removes the mentioned element from the set"
   ]
  },
  {
   "cell_type": "code",
   "execution_count": 8,
   "id": "7b24703b-44a8-42c9-a470-f1ad1142d418",
   "metadata": {},
   "outputs": [
    {
     "name": "stdout",
     "output_type": "stream",
     "text": [
      "{1, ('this', 'is', 'a', 'tuple'), 'author'}\n"
     ]
    }
   ],
   "source": [
    "my_set.remove('BookName')\n",
    "\n",
    "print (my_set)"
   ]
  },
  {
   "cell_type": "markdown",
   "id": "bc97072a-e6b7-4aa2-b75b-45bb424bbde6",
   "metadata": {},
   "source": [
    "---\n",
    "### `.clear()` Method\n",
    "\n",
    "Clears the Set"
   ]
  },
  {
   "cell_type": "code",
   "execution_count": 9,
   "id": "6f788b92-991c-49de-84d1-4d3ea91372ac",
   "metadata": {},
   "outputs": [
    {
     "name": "stdout",
     "output_type": "stream",
     "text": [
      "set()\n"
     ]
    }
   ],
   "source": [
    "my_set.clear()\n",
    "\n",
    "\n",
    "print (my_set)"
   ]
  },
  {
   "cell_type": "markdown",
   "id": "c8472f2c-8b2d-4df3-8ddf-ae1e1fc90245",
   "metadata": {},
   "source": [
    "---\n",
    "### `.pop()` Method\n",
    "\n",
    "Pops out (removes) the random element from the set"
   ]
  },
  {
   "cell_type": "code",
   "execution_count": 10,
   "id": "fcf7a245-c828-4cc9-8242-36bc390c2e20",
   "metadata": {},
   "outputs": [
    {
     "name": "stdout",
     "output_type": "stream",
     "text": [
      "Book\n",
      "Publisher\n",
      "Name\n",
      "Author\n",
      "set()\n"
     ]
    }
   ],
   "source": [
    "my_set = {'Name', 'Author', 'Publisher', 'Book'}\n",
    "\n",
    "print (my_set.pop())\n",
    "print (my_set.pop())\n",
    "print (my_set.pop())\n",
    "print (my_set.pop())\n",
    "print (my_set)"
   ]
  },
  {
   "cell_type": "markdown",
   "id": "8c509480-068a-4eca-9105-02376860abe9",
   "metadata": {},
   "source": [
    "---\n",
    "### `.union(set2)` Method\n",
    "\n",
    "Combines both the set elements and returns the new value without duplicates"
   ]
  },
  {
   "cell_type": "code",
   "execution_count": 11,
   "id": "93ac9f29-6d40-47e9-9b6e-81db50f5f573",
   "metadata": {},
   "outputs": [
    {
     "name": "stdout",
     "output_type": "stream",
     "text": [
      "{'ISBN', 'BookPrice', 'BookName', 'Distributor', 'Publisher', 'Author'}\n"
     ]
    }
   ],
   "source": [
    "# Set One\n",
    "my_set = { 'Author', 'Publisher', 'BookName'}\n",
    "\n",
    "# Set Two\n",
    "my_another_set = { 'Distributor', 'ISBN', 'BookPrice', 'BookName', 'Author'}\n",
    "\n",
    "# Performing Union \n",
    "result_of_union_set = my_set.union(my_another_set)\n",
    "\n",
    "print (result_of_union_set)"
   ]
  },
  {
   "cell_type": "markdown",
   "id": "d181ae79-09f7-4cf3-b064-f6174e4b6550",
   "metadata": {},
   "source": [
    "---\n",
    "### `.intersection( set2 )` Method\n",
    "\n",
    "Combines elements from both the sets and returns only common elements from both the sets"
   ]
  },
  {
   "cell_type": "code",
   "execution_count": 12,
   "id": "0075a1a4-8e3f-4e7b-8d63-b2e6fd085d5f",
   "metadata": {},
   "outputs": [
    {
     "name": "stdout",
     "output_type": "stream",
     "text": [
      "{'BookName', 'Author'}\n"
     ]
    }
   ],
   "source": [
    "# Performing Intersection\n",
    "result_of_intersection_set = my_set.intersection(my_another_set)\n",
    "\n",
    "print (result_of_intersection_set)"
   ]
  },
  {
   "cell_type": "markdown",
   "id": "89037aab-741e-42c1-ab07-5ddd31cb97fa",
   "metadata": {},
   "source": [
    "`cardinality` of a set is a number of unique elements (regarless of number of total element in a set is called it's cardinality of a set"
   ]
  },
  {
   "cell_type": "code",
   "execution_count": 13,
   "id": "458cdbae-6ffe-4897-90ac-906bd0d8cdd6",
   "metadata": {},
   "outputs": [
    {
     "name": "stdout",
     "output_type": "stream",
     "text": [
      "Cardinality of a Union of a Sets is: 6\n",
      "\n",
      "Cardinality of a intersection of a Sets is: 2\n"
     ]
    }
   ],
   "source": [
    "# Finding the cardinality of a set\n",
    "print(\"Cardinality of a Union of a Sets is: \" + str(len(result_of_union_set)))\n",
    "print (\"\")\n",
    "print(\"Cardinality of a intersection of a Sets is: \" + str(len(result_of_intersection_set)))"
   ]
  },
  {
   "cell_type": "code",
   "execution_count": 14,
   "id": "29e46539-11bf-49a8-909a-c08e7eea1547",
   "metadata": {},
   "outputs": [],
   "source": [
    "# Let's have two sets\n",
    "dataScientist = set(\n",
    "    [\n",
    "        'Python', \n",
    "        'R', \n",
    "        'SQL', \n",
    "        'Git', \n",
    "        'Tableau', \n",
    "        'SAS'\n",
    "    ]\n",
    ")\n",
    "\n",
    "dataEngineer = set(\n",
    "    [\n",
    "        'Python', \n",
    "        'Java', \n",
    "        'Scala', \n",
    "        'Git', \n",
    "        'SQL', \n",
    "        'Hadoop'\n",
    "    ]\n",
    ")"
   ]
  },
  {
   "cell_type": "markdown",
   "id": "8f13f841-4143-4a99-879f-2fe138b5eb8d",
   "metadata": {},
   "source": [
    "---\n",
    "### `.diffrenece()` Method\n",
    "\n",
    "Diffrenece method returns all the elements that are in the first set, but not in the second one."
   ]
  },
  {
   "cell_type": "code",
   "execution_count": 15,
   "id": "73bd18f7-68f5-488b-a318-e05561029b08",
   "metadata": {},
   "outputs": [
    {
     "data": {
      "text/plain": [
       "{'R', 'SAS', 'Tableau'}"
      ]
     },
     "execution_count": 15,
     "metadata": {},
     "output_type": "execute_result"
    }
   ],
   "source": [
    "dataScientist.difference(dataEngineer)"
   ]
  },
  {
   "cell_type": "code",
   "execution_count": 16,
   "id": "67a60e6a-1c07-4650-af8e-5a45dcc5ec5e",
   "metadata": {},
   "outputs": [
    {
     "data": {
      "text/plain": [
       "{'Hadoop', 'Java', 'Scala'}"
      ]
     },
     "execution_count": 16,
     "metadata": {},
     "output_type": "execute_result"
    }
   ],
   "source": [
    "dataEngineer.difference(dataScientist)"
   ]
  },
  {
   "cell_type": "markdown",
   "id": "20465078-4657-4398-8e89-79ae42f2abcd",
   "metadata": {},
   "source": [
    "---\n",
    "### `.symmetric_diffrence()` Method\n",
    "\n",
    "It returns a new set, containing all the items that are in either of the sets, but not in both ones. We might be able to say that `symmetric_difference` is the exact opposite of the `intersection` method."
   ]
  },
  {
   "cell_type": "code",
   "execution_count": 17,
   "id": "b70ffb3c-52c7-40d8-9784-dfeba8c8898e",
   "metadata": {},
   "outputs": [
    {
     "data": {
      "text/plain": [
       "{'Hadoop', 'Java', 'R', 'SAS', 'Scala', 'Tableau'}"
      ]
     },
     "execution_count": 17,
     "metadata": {},
     "output_type": "execute_result"
    }
   ],
   "source": [
    "dataEngineer.symmetric_difference(dataScientist)"
   ]
  },
  {
   "cell_type": "code",
   "execution_count": 18,
   "id": "bf34751b-8a83-42a7-9114-97dd73294e38",
   "metadata": {},
   "outputs": [
    {
     "data": {
      "text/plain": [
       "{'Hadoop', 'Java', 'R', 'SAS', 'Scala', 'Tableau'}"
      ]
     },
     "execution_count": 18,
     "metadata": {},
     "output_type": "execute_result"
    }
   ],
   "source": [
    "dataScientist.symmetric_difference(dataEngineer)"
   ]
  },
  {
   "cell_type": "markdown",
   "id": "6bff6cc8-2dc3-4e62-9ba6-d4d7821c3cf9",
   "metadata": {},
   "source": [
    "---\n",
    "### `.isdijoint()` Method\n",
    "\n",
    "It returns a boolean (**`True/False`**), determining if two sets have any elements in common. If they do not have any common elements it will return `True` otherwise `False`"
   ]
  },
  {
   "cell_type": "code",
   "execution_count": 23,
   "id": "814df985-bcf6-4716-a921-ff0db2a8cd7d",
   "metadata": {},
   "outputs": [
    {
     "name": "stdout",
     "output_type": "stream",
     "text": [
      "Set One: {'Scala', 'Git', 'Hadoop', 'Java', 'Python', 'SQL'}\n",
      "Set Two: {'Git', 'SAS', 'Python', 'SQL', 'Tableau', 'R'}\n",
      "\n",
      "Common Elements: {'Git', 'Python', 'SQL'}\n",
      "\n"
     ]
    },
    {
     "data": {
      "text/plain": [
       "False"
      ]
     },
     "execution_count": 23,
     "metadata": {},
     "output_type": "execute_result"
    }
   ],
   "source": [
    "print('Set One: ' + str(dataEngineer))\n",
    "print('Set Two: ' + str(dataScientist))\n",
    "\n",
    "print (\"\")\n",
    "print('Common Elements: ' + str(dataEngineer.intersection(dataScientist)))\n",
    "print (\"\")\n",
    "\n",
    "dataEngineer.isdisjoint(dataScientist)"
   ]
  },
  {
   "cell_type": "code",
   "execution_count": 24,
   "id": "b75d0cbd-8328-4052-ae96-24017ce711b8",
   "metadata": {},
   "outputs": [
    {
     "data": {
      "text/plain": [
       "True"
      ]
     },
     "execution_count": 24,
     "metadata": {},
     "output_type": "execute_result"
    }
   ],
   "source": [
    "# Another Example\n",
    "set1 = {1,2,3}\n",
    "set2 = {4,5,6}\n",
    "\n",
    "set1.isdisjoint(set2)"
   ]
  },
  {
   "cell_type": "markdown",
   "id": "554b98bc-f92e-4b90-ad60-be963f07fe7c",
   "metadata": {},
   "source": [
    "---\n",
    "### `.issubset()` Method \n",
    "\n",
    "It returns a boolean, determining if the second set has all the items that are present in the first one."
   ]
  },
  {
   "cell_type": "code",
   "execution_count": 25,
   "id": "700a186b-2337-4183-add8-bbbee2acc37b",
   "metadata": {},
   "outputs": [
    {
     "data": {
      "text/plain": [
       "False"
      ]
     },
     "execution_count": 25,
     "metadata": {},
     "output_type": "execute_result"
    }
   ],
   "source": [
    "dataEngineer.issubset(dataScientist)"
   ]
  },
  {
   "cell_type": "code",
   "execution_count": 27,
   "id": "58fb470b-4ad5-43a4-b7cd-7520ecb4bbeb",
   "metadata": {},
   "outputs": [
    {
     "data": {
      "text/plain": [
       "True"
      ]
     },
     "execution_count": 27,
     "metadata": {},
     "output_type": "execute_result"
    }
   ],
   "source": [
    "# Another Eample\n",
    "\n",
    "set1 = { 1, 2, 3 }\n",
    "set2 = { 1, 2, 3, 4, 5, 6 }\n",
    "\n",
    "set1.issubset(set2)"
   ]
  },
  {
   "cell_type": "markdown",
   "id": "24820f0a-6f59-46d4-bfa3-59b3f77b72f1",
   "metadata": {},
   "source": [
    "---\n",
    "### `.propersubset()` Method\n",
    "\n",
    "Proper subset is the same as subset; the only difference is that the proper subset does not include the identical sets. So, if a Python set is exactly the same as another one, they are a subset of each other, but not a proper subset."
   ]
  },
  {
   "cell_type": "code",
   "execution_count": 30,
   "id": "e4681895-230b-4970-97fe-36c4157c711e",
   "metadata": {},
   "outputs": [
    {
     "name": "stdout",
     "output_type": "stream",
     "text": [
      "False\n",
      "True\n"
     ]
    }
   ],
   "source": [
    "set1 = set( [2, 4, 5])\n",
    "set2 = set( [1, 2, 3, 4, 5, 6])\n",
    "\n",
    "print (set1 > set2)\n",
    "\n",
    "print (set1 < set2)"
   ]
  },
  {
   "cell_type": "markdown",
   "id": "d5acf53a-a2ef-46f8-ba29-e28afcf0dd67",
   "metadata": {},
   "source": [
    "---\n",
    "### `update()` Method\n",
    "\n",
    "By using the `.update()` or the `|=` operator, you can add new elements to your original set:"
   ]
  },
  {
   "cell_type": "code",
   "execution_count": 5,
   "id": "62790b7e-98e4-4ff9-b8e9-f85052863afc",
   "metadata": {},
   "outputs": [
    {
     "name": "stdout",
     "output_type": "stream",
     "text": [
      "{1, 2, 3, 4, 5, 6, 7}\n",
      "{1, 2, 3, 4, 5, 6, 7}\n"
     ]
    }
   ],
   "source": [
    "set1 = set( [1, 2, 3, 4, 5])\n",
    "set2 = set( [3, 4, 5, 6, 7])\n",
    "\n",
    "set1.update(set2)\n",
    "\n",
    "print (set1)\n",
    "\n",
    "set1 |= set2\n",
    "\n",
    "print (set1)"
   ]
  },
  {
   "cell_type": "code",
   "execution_count": 6,
   "id": "9dcbd804-fcef-4b74-9818-b28b5f2eb917",
   "metadata": {},
   "outputs": [
    {
     "name": "stdout",
     "output_type": "stream",
     "text": [
      "{3, 4, 5, 6, 7}\n"
     ]
    }
   ],
   "source": [
    "print (set2)"
   ]
  },
  {
   "cell_type": "markdown",
   "id": "c289941c-4b6a-46c4-9dff-6d1f9db69107",
   "metadata": {},
   "source": [
    "---\n",
    "### `.difference_update()` Method\n",
    "\n",
    "The `.difference_update()` method or the `-=` operator can remove the items that are in the second set from your original set:"
   ]
  },
  {
   "cell_type": "code",
   "execution_count": 8,
   "id": "3ea6c505-b355-4056-a8e0-18684f9cc642",
   "metadata": {},
   "outputs": [
    {
     "name": "stdout",
     "output_type": "stream",
     "text": [
      "{1, 2}\n"
     ]
    }
   ],
   "source": [
    "set1 = set( [1, 2, 3, 4, 5])\n",
    "set2 = set( [3, 4, 5, 6, 7])\n",
    "\n",
    "\n",
    "set1.difference_update(set2)\n",
    "\n",
    "set1 -= set2\n",
    "\n",
    "print(set1)"
   ]
  },
  {
   "cell_type": "markdown",
   "id": "04ace3a0-313e-4dd5-84a2-1592a3726095",
   "metadata": {},
   "source": [
    "---\n",
    "### `.symmetric_difference_update()` Method\n",
    "\n",
    "You can use the `.symmetric_difference_update()` method or the ^= operator to keep only the items that are in either the first or the second set, but not in both of them. Basically, the .symmetric_difference_update() method can remove the common items from your original set."
   ]
  },
  {
   "cell_type": "code",
   "execution_count": 12,
   "id": "f8861a67-1b58-4418-a925-3bfd221b003d",
   "metadata": {},
   "outputs": [
    {
     "name": "stdout",
     "output_type": "stream",
     "text": [
      "{1, 2, 6, 7}\n"
     ]
    }
   ],
   "source": [
    "set1 = set( [1, 2, 3, 4, 5])\n",
    "set2 = set( [3, 4, 5, 6, 7])\n",
    "\n",
    "set1.symmetric_difference_update(set2)\n",
    "\n",
    "print (set1)"
   ]
  },
  {
   "cell_type": "markdown",
   "id": "a430a056-71a1-4858-a7cc-b845105bb28e",
   "metadata": {},
   "source": [
    "---\n",
    "### `.intersection_update()` Method\n",
    "\n",
    "The `.intersection_update()` method can update your set to contain only the common items from two sets. You can also use the `&=` operator to do the same:"
   ]
  },
  {
   "cell_type": "code",
   "execution_count": 14,
   "id": "14431c8d-5cce-460f-baa5-78f7030fa84f",
   "metadata": {},
   "outputs": [
    {
     "name": "stdout",
     "output_type": "stream",
     "text": [
      "{3, 4, 5}\n"
     ]
    }
   ],
   "source": [
    "set1 = set( [1, 2, 3, 4, 5])\n",
    "set2 = set( [3, 4, 5, 6, 7])\n",
    "\n",
    "set1.intersection_update(set2)\n",
    "\n",
    "print (set1)"
   ]
  },
  {
   "cell_type": "markdown",
   "id": "1a8af064-a1c3-4777-86b9-67df6ffe487e",
   "metadata": {},
   "source": [
    "---\n",
    "### `.remove()` Method\n",
    "\n",
    "The `.remove()` Method can remove a single immutable object from your original Python set. Take into account that Python will raise a KeyError exeption if the element is not present in your set:"
   ]
  },
  {
   "cell_type": "markdown",
   "id": "bdb7f409-46ff-4f88-a9d2-a7d01103de71",
   "metadata": {},
   "source": [
    "The `.discard()` method also removes an element from your set. The only difference is that is does not raise an exception if the element is not found in the set:"
   ]
  },
  {
   "cell_type": "code",
   "execution_count": 16,
   "id": "a1bf105d-8e48-4e71-a824-13c79ec8ed4a",
   "metadata": {},
   "outputs": [
    {
     "name": "stdout",
     "output_type": "stream",
     "text": [
      "{1, 2, 4, 5}\n"
     ]
    }
   ],
   "source": [
    "set1 = set( [1, 2, 3, 4, 5])\n",
    "\n",
    "set1.discard(3)\n",
    "\n",
    "\n",
    "print(set1)"
   ]
  },
  {
   "cell_type": "markdown",
   "id": "1a58bbce-1a80-4ea8-8e98-2874b5bb3465",
   "metadata": {},
   "source": [
    "---\n",
    "### `.pop()` Method\n",
    "\n",
    "\n",
    "The `.pop()` Method will pop a random element from your Python set. Take into account that the .pop() method will raise a KeyError exception if the set is empty."
   ]
  },
  {
   "cell_type": "code",
   "execution_count": 18,
   "id": "6e98872b-61cd-4e39-82b9-5875c2434036",
   "metadata": {},
   "outputs": [
    {
     "name": "stdout",
     "output_type": "stream",
     "text": [
      "set()\n"
     ]
    },
    {
     "ename": "KeyError",
     "evalue": "'pop from an empty set'",
     "output_type": "error",
     "traceback": [
      "\u001b[1;31m---------------------------------------------------------------------------\u001b[0m",
      "\u001b[1;31mKeyError\u001b[0m                                  Traceback (most recent call last)",
      "Cell \u001b[1;32mIn[18], line 7\u001b[0m\n\u001b[0;32m      3\u001b[0m set1\u001b[38;5;241m.\u001b[39mpop()\n\u001b[0;32m      5\u001b[0m \u001b[38;5;28mprint\u001b[39m (set1)\n\u001b[1;32m----> 7\u001b[0m \u001b[43mset1\u001b[49m\u001b[38;5;241;43m.\u001b[39;49m\u001b[43mpop\u001b[49m\u001b[43m(\u001b[49m\u001b[43m)\u001b[49m\n\u001b[0;32m      8\u001b[0m \u001b[38;5;28mprint\u001b[39m(set1)\n",
      "\u001b[1;31mKeyError\u001b[0m: 'pop from an empty set'"
     ]
    }
   ],
   "source": [
    "set1 = set( [1])\n",
    "\n",
    "set1.pop()\n",
    "\n",
    "print (set1)\n",
    "\n",
    "set1.pop()\n",
    "print(set1)"
   ]
  },
  {
   "cell_type": "markdown",
   "id": "264284b6-841d-464d-8496-82acd4e89f71",
   "metadata": {},
   "source": [
    "---\n",
    "### `.clear()` Method\n",
    "\n",
    "By using the `.clear()` method, you can remove all the items from your set:"
   ]
  },
  {
   "cell_type": "code",
   "execution_count": 20,
   "id": "a7c8c3e9-e9db-4392-9165-cb62b0089f88",
   "metadata": {},
   "outputs": [
    {
     "name": "stdout",
     "output_type": "stream",
     "text": [
      "set()\n",
      "set()\n"
     ]
    }
   ],
   "source": [
    "set1 = set( [1, 2, 3, 4, 5])\n",
    "\n",
    "set1.clear()\n",
    "\n",
    "print(set1)\n",
    "\n",
    "print(set1)"
   ]
  },
  {
   "cell_type": "markdown",
   "id": "eb170413-3d61-4f2f-9cc4-387a5e0c7a58",
   "metadata": {},
   "source": [
    "## Thanks\n",
    "## SK"
   ]
  }
 ],
 "metadata": {
  "kernelspec": {
   "display_name": "Python 3 (ipykernel)",
   "language": "python",
   "name": "python3"
  },
  "language_info": {
   "codemirror_mode": {
    "name": "ipython",
    "version": 3
   },
   "file_extension": ".py",
   "mimetype": "text/x-python",
   "name": "python",
   "nbconvert_exporter": "python",
   "pygments_lexer": "ipython3",
   "version": "3.8.0"
  }
 },
 "nbformat": 4,
 "nbformat_minor": 5
}
