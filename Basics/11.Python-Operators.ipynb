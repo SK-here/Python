{
 "cells": [
  {
   "cell_type": "markdown",
   "id": "81bd026d",
   "metadata": {},
   "source": [
    "# Python Operators\n",
    "\n",
    "Operators are used to perform various operations on values and variabeles.\n",
    "\n",
    "*Python supports following types of Operators:*\n",
    "\n",
    "- Arithmatic Operators\n",
    "- Assignment Operators\n",
    "- Comparision Operators\n",
    "- Logical Operators\n",
    "- Identity Operators\n",
    "- Membership  Operators\n",
    "- Bitwise Operators"
   ]
  },
  {
   "cell_type": "markdown",
   "id": "6d0d565a",
   "metadata": {},
   "source": [
    "### Arithmatic Operators"
   ]
  },
  {
   "cell_type": "markdown",
   "id": "af84dceb",
   "metadata": {},
   "source": [
    "Arithmatic Operators are used to perform common mathematics operations:\n",
    "Below table gives the bried description about all the supported operator in python\n",
    "\n",
    "| Operator | Name | Description | Example |\n",
    "|:---:| :--- | :--- | :---: | \n",
    "| + | Addition | Adds Values | x + y |\n",
    "| - | Subtraction | Subtracts values | x - y |\n",
    "| * | Multiplication | Multiplies Values | x * y |\n",
    "| / | Division | Divides two values | x / y |\n",
    "| % | Modulus | Tells the remainder after division | x % y |\n",
    "| ** | Exponential | Exponential Power | x**y |\n",
    "| // | Floor Division | Tells the nearest possible value after division | x // y |"
   ]
  },
  {
   "cell_type": "code",
   "execution_count": 18,
   "id": "d8f54225",
   "metadata": {},
   "outputs": [
    {
     "name": "stdout",
     "output_type": "stream",
     "text": [
      "Addition:\n",
      "5\n",
      " \n",
      "Subtraction:\n",
      "-9\n",
      " \n",
      "Multiplication:\n",
      "6\n",
      " \n",
      "Division:\n",
      "3.0\n",
      " \n",
      "Modulus:\n",
      "1\n",
      " \n",
      "Square:\n",
      "9\n",
      "Cube:\n",
      "27\n",
      "Square Root\n",
      "3.0\n",
      "Square Root\n",
      "3.0\n",
      " \n",
      "Floor Division\n",
      "25.25\n",
      "Floor Division:\n",
      "4.04\n"
     ]
    }
   ],
   "source": [
    "# Addition\n",
    "print (\"Addition:\")\n",
    "print (2 + 3)\n",
    "print (\" \")\n",
    "\n",
    "\n",
    "# Subtraction\n",
    "print (\"Subtraction:\")\n",
    "print (23 - 32)\n",
    "print (\" \")\n",
    "\n",
    "\n",
    "# Multiplication\n",
    "print (\"Multiplication:\")\n",
    "print (2 * 3)\n",
    "print (\" \")\n",
    "\n",
    "\n",
    "# Division\n",
    "print (\"Division:\")\n",
    "print (9 / 3)\n",
    "print (\" \")\n",
    "\n",
    "\n",
    "# Modulus\n",
    "print (\"Modulus:\")\n",
    "print (3 % 2)\n",
    "print (\" \")\n",
    "\n",
    "\n",
    "#Exponential\n",
    "print (\"Square:\")\n",
    "print (3**2)\n",
    "\n",
    "print(\"Cube:\")\n",
    "print (3**3)\n",
    "\n",
    "print(\"Square Root\")\n",
    "print (9**(1/2))\n",
    "\n",
    "print(\"Square Root\")\n",
    "print (9**(0.5))\n",
    "print (\" \")\n",
    "\n",
    "\n",
    "# Floor Division\n",
    "print (\"Floor Division\")\n",
    "print (101/4)\n",
    "\n",
    "print (\"Floor Division:\")\n",
    "print (101/25)"
   ]
  },
  {
   "cell_type": "markdown",
   "id": "48c43858",
   "metadata": {},
   "source": [
    "### Python Assignment Operator\n",
    "Assignment Operators are used to assign values."
   ]
  },
  {
   "cell_type": "markdown",
   "id": "31fa7484",
   "metadata": {},
   "source": [
    "| Operator | Example | Same As | Description |\n",
    "|:---:| :--- | :--- | :--- |\n",
    "| = | x = 5 | x = 5 | Assigning 5 to x |\n",
    "| += | x += 3 | x = x + 3 | Adding 3 to the value of x and storing it in x |\n",
    "| -= | x -= 3 | x = x - 3 | Subtracting 3 to the value of x and storing it in x |\n",
    "| *= | x *= 3 | x = x * 3 | Multiplying 3 to the value of  x and storing it in x |\n",
    "| /= | x /= 3 | x = x / 3 | Dividing 3 to the value of x and storing it in x |\n",
    "| %= | x %= 3 | x = x % 3 | Dividing 3 to the value of x and storing it's remainder in x |\n",
    "| //= | x //= 3 | x = x // 3 | Dividing 3 to the value of x and storing it's quoient in x |\n",
    "| **= | x **= 3 | x = x ** 3 | Storing the value of exponential power of x upto 3 and storing it again in x | \n",
    "| &= | x &= 3 | x = x & 3 | Performing logical `AND` Operation and storing the value in x |\n",
    "| ^= | x ^= 3 | x = x ^ 3 | Performing logical `XOR` Operation and storing the value in x |\n",
    "| >>= | x >>= 3 | x = x >> 3 | Performing Right Shift upto 3 time to the x and again storing the value in the x |\n",
    "| <<= | x <<= 3 | x = x >> 3 | Performing Right Shift upto 3 time to the x and again storing the value in the x |\n",
    "\n",
    "- '|='   Ex. = 'x |= 3' is also written as 'x = x | 3' [Performing logical `OR` Operation and storing the value in x]"
   ]
  },
  {
   "cell_type": "code",
   "execution_count": 26,
   "id": "62183358",
   "metadata": {},
   "outputs": [
    {
     "name": "stdout",
     "output_type": "stream",
     "text": [
      "5\n",
      "8\n",
      "5\n",
      "15\n",
      "5.0\n",
      "2.0\n",
      "0.0\n",
      "0.0\n",
      "1\n",
      "2\n",
      "1\n"
     ]
    }
   ],
   "source": [
    "x = 5 # Assigning 5 to x\n",
    "print (x)\n",
    "\n",
    "\n",
    "x += 3 # x = x + 3 - Adding 3 to the value of x and storing it in x\n",
    "print (x)\n",
    "\n",
    "x -= 3 # x = x - 3 Subtracting 3 to the value of x and storing it in x\n",
    "print (x)\n",
    "\n",
    "x *= 3 # x = x * 3 Multiplying 3 to the value of x and storing it in x\n",
    "print (x)\n",
    "\n",
    "\n",
    "x /= 3 # x = x / 3 Dividing 3 to the value of x and storing it in x\n",
    "print (x)\n",
    "\n",
    "\n",
    "x %= 3  # x = x % 3 Dividing 3 to the value of x and storing it's remainder in x\n",
    "print (x)\n",
    "\n",
    "\n",
    "x //= 3 # x = x // 3 Dividing 3 to the value of x and storing it's quoient in x\n",
    "print (x)\n",
    "\n",
    "\n",
    "x **= 3 # x = x ** 3 Storing the value of exponential power of x upto 3 and storing it again in x\n",
    "print (x)\n",
    "\n",
    "\n",
    "x=5\n",
    "\n",
    "x &= 3 # x = x & 3 Performing logical AND Operation and storing the value in x\n",
    "print (x)\n",
    "\n",
    "\n",
    "x ^= 3  # x = x ^ 3 Performing logical XOR Operation and storing the value in x\n",
    "print (x)\n",
    "\n",
    "\n",
    "x >>= 1 # x = x >> 3 Performing Right Shift upto 3 time to the x and again storing the value in the x <<= x <<= 3\n",
    "print (x)\n"
   ]
  },
  {
   "cell_type": "markdown",
   "id": "d771e591",
   "metadata": {},
   "source": [
    "### Comparision Operators\n",
    "Comparision Operators are used to compare two values. It returns only True or False"
   ]
  },
  {
   "cell_type": "markdown",
   "id": "42d7e476",
   "metadata": {},
   "source": [
    "| Operator | Name | Example |\n",
    "|:---:| :--- | :--- |\n",
    "| == | Equals to | x == y  |\n",
    "| != | Not Equals to | x != y  |\n",
    "| > | Greater Than | x > y  |\n",
    "| < | Less Than | x < y  |\n",
    "| >= | Greater than or Equals to | x >= y |\n",
    "| <= | Less than or Equals to | x <= y |"
   ]
  },
  {
   "cell_type": "code",
   "execution_count": 29,
   "id": "b44a076d",
   "metadata": {},
   "outputs": [
    {
     "name": "stdout",
     "output_type": "stream",
     "text": [
      "False\n",
      "True\n",
      "False\n",
      "True\n",
      "False\n",
      "True\n"
     ]
    }
   ],
   "source": [
    "x = 5\n",
    "y = 9\n",
    "\n",
    "# Equals to \n",
    "print (x == y)\n",
    "\n",
    "# Not Equals to \n",
    "print(x != y)\n",
    "\n",
    "# Greater Than \n",
    "print(x > y)\n",
    "\n",
    "# Less Than \n",
    "print(x < y)\n",
    "\n",
    "# Greater than or Equals to \n",
    "print(x >= y)\n",
    "\n",
    "# Less than or Equals to \n",
    "print(x <= y)\n"
   ]
  },
  {
   "cell_type": "markdown",
   "id": "13d61803",
   "metadata": {},
   "source": [
    "### Logical Operators\n",
    "Logical operators are used to combine conditional statements."
   ]
  },
  {
   "cell_type": "markdown",
   "id": "12d4435c",
   "metadata": {},
   "source": [
    "| Operator | Name | Description | Example |\n",
    "|:---:| :--- | :--- | :---: |\n",
    "| and | Logical `AND` | Returns `True` if both statements are true  | x < 5 and  x < 10\n",
    "| or |  Logical `OR` | Returns `True` if one of the statements is true  | x < 5 or x < 4 \n",
    "| not |  Logical `NOT` | Reverses the result, returns `False` if the result is true  | not(x < 5 and x < 10)"
   ]
  },
  {
   "cell_type": "code",
   "execution_count": 30,
   "id": "eb64b93c",
   "metadata": {},
   "outputs": [
    {
     "name": "stdout",
     "output_type": "stream",
     "text": [
      "False\n",
      "False\n",
      "True\n"
     ]
    }
   ],
   "source": [
    "# Returns True if both statements are true \n",
    "print (x < 5 and x < 10)\n",
    "\n",
    "# Returns True if one of the statements is true \n",
    "print (x < 5 or x < 4)\n",
    "\n",
    "# Reverses the result, returns False if the result is true \n",
    "print (not(x < 5 and x < 10))"
   ]
  },
  {
   "cell_type": "markdown",
   "id": "343d0924",
   "metadata": {},
   "source": [
    "### Identity Operators\n",
    "\n",
    "Identity operators are used to compare the objects, not if they are equal, but if they are actually the same object, with the same memory location:"
   ]
  },
  {
   "cell_type": "markdown",
   "id": "3d2abacb",
   "metadata": {},
   "source": [
    "| Operator | Description | Example |\n",
    "|:---:| :--- | :---: | \n",
    "| is  | Returns True if both variables are the same object | x in y |\n",
    "| is not | Returns True if both variables are not the same object | x is not y |"
   ]
  },
  {
   "cell_type": "code",
   "execution_count": 37,
   "id": "7ada5d7c",
   "metadata": {},
   "outputs": [
    {
     "name": "stdout",
     "output_type": "stream",
     "text": [
      "True\n",
      "False\n"
     ]
    }
   ],
   "source": [
    "x = 1\n",
    "y = [5,1,2,3,6]\n",
    "\n",
    "# Returns True if both variables are the same object \n",
    "print (x in y)\n",
    "\n",
    "# Returns True if both variables are not the same object \n",
    "print (x is y)"
   ]
  },
  {
   "cell_type": "markdown",
   "id": "1d866576",
   "metadata": {},
   "source": [
    "### Bitwise Operators\n",
    "\n",
    "Bitwise operators are used to compare (binary) numbers:"
   ]
  },
  {
   "cell_type": "markdown",
   "id": "c1affbe6",
   "metadata": {},
   "source": [
    "| Operator | Name | Description | Example |\n",
    "|:---:| :--- | :--- | :---: | \n",
    "| &  | AND | Sets each bit to 1 if both bits are 1 | x & y | \n",
    "| ^ | XOR | Sets each bit to 1 if only one of two bits is 1 | x ^ y | \n",
    "| ~ | NOT | Inverts all the bits | ~x | \n",
    "| << | Zero fill left shift | Shift left by pushing zeros in from the right and let the leftmost bits fall off | x << 2 |\n",
    "| >> | Signed right shift | Shift right by pushing copies of the leftmost bit in from the left, and let the rightmost bits fall off | x >> 2 |\n",
    "\n",
    "- \"|\" (OR) - Sets each bit to 1 if one of two bits is 1 Ex.  \"x | y\"  "
   ]
  },
  {
   "cell_type": "code",
   "execution_count": 39,
   "id": "51f789c5",
   "metadata": {},
   "outputs": [
    {
     "name": "stdout",
     "output_type": "stream",
     "text": [
      "0\n",
      "6\n",
      "-5\n",
      "16\n",
      "1\n",
      "6\n"
     ]
    }
   ],
   "source": [
    "x = 4\n",
    "y = 2\n",
    "\n",
    "# AND \n",
    "print (x & y)\n",
    "\n",
    "# XOR\n",
    "print (x ^ y)\n",
    "\n",
    "# NOT\n",
    "print (~x)\n",
    "\n",
    "# Left Shift\n",
    "print (x << 2)\n",
    "\n",
    "# Right Shift\n",
    "print (x >> 2)\n",
    "\n",
    "# OR \n",
    "print (x | y)"
   ]
  },
  {
   "cell_type": "markdown",
   "id": "a3a869cc",
   "metadata": {},
   "source": [
    "### Python Membership Operators\n",
    "\n",
    "Membership operators are used to test if a sequence is presented in an object:"
   ]
  },
  {
   "cell_type": "markdown",
   "id": "425c394f",
   "metadata": {},
   "source": [
    "| Operator | Description | Example |\n",
    "|:---:| :--- | :--- | \n",
    "| in  | Returns True if a sequence with the specified value is present in the object | x in y |\n",
    "| not in | Returns True if a sequence with the specified value is not present in the object | x not in y |"
   ]
  },
  {
   "cell_type": "code",
   "execution_count": 40,
   "id": "0cb36eed",
   "metadata": {},
   "outputs": [
    {
     "name": "stdout",
     "output_type": "stream",
     "text": [
      "True\n",
      "False\n"
     ]
    }
   ],
   "source": [
    "y = [1,2,3,4,5,6]\n",
    "x = 3\n",
    "\n",
    "print (x in y)\n",
    "\n",
    "print ( x not in y)"
   ]
  },
  {
   "cell_type": "markdown",
   "id": "1d8a073a",
   "metadata": {},
   "source": [
    "### Operator Precedence\n",
    "\n",
    "Operator precedence describes the order in which operations are performed."
   ]
  },
  {
   "cell_type": "markdown",
   "id": "aa30c06b",
   "metadata": {},
   "source": [
    "| Operator | Description |\n",
    "|:---:| :--- | \n",
    "| () | Parentheses | \n",
    "| ** | Exponentiation | \n",
    "| +x  -x  ~x | Unary plus, unary minus, and bitwise NOT | \n",
    "| *  /  //  % | Multiplication, division, floor division, and modulus | \n",
    "| +  - | Addition and subtraction | \n",
    "| <<  >> | Bitwise left and right shifts | \n",
    "| & | Bitwise AND | \n",
    "| ^ | Bitwise XOR | \n",
    "| `OR` | Bitwise OR | \n",
    "| ==  !=  >  >=  <  <=  is  is not  in  not in  | Comparisons, identity, and membership operators |\n",
    "| not | Logical NOT | \n",
    "| and | AND | \n",
    "| or | OR | \n",
    "\n",
    "> ***Note:*** *If two operators have the same precedence, the expression is evaluated from left to right.*"
   ]
  },
  {
   "cell_type": "markdown",
   "id": "00972092",
   "metadata": {},
   "source": [
    "***Thanks***\n",
    "\n",
    "~ SK"
   ]
  }
 ],
 "metadata": {
  "kernelspec": {
   "display_name": "Python 3 (ipykernel)",
   "language": "python",
   "name": "python3"
  },
  "language_info": {
   "codemirror_mode": {
    "name": "ipython",
    "version": 3
   },
   "file_extension": ".py",
   "mimetype": "text/x-python",
   "name": "python",
   "nbconvert_exporter": "python",
   "pygments_lexer": "ipython3",
   "version": "3.11.3"
  }
 },
 "nbformat": 4,
 "nbformat_minor": 5
}
