{
 "cells": [
  {
   "cell_type": "markdown",
   "metadata": {},
   "source": [
    "# Conditionals in Python\n",
    "#### @Author: Saksham Trivedi aka SK\n",
    "\"The ability of a program to alter it's execution sequence is known as branching.\"\n",
    "\n",
    "Conditional statements are used for descision making or changing the the flow of execution when the certain conditions met.\n",
    "\n",
    "There are several types of conditionals such as:\n",
    "\n",
    "- if\n",
    "- if else\n",
    "- nested if\n",
    "- elif"
   ]
  },
  {
   "cell_type": "markdown",
   "metadata": {},
   "source": [
    "## The _if_ statement:\n",
    "In programming ***if*** statement is used to execute the block under the ***if*** body after the certain condtion met It helps to change the flow or sequence of program.\n",
    "\n",
    "The body of if statement is indicated by indentation and the first unintended line marks the end.\n",
    "\n",
    "**Note:**\n",
    "> Python Interprets the non-zero values i.e. >= 1 as **True** and **0** or **None** are interpreted as **False.**"
   ]
  },
  {
   "cell_type": "code",
   "execution_count": 1,
   "metadata": {},
   "outputs": [
    {
     "name": "stdout",
     "output_type": "stream",
     "text": [
      " Inside If Body\n",
      "Outside if body\n"
     ]
    }
   ],
   "source": [
    "# If body\n",
    "if True: #condition\n",
    "    print (\" Inside If Body\") #statements inside if block\n",
    "    \n",
    "print (\"Outside if body\") #outside of If block"
   ]
  },
  {
   "cell_type": "markdown",
   "metadata": {},
   "source": [
    "#### For Example:\n",
    "Write a function to validate the length of username that It should contain atleast three chracters"
   ]
  },
  {
   "cell_type": "code",
   "execution_count": 2,
   "metadata": {},
   "outputs": [
    {
     "name": "stdout",
     "output_type": "stream",
     "text": [
      "Invalid Username, It must be atleast three characters long\n",
      "None\n"
     ]
    }
   ],
   "source": [
    "def check_username(username):\n",
    "    if len(username) < 3:\n",
    "        return \"Invalid Username, It must be atleast three characters long\"\n",
    "    \n",
    "print (check_username(\"SK\")) # Invalid\n",
    "print(check_username(\"Saksham\")) # None; No return type is declared for false condition"
   ]
  },
  {
   "cell_type": "code",
   "execution_count": 3,
   "metadata": {},
   "outputs": [
    {
     "name": "stdout",
     "output_type": "stream",
     "text": [
      "True\n",
      "None\n",
      "None\n"
     ]
    }
   ],
   "source": [
    "def is_positive(number):\n",
    "  if number > 0:\n",
    "    return True\n",
    "\n",
    "print (is_positive(5)) # True\n",
    "print(is_positive(-1)) # None\n",
    "print(is_positive(0)) # None"
   ]
  },
  {
   "cell_type": "markdown",
   "metadata": {},
   "source": [
    "## _if_ - _else_ Statement\n",
    "Sometimes, you want to evaluate a condition and take one path if it is true but specify an alternative path if it is not. This is accomplished with an **else** clause:\n",
    "\n",
    "If < expr > is **True**, the first suite is executed, and the second is skipped. If < expr > is **False**, the first suite is skipped and the second is executed. Either way, execution then resumes after the second suite. Both suites are defined by indentation, as described above."
   ]
  },
  {
   "cell_type": "markdown",
   "metadata": {},
   "source": [
    "#### Example:"
   ]
  },
  {
   "cell_type": "code",
   "execution_count": 4,
   "metadata": {},
   "outputs": [
    {
     "name": "stdout",
     "output_type": "stream",
     "text": [
      "Positive\n",
      "Negative\n",
      "Negative\n"
     ]
    }
   ],
   "source": [
    "def is_positive(number):\n",
    "    if number > 0:\n",
    "        return \"Positive\"\n",
    "    else:\n",
    "        return \"Negative\"\n",
    "\n",
    "print (is_positive(5)) # +ve\n",
    "print(is_positive(-1)) # -ve\n",
    "print(is_positive(0)) # -ve"
   ]
  },
  {
   "cell_type": "code",
   "execution_count": 5,
   "metadata": {},
   "outputs": [
    {
     "name": "stdout",
     "output_type": "stream",
     "text": [
      "Invalid\n",
      "\n",
      "Valid\n"
     ]
    }
   ],
   "source": [
    "def check_username(username):\n",
    "    if len(username) < 3:\n",
    "        return \"Invalid\"\n",
    "    else:\n",
    "        return \"Valid\"\n",
    "    \n",
    "print (check_username(\"SK\")) # Invalid\n",
    "print()\n",
    "print(check_username(\"Saksham\")) # Valid"
   ]
  },
  {
   "cell_type": "code",
   "execution_count": 6,
   "metadata": {},
   "outputs": [
    {
     "name": "stdout",
     "output_type": "stream",
     "text": [
      "Even\n",
      "\n",
      "Odd\n"
     ]
    }
   ],
   "source": [
    "def is_even(number):\n",
    "    if number % 2 == 0:\n",
    "        return \"Even\"\n",
    "    #else:\n",
    "    return \"Odd\"\n",
    "    \n",
    "print(is_even(4)) # True\n",
    "print()\n",
    "print (is_even(7)) # Odd"
   ]
  },
  {
   "cell_type": "markdown",
   "metadata": {},
   "source": [
    "## Nested _if_ Statement:\n",
    "The Nested _if_ is used when condition inside the condition is needed in a complex branching manner it is used when complex descision are needed in the programs based on hirarchy the code should follow if certain conditions met."
   ]
  },
  {
   "cell_type": "code",
   "execution_count": 7,
   "metadata": {},
   "outputs": [
    {
     "name": "stdout",
     "output_type": "stream",
     "text": [
      "Zero\n",
      "Positive number\n",
      "Negative\n"
     ]
    }
   ],
   "source": [
    "def is_positive(number):\n",
    "    if number == 0:\n",
    "        return \"Zero\"\n",
    "    else:\n",
    "        if number < 0:\n",
    "            return \"Negative\"\n",
    "        else:\n",
    "            return \"Positive number\"\n",
    "            \n",
    "print(is_positive(0)) # Zero\n",
    "print(is_positive(10)) # Positive\n",
    "print(is_positive(-10)) # Negative"
   ]
  },
  {
   "cell_type": "markdown",
   "metadata": {},
   "source": [
    "But the code above is bit messy not much in this case but think about more complex program and thus, descrease in readability of code decreases and there's nothing you can do about it in most of the programming languages like C, C++, Java or java script (It provides little help with _if-else..if()_ block )...\n",
    "\n",
    "However, unlike other languages in python there's a shorthand of to writing the similar code using _**elif**_ keyword"
   ]
  },
  {
   "cell_type": "markdown",
   "metadata": {},
   "source": [
    "## The _elif_ statement\n",
    "\n",
    "**_elif_** proides functionality to introduce a condition if the ***if*** suite fall under no execution and certain condtion needs to be checked at the else suite such that flow of program can be manipulated in a desired way."
   ]
  },
  {
   "cell_type": "code",
   "execution_count": 8,
   "metadata": {},
   "outputs": [
    {
     "name": "stdout",
     "output_type": "stream",
     "text": [
      "Invalid Username, must be atleast 3 character long\n",
      "Valid Username, You can now proceed\n",
      "Invalid username, max 15 characters are allowed\n"
     ]
    }
   ],
   "source": [
    "def hint_username(username):\n",
    "    if len(username) < 3:\n",
    "        return \"Invalid Username, must be atleast 3 character long\"\n",
    "    elif len(username) > 15:\n",
    "        return \"Invalid username, max 15 characters are allowed\"\n",
    "    else:\n",
    "        return \"Valid Username, You can now proceed\"\n",
    "    \n",
    "print (hint_username(\"SK\")) # Invalid\n",
    "print (hint_username(\"Saksham\")) # Valid\n",
    "print(hint_username(\"Saksham Trivedi aka SK\")) # Invalid"
   ]
  },
  {
   "cell_type": "markdown",
   "metadata": {},
   "source": [
    "#### Example:\n",
    "The number_group function should return \"Positive\" if the number received is positive, \"Negative\" if it's negative, and \"Zero\" if it's 0."
   ]
  },
  {
   "cell_type": "code",
   "execution_count": 9,
   "metadata": {
    "scrolled": true
   },
   "outputs": [
    {
     "name": "stdout",
     "output_type": "stream",
     "text": [
      "Positive\n",
      "Zero\n",
      "Negative\n"
     ]
    }
   ],
   "source": [
    "def number_group(number):\n",
    "  if number>0:\n",
    "    return \"Positive\"\n",
    "  elif number==0:\n",
    "    return \"Zero\"\n",
    "  else:\n",
    "    return \"Negative\"\n",
    "\n",
    "print(number_group(10)) #Should be Positive\n",
    "print(number_group(0)) #Should be Zero\n",
    "print(number_group(-5)) #Should be Negative"
   ]
  },
  {
   "cell_type": "markdown",
   "metadata": {},
   "source": [
    "Building off of the **_if_** and _**else**_ blocks, which allow us to branch our code depending on the evaluation of one statement, the elif statement allows us even more comparisons to perform more complex branching. Very similar to the _**if**_ statements, an _**elif**_ statement starts with the _**elif**_ keyword, followed by a comparison to be evaluated. This is followed by a **colon**, and then the code block on the next line, **indented** to the right. An ***elif*** statement must follow an ***if*** statement, and will only be evaluated if the ***if*** statement was evaluated as false. You can include multiple **elif** statements to build complex branching in your code."
   ]
  },
  {
   "cell_type": "markdown",
   "metadata": {},
   "source": [
    "### Branching Cheat sheet\n",
    "#### Comparison operators:"
   ]
  },
  {
   "cell_type": "code",
   "execution_count": 10,
   "metadata": {},
   "outputs": [
    {
     "name": "stdout",
     "output_type": "stream",
     "text": [
      "False\n",
      "True\n",
      "True\n",
      "True\n",
      "False\n",
      "False\n"
     ]
    }
   ],
   "source": [
    "a = 4 \n",
    "b = 5\n",
    "\n",
    "print(a == b)   # a is equal to b\n",
    "\n",
    "print(a != b)   # a is different than b\n",
    "\n",
    "print(a < b)    # a is smaller than b\n",
    "\n",
    "print(a <= b)   # a is smaller or equal to b\n",
    "\n",
    "print(a > b)    # a is bigger than b\n",
    "\n",
    "print(a >= b)   # a is bigger or equal to b\n"
   ]
  },
  {
   "cell_type": "markdown",
   "metadata": {},
   "source": [
    "#### Logical Operators:"
   ]
  },
  {
   "cell_type": "markdown",
   "metadata": {},
   "source": [
    "- a ***and*** b    \n",
    "True if both a and b are True. False otherwise.\n",
    "\n",
    "\n",
    "- a ***or*** b     \n",
    "True if either a or b or both are True. False if both are False.\n",
    "\n",
    "\n",
    "- ***not*** a      \n",
    "True if a is False, False if a is True."
   ]
  },
  {
   "cell_type": "markdown",
   "metadata": {},
   "source": [
    "## Problem Statements:\n",
    "### Problem 1: \n",
    "If a filesystem has a block size of 4096 bytes, this means that a file comprised of only one byte will still use 4096 bytes of storage. A file made up of 4097 bytes will use 4096*2=8192 bytes of storage. \n",
    "\n",
    "Knowing this, create a function to calculate the total number of bytes needed to store a file of a given size"
   ]
  },
  {
   "cell_type": "code",
   "execution_count": 11,
   "metadata": {},
   "outputs": [
    {
     "name": "stdout",
     "output_type": "stream",
     "text": [
      "4096\n"
     ]
    }
   ],
   "source": [
    "def calculate_storage(filesize):\n",
    "    block_size = 4096\n",
    "    full_blocks = filesize//4096\n",
    "    partial_block_remainder = filesize%4096\n",
    "    if partial_block_remainder > 0:\n",
    "        return 4096*(full_blocks+1)\n",
    "    return full_blocks*4096\n",
    "\n",
    "print(calculate_storage(1))"
   ]
  },
  {
   "cell_type": "markdown",
   "metadata": {},
   "source": [
    "### Problem 2:\n",
    "create a function to compare 3 words. It should return the word with the most number of characters (and at the first in the list when they have the same length)."
   ]
  },
  {
   "cell_type": "code",
   "execution_count": 12,
   "metadata": {},
   "outputs": [
    {
     "name": "stdout",
     "output_type": "stream",
     "text": [
      "chair\n",
      "beyond\n",
      "notebook\n"
     ]
    }
   ],
   "source": [
    "def longest_word(word1, word2, word3):\n",
    "    if len(word1) >= len(word2) and len(word1) >= len(word3):\n",
    "        word = word1\n",
    "    elif len(word2) >= len(word1) and len(word2) >= len(word3):\n",
    "        word = word2\n",
    "    else:\n",
    "        word = word3\n",
    "    return(word)\n",
    "\n",
    "print(longest_word(\"chair\", \"couch\", \"table\"))\n",
    "print(longest_word(\"bed\", \"bath\", \"beyond\"))\n",
    "print(longest_word(\"laptop\", \"notebook\", \"desktop\"))"
   ]
  },
  {
   "cell_type": "markdown",
   "metadata": {},
   "source": [
    "### Problem 3:\n",
    "Write a function to return only the fractional part after dividing the numerator by the denominator"
   ]
  },
  {
   "cell_type": "code",
   "execution_count": 13,
   "metadata": {},
   "outputs": [
    {
     "name": "stdout",
     "output_type": "stream",
     "text": [
      "0.0\n",
      "0.25\n",
      "0.6666666666666667\n",
      "0.5\n",
      "0\n",
      "0.0\n"
     ]
    }
   ],
   "source": [
    "def fractional_part(numerator, denominator):\n",
    "\t# Operate with numerator and denominator to \n",
    "# keep just the fractional part of the quotient\n",
    "\tif denominator==0:\n",
    "\t\treturn 0\n",
    "    else:\n",
    "        return (numerator/denominator)%1\n",
    "\n",
    "\n",
    "print(fractional_part(5, 5)) # Should be 0\n",
    "print(fractional_part(5, 4)) # Should be 0.25\n",
    "print(fractional_part(5, 3)) # Should be 0.66...\n",
    "print(fractional_part(5, 2)) # Should be 0.5\n",
    "print(fractional_part(5, 0)) # Should be 0\n",
    "print(fractional_part(0, 5)) # Should be 0"
   ]
  },
  {
   "cell_type": "markdown",
   "metadata": {},
   "source": [
    "***Thanks,***\n",
    "\n",
    "SK"
   ]
  }
 ],
 "metadata": {
  "kernelspec": {
   "display_name": "Python 3",
   "language": "python",
   "name": "python3"
  },
  "language_info": {
   "codemirror_mode": {
    "name": "ipython",
    "version": 3
   },
   "file_extension": ".py",
   "mimetype": "text/x-python",
   "name": "python",
   "nbconvert_exporter": "python",
   "pygments_lexer": "ipython3",
   "version": "3.8.10"
  }
 },
 "nbformat": 4,
 "nbformat_minor": 4
}
