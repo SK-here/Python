{
 "cells": [
  {
   "cell_type": "markdown",
   "metadata": {},
   "source": [
    "# Python Variables & Data Types"
   ]
  },
  {
   "cell_type": "markdown",
   "metadata": {},
   "source": [
    "## Keywords:\n",
    "Keywords are pre-defined set of words in any programming laguages which perfoms certain task also you cannot use them as a user defined words in programming; It will throw error. In python, in some cases if you might use such keywords and no errors are thrown there's no gurantee of the desired output or flow of program. also in such case it requires alot of debugging since no errors are shown.\n",
    "\n",
    "**Some of the keywords are mentioned below:**"
   ]
  },
  {
   "cell_type": "code",
   "execution_count": 6,
   "metadata": {},
   "outputs": [],
   "source": [
    "#   False    #   class      #   finally   #   is          #   return      #\n",
    "#   None     #   continue   #   for       #   lambda      #   try         #\n",
    "#   True     #   def        #   from      #   nonlocal    #   while       #\n",
    "#   and      #   del        #   global    #   not         #   with        #\n",
    "#   as       #   elif       #   if        #   or          #   yield       #\n",
    "#   assert   #  else        #   import    #   pass        # \n",
    "#   break    #   except     #   in        #   raise       # "
   ]
  },
  {
   "cell_type": "markdown",
   "metadata": {},
   "source": [
    "---------------------------------------------------------------------------------------\n",
    "\n",
    "## Variables & Data Types in Python:\n",
    "### Variables: \n",
    "A Python variable is a symbolic name that is a reference or pointer to an object. Once an object is assigned to a variable, you can refer to the object by that name. But the data itself is still contained within the object.\n",
    "\n",
    "> Python has no command for declaring a variable. A variable is created the moment you first assign a value to it.\n",
    "\n",
    "**Rules for defining variable name:**\n",
    "> Officially, variable names in Python can be any length and can consist of uppercase and lowercase letters (A-Z, a-z), digits (0-9), and the underscore character (_). An additional restriction is that, although a variable name can contain digits, the first character of a variable name cannot be a digit."
   ]
  },
  {
   "cell_type": "code",
   "execution_count": 19,
   "metadata": {},
   "outputs": [
    {
     "name": "stdout",
     "output_type": "stream",
     "text": [
      "Bob 54 True\n"
     ]
    }
   ],
   "source": [
    "# Valid Variable names\n",
    "name = \"Bob\"\n",
    "Age = 54\n",
    "has_W2 = True\n",
    "print(name, Age, has_W2)"
   ]
  },
  {
   "cell_type": "markdown",
   "metadata": {},
   "source": [
    "**Note:**\n",
    "> In python case is significant. Lowercase and uppercase letters are not the same. Use of the underscore character is significant as well. Each of the following defines a different variable:"
   ]
  },
  {
   "cell_type": "code",
   "execution_count": 20,
   "metadata": {},
   "outputs": [
    {
     "name": "stdout",
     "output_type": "stream",
     "text": [
      "1 2 3 4 5 6 7 8\n"
     ]
    }
   ],
   "source": [
    "age = 1\n",
    "Age = 2\n",
    "aGe = 3\n",
    "AGE = 4\n",
    "a_g_e = 5\n",
    "_age = 6\n",
    "age_ = 7\n",
    "_AGE_ = 8\n",
    "\n",
    "print(age, Age, aGe, AGE, a_g_e, _age, age_, _AGE_)"
   ]
  },
  {
   "cell_type": "markdown",
   "metadata": {},
   "source": [
    "To see the type of variable you can use ***type()*** function:"
   ]
  },
  {
   "cell_type": "code",
   "execution_count": 21,
   "metadata": {},
   "outputs": [
    {
     "name": "stdout",
     "output_type": "stream",
     "text": [
      "<class 'str'> <class 'int'> <class 'bool'>\n"
     ]
    }
   ],
   "source": [
    "print(type(name), type(Age), type(has_W2))"
   ]
  },
  {
   "cell_type": "markdown",
   "metadata": {},
   "source": [
    "### Datatypes:\n",
    "In Python there following types of built-In data types:\n",
    "\n",
    "- Text Type: string (str()) \n",
    "- Numeric Type: Integer (int()), float(), complex() \n",
    "- Sequence Type: list(), tuple(), range()\n",
    "- Mapping Type: Dictionary (dict())\n",
    "- Set Types: set(), frozenset()\n",
    "- Boolean Type: bool() (True/False)\n",
    "- Binary types : bytes(), bytearray(), memoryview()\n",
    "- None Type: NoneType()"
   ]
  },
  {
   "cell_type": "markdown",
   "metadata": {},
   "source": [
    "#### Below are example to better understand datatypes in python"
   ]
  },
  {
   "cell_type": "code",
   "execution_count": 22,
   "metadata": {},
   "outputs": [
    {
     "name": "stdout",
     "output_type": "stream",
     "text": [
      "<class 'str'>\n",
      "Hello World\n"
     ]
    }
   ],
   "source": [
    "x = \"Hello World\"\n",
    "print(type(x))\n",
    "print(x)"
   ]
  },
  {
   "cell_type": "code",
   "execution_count": 23,
   "metadata": {},
   "outputs": [
    {
     "name": "stdout",
     "output_type": "stream",
     "text": [
      "<class 'int'>\n",
      "1\n"
     ]
    }
   ],
   "source": [
    "x = 1\n",
    "print(type(x))\n",
    "print(x)"
   ]
  },
  {
   "cell_type": "code",
   "execution_count": 24,
   "metadata": {},
   "outputs": [
    {
     "name": "stdout",
     "output_type": "stream",
     "text": [
      "<class 'float'>\n",
      "1.1\n"
     ]
    }
   ],
   "source": [
    "x = 1.1\n",
    "print(type(x))\n",
    "print(x)"
   ]
  },
  {
   "cell_type": "code",
   "execution_count": 25,
   "metadata": {},
   "outputs": [
    {
     "name": "stdout",
     "output_type": "stream",
     "text": [
      "<class 'complex'>\n",
      "1j\n"
     ]
    }
   ],
   "source": [
    "x = 1j\n",
    "print(type(x))\n",
    "print(x)"
   ]
  },
  {
   "cell_type": "code",
   "execution_count": 26,
   "metadata": {},
   "outputs": [
    {
     "name": "stdout",
     "output_type": "stream",
     "text": [
      "<class 'list'>\n",
      "['apple', 'banana', 'cherry']\n"
     ]
    }
   ],
   "source": [
    "x = [\"apple\", \"banana\", \"cherry\"]\n",
    "print(type(x))\n",
    "print(x)"
   ]
  },
  {
   "cell_type": "code",
   "execution_count": 27,
   "metadata": {
    "scrolled": false
   },
   "outputs": [
    {
     "name": "stdout",
     "output_type": "stream",
     "text": [
      "<class 'tuple'>\n",
      "('apple', 'banana', 'cherry')\n"
     ]
    }
   ],
   "source": [
    "x = (\"apple\", \"banana\", \"cherry\")\n",
    "print(type(x))\n",
    "print(x)"
   ]
  },
  {
   "cell_type": "code",
   "execution_count": 28,
   "metadata": {},
   "outputs": [
    {
     "name": "stdout",
     "output_type": "stream",
     "text": [
      "<class 'range'>\n",
      "range(0, 6)\n"
     ]
    }
   ],
   "source": [
    "x = range(6)\n",
    "print(type(x))\n",
    "print(x)"
   ]
  },
  {
   "cell_type": "code",
   "execution_count": 29,
   "metadata": {},
   "outputs": [
    {
     "name": "stdout",
     "output_type": "stream",
     "text": [
      "<class 'dict'>\n",
      "{'name': 'John', 'age': 36}\n"
     ]
    }
   ],
   "source": [
    "x = {\"name\" : \"John\", \"age\" : 36}\n",
    "print(type(x))\n",
    "print(x)"
   ]
  },
  {
   "cell_type": "code",
   "execution_count": 30,
   "metadata": {},
   "outputs": [
    {
     "name": "stdout",
     "output_type": "stream",
     "text": [
      "<class 'frozenset'>\n",
      "frozenset({'cherry', 'banana', 'apple'})\n"
     ]
    }
   ],
   "source": [
    "x = frozenset({\"apple\", \"banana\", \"cherry\"})\n",
    "print(type(x))\n",
    "print(x)"
   ]
  },
  {
   "cell_type": "code",
   "execution_count": 31,
   "metadata": {},
   "outputs": [
    {
     "name": "stdout",
     "output_type": "stream",
     "text": [
      "<class 'bool'>\n",
      "True\n"
     ]
    }
   ],
   "source": [
    "x = True\n",
    "print(type(x))\n",
    "print(x)"
   ]
  },
  {
   "cell_type": "code",
   "execution_count": 32,
   "metadata": {},
   "outputs": [
    {
     "name": "stdout",
     "output_type": "stream",
     "text": [
      "<class 'bytes'>\n",
      "b'Hello'\n"
     ]
    }
   ],
   "source": [
    "x = b\"Hello\"\n",
    "print(type(x))\n",
    "print(x)"
   ]
  },
  {
   "cell_type": "code",
   "execution_count": 33,
   "metadata": {},
   "outputs": [
    {
     "name": "stdout",
     "output_type": "stream",
     "text": [
      "<class 'bytearray'>\n",
      "bytearray(b'\\x00\\x00\\x00\\x00\\x00')\n"
     ]
    }
   ],
   "source": [
    "x = bytearray(5)\n",
    "print(type(x))\n",
    "print(x)"
   ]
  },
  {
   "cell_type": "raw",
   "metadata": {},
   "source": [
    "x = memoryview(bytes(5))\n",
    "print(type(x))\n",
    "print(x)"
   ]
  },
  {
   "cell_type": "code",
   "execution_count": 35,
   "metadata": {},
   "outputs": [
    {
     "name": "stdout",
     "output_type": "stream",
     "text": [
      "<class 'NoneType'>\n",
      "None\n"
     ]
    }
   ],
   "source": [
    "x = None\n",
    "print(type(x))\n",
    "print(x)"
   ]
  },
  {
   "cell_type": "markdown",
   "metadata": {},
   "source": [
    "**Note:**\n",
    "> In above Example we do not defined the type of variable converting the veriable into appropriate datatype automatically is known as **Implicit Typecasting**."
   ]
  },
  {
   "cell_type": "markdown",
   "metadata": {},
   "source": [
    "-------------------------------------------------------------------------------------------"
   ]
  },
  {
   "cell_type": "markdown",
   "metadata": {},
   "source": [
    "***In some Situations there's a need to define or to convert the data type into the desired one and this can be done via Explicit typecasting***\n",
    "\n",
    "Below are examples of Explicit typecasting:"
   ]
  },
  {
   "cell_type": "code",
   "execution_count": 36,
   "metadata": {},
   "outputs": [],
   "source": [
    "x = str(\"Hello World\")"
   ]
  },
  {
   "cell_type": "code",
   "execution_count": 37,
   "metadata": {},
   "outputs": [],
   "source": [
    "x = int(20)"
   ]
  },
  {
   "cell_type": "code",
   "execution_count": 38,
   "metadata": {},
   "outputs": [],
   "source": [
    "x = int(20)"
   ]
  },
  {
   "cell_type": "code",
   "execution_count": 39,
   "metadata": {},
   "outputs": [],
   "source": [
    "x = int(20)"
   ]
  },
  {
   "cell_type": "code",
   "execution_count": 40,
   "metadata": {},
   "outputs": [],
   "source": [
    "x = list((\"apple\", \"banana\", \"cherry\"))"
   ]
  },
  {
   "cell_type": "code",
   "execution_count": 41,
   "metadata": {},
   "outputs": [],
   "source": [
    "x = tuple((\"apple\", \"banana\", \"cherry\"))"
   ]
  },
  {
   "cell_type": "code",
   "execution_count": 42,
   "metadata": {},
   "outputs": [],
   "source": [
    "x = range(6)"
   ]
  },
  {
   "cell_type": "code",
   "execution_count": 43,
   "metadata": {},
   "outputs": [],
   "source": [
    "x = dict(name=\"John\", age=36)"
   ]
  },
  {
   "cell_type": "code",
   "execution_count": 44,
   "metadata": {},
   "outputs": [],
   "source": [
    "x = set((\"apple\", \"banana\", \"cherry\"))"
   ]
  },
  {
   "cell_type": "code",
   "execution_count": 45,
   "metadata": {},
   "outputs": [],
   "source": [
    "x = frozenset((\"apple\", \"banana\", \"cherry\"))"
   ]
  },
  {
   "cell_type": "code",
   "execution_count": 46,
   "metadata": {},
   "outputs": [],
   "source": [
    "x = bool(5)"
   ]
  },
  {
   "cell_type": "code",
   "execution_count": 47,
   "metadata": {},
   "outputs": [],
   "source": [
    "x = bytes(5)"
   ]
  },
  {
   "cell_type": "code",
   "execution_count": 48,
   "metadata": {},
   "outputs": [],
   "source": [
    "x = bytearray(5)"
   ]
  },
  {
   "cell_type": "code",
   "execution_count": 23,
   "metadata": {},
   "outputs": [],
   "source": [
    "x = memoryview(bytes(5))"
   ]
  },
  {
   "cell_type": "markdown",
   "metadata": {},
   "source": [
    "---\n",
    "### User Input in python\n",
    "In python there are other ways of getting data input one of them is eighter assigning values directly or using Input function."
   ]
  },
  {
   "cell_type": "code",
   "execution_count": 4,
   "metadata": {},
   "outputs": [
    {
     "name": "stdout",
     "output_type": "stream",
     "text": [
      "value\n"
     ]
    }
   ],
   "source": [
    "# assigning value\n",
    "variable = \"value\"\n",
    "print (\"value\")"
   ]
  },
  {
   "cell_type": "code",
   "execution_count": 5,
   "metadata": {},
   "outputs": [
    {
     "name": "stdout",
     "output_type": "stream",
     "text": [
      "Input Text/String Here:32\n",
      "<class 'str'>\n",
      "32\n"
     ]
    }
   ],
   "source": [
    "# User input\n",
    "variable = input (\"Input Text/String Here:\")\n",
    "print (type(variable))\n",
    "print (variable)"
   ]
  },
  {
   "cell_type": "markdown",
   "metadata": {},
   "source": [
    "##### Notice:\n",
    "> The function **input()** takes user input as a string by default & to convert it into desired type ypu need to use explicit typecasting."
   ]
  },
  {
   "cell_type": "markdown",
   "metadata": {},
   "source": [
    "There are too many functions and keywords and it's impossible to cover them all at once. However many of them will be covered later in the journey.\n",
    "\n",
    "**Some of the basic functions are:**\n",
    "> enumerate(), float(), id(), input(), int(), len(), list(), max(), min(), print(), range(), tuple(), type()...etc.\n",
    "\n",
    "In python there's no end of function as you can also define your own functions if needed above mentioned are some commonly used functions."
   ]
  },
  {
   "cell_type": "markdown",
   "metadata": {},
   "source": [
    "----\n",
    "## Functions:\n",
    "A piece or a block of code that performs a specific task within a program. In python **def** keyword is used to initialized the code block as a function followed by function name with parenthesis followed by indentation. \n",
    "\n",
    "i.e. \n",
    "> **_def_** *funtion_name():*\n",
    ">\n",
    ">     statement_1\n",
    ">     statement_2\n",
    "\n",
    "In function a parameter can be passes under parenthesis however, it is not mandatory to pass a parameter to the function. It still will be usable same as it with parameters.\n",
    "\n",
    "i.e. \n",
    "> **_def_** *funtion_name(parameter):*\n",
    ">\n",
    ">     statement_1\n",
    ">     statement_2\n"
   ]
  },
  {
   "cell_type": "markdown",
   "metadata": {},
   "source": [
    "#### Example of function:"
   ]
  },
  {
   "cell_type": "code",
   "execution_count": 2,
   "metadata": {},
   "outputs": [
    {
     "name": "stdout",
     "output_type": "stream",
     "text": [
      "26\n"
     ]
    }
   ],
   "source": [
    "# Function without parameter\n",
    "def add():\n",
    "    num1 = 14\n",
    "    num2 = 12 \n",
    "    result = num1 + num2\n",
    "    return result\n",
    "\n",
    "print (add())"
   ]
  },
  {
   "cell_type": "code",
   "execution_count": 3,
   "metadata": {},
   "outputs": [
    {
     "name": "stdout",
     "output_type": "stream",
     "text": [
      "2\n"
     ]
    }
   ],
   "source": [
    "# Function with parameter\n",
    "def minus(num1, num2):\n",
    "    result = num1 - num2\n",
    "    return result\n",
    "\n",
    "print (minus(14, 12))"
   ]
  },
  {
   "cell_type": "markdown",
   "metadata": {},
   "source": [
    "**Note:**\n",
    "> ***return*** keyword is used to return any value but is totally optional means you can use **print()** function also to return values, In python the return value of a function can be any object."
   ]
  },
  {
   "cell_type": "markdown",
   "metadata": {},
   "source": [
    "------\n",
    "\n",
    "## Type Conversions\n",
    "Type conversion in any programming language is a method to convert (or represent) a certain data type into the other data type temporarily."
   ]
  },
  {
   "cell_type": "markdown",
   "metadata": {},
   "source": [
    "Data type conversions can be done in following way\n",
    "\n",
    "- ***Implicit Type Conversion:*** Conversion of data type done by interpreter automatically\n",
    "- ***Explicit Type Conversion***\n",
    "\n",
    "Let's take a example for both"
   ]
  },
  {
   "cell_type": "markdown",
   "metadata": {},
   "source": [
    "#### Implicit Type Conversion"
   ]
  },
  {
   "cell_type": "code",
   "execution_count": 4,
   "metadata": {},
   "outputs": [
    {
     "name": "stdout",
     "output_type": "stream",
     "text": [
      "<class 'int'>\n",
      "<class 'float'>\n",
      "12.56\n",
      "<class 'float'>\n",
      "<class 'int'>\n"
     ]
    }
   ],
   "source": [
    "# Implicit type conversion\n",
    "\n",
    "radius = 2\n",
    "print (type(radius))\n",
    "\n",
    "Pi = 3.14\n",
    "print (type(Pi))\n",
    "\n",
    "# Area of Circle\n",
    "Circle_area = Pi * (radius**2) # Implicit Type Conversion done before evaluating the expression\n",
    "\n",
    "# Result\n",
    "print (Circle_area)\n",
    "\n",
    "# Type of result\n",
    "print (type(Circle_area))\n",
    "\n",
    "# again checking the data type of variable\n",
    "print (type(radius))"
   ]
  },
  {
   "cell_type": "markdown",
   "metadata": {},
   "source": [
    "#### Explicit Type Conversion\n",
    "\n",
    "The conversion of one data type into another, done via user intervention or manually as per the requirement. It can be achieved with the help of Python’s built-in type conversion functions such as int(), float(), hex(), etc.\n",
    "\n",
    "Below are some basic type conversion discussed:\n",
    "Functions\n",
    "\n",
    "- `int()`\n",
    "\n",
    "- `float()`\n",
    "\n",
    "- `ord()`\n",
    "\n",
    "- `hex()`\n",
    "\n",
    "- `oct()`\n",
    "\n",
    "- `str()`"
   ]
  },
  {
   "cell_type": "markdown",
   "metadata": {},
   "source": [
    "#####  int()\n",
    "This function can convert a floating-point number or string into an integer data type. It consists of two parameters.\n",
    "\n",
    "- The first one i.e. `“x”` is the data type, which we want to convert into an integer data type.\n",
    "- The second one is base, which defines the number base. For example, a binary number has a base of 2. For an octal number, the base will be 8. The default value of the base is 10. If you want to convert the string data type into a decimal number, you need the base value to be 10.\n",
    "\n",
    "**syntax:** \n",
    "- int (x) : x will be converted into integer type \n",
    "- int (x, base) to convert x into integer given with it's base "
   ]
  },
  {
   "cell_type": "code",
   "execution_count": 7,
   "metadata": {},
   "outputs": [
    {
     "name": "stdout",
     "output_type": "stream",
     "text": [
      "21\n",
      "10101\n"
     ]
    }
   ],
   "source": [
    "# assigning string to x\n",
    "string = \"0010101\"\n",
    "\n",
    "# string type casted to int base 2\n",
    "base_two = int(string,2)\n",
    "\n",
    "# default base value 10\n",
    "base_ten = int(string)\n",
    "\n",
    "# Type casted into base 2\n",
    "print(base_two)\n",
    "\n",
    "# Type casted into default base value 10:\n",
    "print(base_ten)"
   ]
  },
  {
   "cell_type": "markdown",
   "metadata": {},
   "source": [
    "But there's a catch,\n",
    "if you pass some other values... the function will act differently"
   ]
  },
  {
   "cell_type": "code",
   "execution_count": 8,
   "metadata": {},
   "outputs": [
    {
     "ename": "SyntaxError",
     "evalue": "leading zeros in decimal integer literals are not permitted; use an 0o prefix for octal integers (2599259608.py, line 1)",
     "output_type": "error",
     "traceback": [
      "\u001b[0;36m  Cell \u001b[0;32mIn[8], line 1\u001b[0;36m\u001b[0m\n\u001b[0;31m    conv_num= int(02xd)\u001b[0m\n\u001b[0m                  ^\u001b[0m\n\u001b[0;31mSyntaxError\u001b[0m\u001b[0;31m:\u001b[0m leading zeros in decimal integer literals are not permitted; use an 0o prefix for octal integers\n"
     ]
    }
   ],
   "source": [
    "conv_num= int(02xd)\n",
    "\n",
    "# Will Throw Error\n",
    "print(conv_num)"
   ]
  },
  {
   "cell_type": "markdown",
   "metadata": {},
   "source": [
    "So, in order to conver such types of conversion there's a different function python provides. It will be discussed in a min."
   ]
  },
  {
   "cell_type": "markdown",
   "metadata": {},
   "source": [
    "##### float()\n",
    "Using `float()`, you can convert an integer or string into a floating-point number. It only accepts one parameter that is the value, which needs to be converted into a floating-point.\n",
    "\n",
    "**Syntax:** float(x)"
   ]
  },
  {
   "cell_type": "code",
   "execution_count": 10,
   "metadata": {},
   "outputs": [
    {
     "name": "stdout",
     "output_type": "stream",
     "text": [
      "10101.0\n",
      "85.0\n"
     ]
    }
   ],
   "source": [
    "# assigning string to x\n",
    "sample_str = \"0010101\"\n",
    "\n",
    "num = 85\n",
    "\n",
    "#type casting \n",
    "conv_str = float(sample_str)\n",
    "\n",
    "conv_num = float(num)\n",
    "\n",
    "# Results\n",
    "print(conv_str)\n",
    "\n",
    "print(conv_num)"
   ]
  },
  {
   "cell_type": "markdown",
   "metadata": {},
   "source": [
    "##### ord()\n",
    "The ord() function converts characters into their integer ASCII value. Basicaly, It is an integer value that is assigned to each character and symbol. So this ord() function helps to get the corresponding ASCII value of the given character.\n",
    "\n",
    "It takes single string character as a input and returns the integer value corresponding to the index of character in ASCII Table as an output.\n",
    "\n",
    "**Syntax:** ord(x)"
   ]
  },
  {
   "cell_type": "code",
   "execution_count": 8,
   "metadata": {},
   "outputs": [
    {
     "name": "stdout",
     "output_type": "stream",
     "text": [
      "<class 'str'>\n",
      "65\n",
      "53\n",
      "<class 'int'>\n"
     ]
    }
   ],
   "source": [
    "# Example \n",
    "\n",
    "character = 'A'\n",
    "\n",
    "alphabet = ord(character)\n",
    "\n",
    "number = ord('5')\n",
    "\n",
    "print(type('y'))\n",
    "\n",
    "# Ascii value of character 'Y':\n",
    "print(alphabet)\n",
    "\n",
    "# Ascii value of character digit '5':\n",
    "print(number)\n",
    "\n",
    "# Type of value ord returns\n",
    "print(type(number))"
   ]
  },
  {
   "cell_type": "markdown",
   "metadata": {},
   "source": [
    "##### hex()\n",
    "\n",
    "the hex() function, converts an integer into a hexadecimal string. \n",
    "\n",
    "**syntax:** hex(x)"
   ]
  },
  {
   "cell_type": "code",
   "execution_count": 14,
   "metadata": {},
   "outputs": [
    {
     "name": "stdout",
     "output_type": "stream",
     "text": [
      "0x2d\n",
      "<class 'str'>\n"
     ]
    }
   ],
   "source": [
    "# Example\n",
    "\n",
    "# int to hex\n",
    "num = 45\n",
    "\n",
    "conv_num = hex(num)\n",
    "\n",
    "# Integer type-casted into hexadecimal string \n",
    "print(conv_num)\n",
    "\n",
    "print (type(conv_num))"
   ]
  },
  {
   "cell_type": "markdown",
   "metadata": {},
   "source": [
    "This function only allows integers to be changed into hexadecimal.\n",
    "\n",
    "**Proof**"
   ]
  },
  {
   "cell_type": "code",
   "execution_count": 15,
   "metadata": {},
   "outputs": [
    {
     "ename": "TypeError",
     "evalue": "'float' object cannot be interpreted as an integer",
     "output_type": "error",
     "traceback": [
      "\u001b[0;31m---------------------------------------------------------------------------\u001b[0m",
      "\u001b[0;31mTypeError\u001b[0m                                 Traceback (most recent call last)",
      "Cell \u001b[0;32mIn[15], line 4\u001b[0m\n\u001b[1;32m      1\u001b[0m \u001b[38;5;66;03m# Example: Float to Hex\u001b[39;00m\n\u001b[1;32m      2\u001b[0m num \u001b[38;5;241m=\u001b[39m \u001b[38;5;241m45.6\u001b[39m\n\u001b[0;32m----> 4\u001b[0m conv_num \u001b[38;5;241m=\u001b[39m \u001b[38;5;28;43mhex\u001b[39;49m\u001b[43m(\u001b[49m\u001b[43mnum\u001b[49m\u001b[43m)\u001b[49m\n\u001b[1;32m      6\u001b[0m \u001b[38;5;66;03m# Float does not type-cast into hexadecimal string \u001b[39;00m\n\u001b[1;32m      7\u001b[0m \u001b[38;5;28mprint\u001b[39m(conv_num)\n",
      "\u001b[0;31mTypeError\u001b[0m: 'float' object cannot be interpreted as an integer"
     ]
    }
   ],
   "source": [
    "# Example: Float to Hex\n",
    "num = 45.6\n",
    "\n",
    "conv_num = hex(num)\n",
    "\n",
    "# Float does not type-cast into hexadecimal string \n",
    "print(conv_num)"
   ]
  },
  {
   "cell_type": "markdown",
   "metadata": {},
   "source": [
    "##### oct()\n",
    "Just like the hex function, this function only converts an integer into an octal string."
   ]
  },
  {
   "cell_type": "code",
   "execution_count": 16,
   "metadata": {},
   "outputs": [
    {
     "name": "stdout",
     "output_type": "stream",
     "text": [
      "0o55\n"
     ]
    }
   ],
   "source": [
    "# int to octal\n",
    "value = 45\n",
    "\n",
    "conv_vaL = oct(value)\n",
    "\n",
    "# Integer type-casted into octal string\n",
    "print(conv_vaL)"
   ]
  },
  {
   "cell_type": "markdown",
   "metadata": {},
   "source": [
    "##### str()\n",
    "\n",
    "The str() function is used to convert any data type into the string data type. It comes in handy when we want to make use of the wide range of string functions of Python like count(), length(), upper(), lower() etc."
   ]
  },
  {
   "cell_type": "code",
   "execution_count": 22,
   "metadata": {},
   "outputs": [
    {
     "name": "stdout",
     "output_type": "stream",
     "text": [
      "<class 'int'>\n",
      "<class 'int'>\n",
      "121\n",
      "42.0\n",
      "<class 'str'>\n"
     ]
    }
   ],
   "source": [
    "# Example\n",
    "\n",
    "a = 121\n",
    "\n",
    "b = 42.0\n",
    "\n",
    "print(type(a))\n",
    "\n",
    "print(type(a))\n",
    "\n",
    "# Integer into String\n",
    "print(str(a))\n",
    "\n",
    "# Floating point into String\n",
    "print(str(b))\n",
    "\n",
    "print(type(str(a)))"
   ]
  },
  {
   "cell_type": "markdown",
   "metadata": {},
   "source": [
    "We will discuss about strings later in detail as Python deals differently with strings and some other data types such as list, tuples...etc "
   ]
  },
  {
   "cell_type": "markdown",
   "metadata": {},
   "source": [
    "## Summary\n",
    "- Reserved Keywords in Python\n",
    "- Variable & Data Types\n",
    "- User Input\n",
    "- Functions & Keywords\n",
    "- Type Conversion of Numeric data types & Text data types"
   ]
  },
  {
   "cell_type": "markdown",
   "metadata": {},
   "source": [
    "**Thanks,**\n",
    "\n",
    "SK"
   ]
  }
 ],
 "metadata": {
  "kernelspec": {
   "display_name": "Python 3 (ipykernel)",
   "language": "python",
   "name": "python3"
  },
  "language_info": {
   "codemirror_mode": {
    "name": "ipython",
    "version": 3
   },
   "file_extension": ".py",
   "mimetype": "text/x-python",
   "name": "python",
   "nbconvert_exporter": "python",
   "pygments_lexer": "ipython3",
   "version": "3.11.4"
  }
 },
 "nbformat": 4,
 "nbformat_minor": 4
}
